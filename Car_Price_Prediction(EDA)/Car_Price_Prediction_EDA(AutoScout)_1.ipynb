{
 "cells": [
  {
   "cell_type": "markdown",
   "metadata": {
    "id": "Bkw3_pB0s1L-"
   },
   "source": [
    "\n",
    "## <p style=\"background-color:#FDFEFE; font-family:newtimeroman; color:#060108; font-size:200%; text-align:center; border-radius:10px 10px;\">Data Analysis and Visualization with Python</p>\n",
    "\n",
    "## <p style=\"background-color:#FDFEFE; font-family:newtimeroman; color:#060108; font-size:200%; text-align:center; border-radius:10px 10px;\">The Exploratory Data Analysis (EDA) Project</p>\n",
    "\n",
    "<img src=https://i.ibb.co/wJW61Y2/Used-cars.jpg width=\"700\" height=\"200\">\n",
    "\n",
    "## <p style=\"background-color:#FDFEFE; font-family:newtimeroman; color:#060108; font-size:200%; text-align:center; border-radius:10px 10px;\">AutoScout Car Price Prediction EDA</p>\n",
    "\n"
   ]
  },
  {
   "cell_type": "markdown",
   "metadata": {
    "id": "Z_oWczxZs1MA"
   },
   "source": [
    "## Introduction\n",
    "Welcome to \"***AutoScout Exploratory Data Analysis (EDA) Project***\". This is the project of completing ***Data Analysis & Data Visualization*** Courses from Clarusway. **Auto Scout** data used in this project scraped from the Website of an online car trading company in 2022, and contains many features of 13 different car makes including 594 models. In this project, I apply many commonly used algorithms for Data Cleaning and Exploratory Data Analysis by using a variety of Python libraries, such as Numpy, Pandas, Matplotlib, Seaborn, Scipy, and then I get a clean dataset for  analysis and pretictive modelling in Machine Learning Path. \n",
    "\n",
    "**``In this context, the project consists of 3 parts in general:``**\n",
    "* **The first part** is related to ``'Data Cleaning'``. It deals with Incorrect Headers, Incorrect Format, Anomalies, and Dropping useless columns.\n",
    "* **The second part** is related to ``'Filling Data'``, in other words 'Imputation'. It deals with Missing Values. Categorical to numeric transformation, Encoding, is done as well.\n",
    "* **The third part** is related to ``'Handling Outliers of Data'`` via Visualization libraries. So, some insights will be extracted.\n",
    "\n",
    "\n",
    "\n",
    "### Some Reminders on Exploratory data analysis (EDA)\n",
    "\n",
    "Exploratory data analysis (EDA) is an especially important activity in the routine of a data analyst or scientist. It enables an in depth understanding of the dataset, define or discard hypotheses and create predictive models on a solid basis. It uses data manipulation techniques and several statistical tools to describe and understand the relationship between variables and how these can impact business. By means of EDA, we can obtain meaningful insights that can impact analysis under the following questions (If a checklist is good enough for pilots to use every flight, it’s good enough for data scientists to use with every dataset).\n",
    "1. What question are you trying to solve (or prove wrong)?\n",
    "2. What kind of data do you have?\n",
    "3. What’s missing from the data?\n",
    "4. Where are the outliers?\n",
    "5. How can you add, change or remove features to get more out of your data?\n",
    "\n",
    "**``Exploratory data analysis (EDA)``** is often an **iterative brainstorming process** where you pose a question, review the data, and develop further questions to investigate before beginning model development work. The image below shows how the brainstorming phase is connected with that of understanding the variables and how this in turn is connected again with the brainstorming phase.<br>\n",
    "\n",
    "<img src=https://i.ibb.co/k0MC950/EDA-Process.png width=\"300\" height=\"100\">\n",
    "\n",
    "[Image Credit: Andrew D.](https://towardsdatascience.com/exploratory-data-analysis-in-python-a-step-by-step-process-d0dfa6bf94ee)\n",
    "\n"
   ]
  },
  {
   "cell_type": "markdown",
   "metadata": {
    "id": "vvgJ5KWTs1MB"
   },
   "source": [
    "# PART- 1 `( Data Cleaning )`"
   ]
  },
  {
   "cell_type": "markdown",
   "metadata": {},
   "source": [
    "## Incorrect Headers, Incorrect Format, Anomalies, and Dropping useless columns"
   ]
  },
  {
   "cell_type": "code",
   "execution_count": 1,
   "metadata": {
    "id": "Y13_gId7s1MC"
   },
   "outputs": [],
   "source": [
    "# Import the libraries\n",
    "\n",
    "import numpy as np\n",
    "import pandas as pd\n",
    "import seaborn as sns\n",
    "import matplotlib.pyplot as plt\n",
    "import re\n",
    "# !pip install termcolor\n",
    "from termcolor import colored\n",
    "from pandas.plotting import register_matplotlib_converters\n",
    "from pylab import rcParams"
   ]
  },
  {
   "cell_type": "code",
   "execution_count": 2,
   "metadata": {},
   "outputs": [],
   "source": [
    "# Set it None to display all rows in the dataframe\n",
    "# pd.set_option('display.max_rows', None)\n",
    "# pd.set_option('display.max_rows', df.shape[0]+1)\n",
    "\n",
    "# Set it to None to display all columns in the dataframe\n",
    "pd.set_option('display.max_columns', None)"
   ]
  },
  {
   "cell_type": "code",
   "execution_count": 3,
   "metadata": {
    "scrolled": true
   },
   "outputs": [
    {
     "data": {
      "text/html": [
       "<div>\n",
       "<style scoped>\n",
       "    .dataframe tbody tr th:only-of-type {\n",
       "        vertical-align: middle;\n",
       "    }\n",
       "\n",
       "    .dataframe tbody tr th {\n",
       "        vertical-align: top;\n",
       "    }\n",
       "\n",
       "    .dataframe thead th {\n",
       "        text-align: right;\n",
       "    }\n",
       "</style>\n",
       "<table border=\"1\" class=\"dataframe\">\n",
       "  <thead>\n",
       "    <tr style=\"text-align: right;\">\n",
       "      <th></th>\n",
       "      <th>21176</th>\n",
       "      <th>2175</th>\n",
       "    </tr>\n",
       "  </thead>\n",
       "  <tbody>\n",
       "    <tr>\n",
       "      <th>make_model</th>\n",
       "      <td>Nissan Pulsar</td>\n",
       "      <td>Mercedes-Benz E 300</td>\n",
       "    </tr>\n",
       "    <tr>\n",
       "      <th>short_description</th>\n",
       "      <td>1.5dCi N-CONNECTA</td>\n",
       "      <td>de / EQ POWER-PLUG IN HYBRID / SCHIEBDACH</td>\n",
       "    </tr>\n",
       "    <tr>\n",
       "      <th>make</th>\n",
       "      <td>\\nNissan\\n</td>\n",
       "      <td>\\nMercedes-Benz\\n</td>\n",
       "    </tr>\n",
       "    <tr>\n",
       "      <th>model</th>\n",
       "      <td>[\\n, Pulsar ,\\n]</td>\n",
       "      <td>[\\n, E 300 ,\\n]</td>\n",
       "    </tr>\n",
       "    <tr>\n",
       "      <th>location</th>\n",
       "      <td>Ctra. del Mig, 96,,  08097 L'Hospitalet de Llo...</td>\n",
       "      <td>Am Marschallfeld 25,  83626 Valley ( bei Münch...</td>\n",
       "    </tr>\n",
       "    <tr>\n",
       "      <th>price</th>\n",
       "      <td>€ 13,490.-</td>\n",
       "      <td>€ 54,950.-</td>\n",
       "    </tr>\n",
       "    <tr>\n",
       "      <th>Body type</th>\n",
       "      <td>[\\n, Sedan, \\n]</td>\n",
       "      <td>[\\n, Sedan, \\n]</td>\n",
       "    </tr>\n",
       "    <tr>\n",
       "      <th>Type</th>\n",
       "      <td>[\\n, Used, \\n]</td>\n",
       "      <td>[\\n, Used, \\n]</td>\n",
       "    </tr>\n",
       "    <tr>\n",
       "      <th>Doors</th>\n",
       "      <td>[\\n, 5, \\n]</td>\n",
       "      <td>[\\n, 4, \\n]</td>\n",
       "    </tr>\n",
       "    <tr>\n",
       "      <th>Country version</th>\n",
       "      <td>[\\n, Spain, \\n]</td>\n",
       "      <td>[\\n, Germany, \\n]</td>\n",
       "    </tr>\n",
       "    <tr>\n",
       "      <th>Offer number</th>\n",
       "      <td>[\\n, 7306903, \\n]</td>\n",
       "      <td>NaN</td>\n",
       "    </tr>\n",
       "    <tr>\n",
       "      <th>Warranty</th>\n",
       "      <td>[\\n, 12 months, \\n]</td>\n",
       "      <td>NaN</td>\n",
       "    </tr>\n",
       "    <tr>\n",
       "      <th>Mileage</th>\n",
       "      <td>102,813 km</td>\n",
       "      <td>17,200 km</td>\n",
       "    </tr>\n",
       "    <tr>\n",
       "      <th>First registration</th>\n",
       "      <td>01/2017</td>\n",
       "      <td>05/2021</td>\n",
       "    </tr>\n",
       "    <tr>\n",
       "      <th>Gearbox</th>\n",
       "      <td>[\\nManual\\n]</td>\n",
       "      <td>[\\nAutomatic\\n]</td>\n",
       "    </tr>\n",
       "    <tr>\n",
       "      <th>Fuel type</th>\n",
       "      <td>Diesel</td>\n",
       "      <td>NaN</td>\n",
       "    </tr>\n",
       "    <tr>\n",
       "      <th>Colour</th>\n",
       "      <td>Grey</td>\n",
       "      <td>Black</td>\n",
       "    </tr>\n",
       "    <tr>\n",
       "      <th>Paint</th>\n",
       "      <td>NaN</td>\n",
       "      <td>Metallic</td>\n",
       "    </tr>\n",
       "    <tr>\n",
       "      <th>desc</th>\n",
       "      <td>[ , Precio al contado: 16490 euros,  , Para co...</td>\n",
       "      <td>[Preis netto: 46.176.-, uvb. Neupreis: 72.026....</td>\n",
       "    </tr>\n",
       "    <tr>\n",
       "      <th>seller</th>\n",
       "      <td>Dealer</td>\n",
       "      <td>Dealer</td>\n",
       "    </tr>\n",
       "    <tr>\n",
       "      <th>Seats</th>\n",
       "      <td>NaN</td>\n",
       "      <td>[\\n, 5, \\n]</td>\n",
       "    </tr>\n",
       "    <tr>\n",
       "      <th>Power</th>\n",
       "      <td>[\\n81 kW (110 hp)\\n]</td>\n",
       "      <td>[\\n225 kW (306 hp)\\n]</td>\n",
       "    </tr>\n",
       "    <tr>\n",
       "      <th>Engine size</th>\n",
       "      <td>[\\n1,500 cc\\n]</td>\n",
       "      <td>[\\n1,950 cc\\n]</td>\n",
       "    </tr>\n",
       "    <tr>\n",
       "      <th>Gears</th>\n",
       "      <td>NaN</td>\n",
       "      <td>[\\n9\\n]</td>\n",
       "    </tr>\n",
       "    <tr>\n",
       "      <th>CO₂-emissions</th>\n",
       "      <td>NaN</td>\n",
       "      <td>37 g/km (comb.)</td>\n",
       "    </tr>\n",
       "    <tr>\n",
       "      <th>Manufacturer colour</th>\n",
       "      <td>Gris</td>\n",
       "      <td>OBSIDIANSCHWARZ - METALLICLACK</td>\n",
       "    </tr>\n",
       "    <tr>\n",
       "      <th>Drivetrain</th>\n",
       "      <td>NaN</td>\n",
       "      <td>NaN</td>\n",
       "    </tr>\n",
       "    <tr>\n",
       "      <th>Cylinders</th>\n",
       "      <td>NaN</td>\n",
       "      <td>[\\n4\\n]</td>\n",
       "    </tr>\n",
       "    <tr>\n",
       "      <th>Fuel consumption</th>\n",
       "      <td>[[3.6 l/100 km (comb.)], [4.1 l/100 km (city)]...</td>\n",
       "      <td>[[2.2 l/100 km (comb.)]]</td>\n",
       "    </tr>\n",
       "    <tr>\n",
       "      <th>\\nComfort &amp; Convenience\\n</th>\n",
       "      <td>NaN</td>\n",
       "      <td>[Air conditioning, Armrest, Automatic climate ...</td>\n",
       "    </tr>\n",
       "    <tr>\n",
       "      <th>\\nEntertainment &amp; Media\\n</th>\n",
       "      <td>NaN</td>\n",
       "      <td>[Android Auto, Apple CarPlay, Bluetooth, Digit...</td>\n",
       "    </tr>\n",
       "    <tr>\n",
       "      <th>\\nSafety &amp; Security\\n</th>\n",
       "      <td>NaN</td>\n",
       "      <td>[ABS, Adaptive headlights, Blind spot monitor,...</td>\n",
       "    </tr>\n",
       "    <tr>\n",
       "      <th>\\nExtras\\n</th>\n",
       "      <td>NaN</td>\n",
       "      <td>[Alloy wheels, Ambient lighting, Automatically...</td>\n",
       "    </tr>\n",
       "    <tr>\n",
       "      <th>Empty weight</th>\n",
       "      <td>NaN</td>\n",
       "      <td>[\\n2,060 kg\\n]</td>\n",
       "    </tr>\n",
       "    <tr>\n",
       "      <th>Model code</th>\n",
       "      <td>NaN</td>\n",
       "      <td>[\\n, 2222/AIO, \\n]</td>\n",
       "    </tr>\n",
       "    <tr>\n",
       "      <th>General inspection</th>\n",
       "      <td>NaN</td>\n",
       "      <td>NaN</td>\n",
       "    </tr>\n",
       "    <tr>\n",
       "      <th>Last service</th>\n",
       "      <td>NaN</td>\n",
       "      <td>NaN</td>\n",
       "    </tr>\n",
       "    <tr>\n",
       "      <th>Full service history</th>\n",
       "      <td>NaN</td>\n",
       "      <td>Yes</td>\n",
       "    </tr>\n",
       "    <tr>\n",
       "      <th>Non-smoker vehicle</th>\n",
       "      <td>NaN</td>\n",
       "      <td>NaN</td>\n",
       "    </tr>\n",
       "    <tr>\n",
       "      <th>Emission class</th>\n",
       "      <td>NaN</td>\n",
       "      <td>Euro 6d</td>\n",
       "    </tr>\n",
       "    <tr>\n",
       "      <th>Emissions sticker</th>\n",
       "      <td>NaN</td>\n",
       "      <td>4 (Green)</td>\n",
       "    </tr>\n",
       "    <tr>\n",
       "      <th>Upholstery colour</th>\n",
       "      <td>NaN</td>\n",
       "      <td>Black</td>\n",
       "    </tr>\n",
       "    <tr>\n",
       "      <th>Upholstery</th>\n",
       "      <td>NaN</td>\n",
       "      <td>Part leather</td>\n",
       "    </tr>\n",
       "    <tr>\n",
       "      <th>Production date</th>\n",
       "      <td>NaN</td>\n",
       "      <td>NaN</td>\n",
       "    </tr>\n",
       "    <tr>\n",
       "      <th>Previous owner</th>\n",
       "      <td>NaN</td>\n",
       "      <td>[[17,200 km, 05/2021], 1]</td>\n",
       "    </tr>\n",
       "    <tr>\n",
       "      <th>Other fuel types</th>\n",
       "      <td>NaN</td>\n",
       "      <td>Electricity</td>\n",
       "    </tr>\n",
       "    <tr>\n",
       "      <th>Power consumption</th>\n",
       "      <td>NaN</td>\n",
       "      <td>NaN</td>\n",
       "    </tr>\n",
       "    <tr>\n",
       "      <th>Energy efficiency class</th>\n",
       "      <td>NaN</td>\n",
       "      <td>NaN</td>\n",
       "    </tr>\n",
       "    <tr>\n",
       "      <th>CO₂-efficiency</th>\n",
       "      <td>NaN</td>\n",
       "      <td>NaN</td>\n",
       "    </tr>\n",
       "    <tr>\n",
       "      <th>Fuel consumption (WLTP)</th>\n",
       "      <td>NaN</td>\n",
       "      <td>NaN</td>\n",
       "    </tr>\n",
       "    <tr>\n",
       "      <th>CO₂-emissions (WLTP)</th>\n",
       "      <td>NaN</td>\n",
       "      <td>NaN</td>\n",
       "    </tr>\n",
       "    <tr>\n",
       "      <th>Available from</th>\n",
       "      <td>NaN</td>\n",
       "      <td>NaN</td>\n",
       "    </tr>\n",
       "    <tr>\n",
       "      <th>Taxi or rental car</th>\n",
       "      <td>NaN</td>\n",
       "      <td>NaN</td>\n",
       "    </tr>\n",
       "    <tr>\n",
       "      <th>Availability</th>\n",
       "      <td>NaN</td>\n",
       "      <td>NaN</td>\n",
       "    </tr>\n",
       "    <tr>\n",
       "      <th>Last timing belt change</th>\n",
       "      <td>NaN</td>\n",
       "      <td>NaN</td>\n",
       "    </tr>\n",
       "    <tr>\n",
       "      <th>Electric Range (WLTP)</th>\n",
       "      <td>NaN</td>\n",
       "      <td>NaN</td>\n",
       "    </tr>\n",
       "    <tr>\n",
       "      <th>Power consumption (WLTP)</th>\n",
       "      <td>NaN</td>\n",
       "      <td>NaN</td>\n",
       "    </tr>\n",
       "    <tr>\n",
       "      <th>Battery Ownership</th>\n",
       "      <td>NaN</td>\n",
       "      <td>NaN</td>\n",
       "    </tr>\n",
       "  </tbody>\n",
       "</table>\n",
       "</div>"
      ],
      "text/plain": [
       "                                                                       21176  \\\n",
       "make_model                                                     Nissan Pulsar   \n",
       "short_description                                          1.5dCi N-CONNECTA   \n",
       "make                                                              \\nNissan\\n   \n",
       "model                                                       [\\n, Pulsar ,\\n]   \n",
       "location                   Ctra. del Mig, 96,,  08097 L'Hospitalet de Llo...   \n",
       "price                                                             € 13,490.-   \n",
       "Body type                                                    [\\n, Sedan, \\n]   \n",
       "Type                                                          [\\n, Used, \\n]   \n",
       "Doors                                                            [\\n, 5, \\n]   \n",
       "Country version                                              [\\n, Spain, \\n]   \n",
       "Offer number                                               [\\n, 7306903, \\n]   \n",
       "Warranty                                                 [\\n, 12 months, \\n]   \n",
       "Mileage                                                           102,813 km   \n",
       "First registration                                                   01/2017   \n",
       "Gearbox                                                         [\\nManual\\n]   \n",
       "Fuel type                                                             Diesel   \n",
       "Colour                                                                  Grey   \n",
       "Paint                                                                    NaN   \n",
       "desc                       [ , Precio al contado: 16490 euros,  , Para co...   \n",
       "seller                                                                Dealer   \n",
       "Seats                                                                    NaN   \n",
       "Power                                                   [\\n81 kW (110 hp)\\n]   \n",
       "Engine size                                                   [\\n1,500 cc\\n]   \n",
       "Gears                                                                    NaN   \n",
       "CO₂-emissions                                                            NaN   \n",
       "Manufacturer colour                                                     Gris   \n",
       "Drivetrain                                                               NaN   \n",
       "Cylinders                                                                NaN   \n",
       "Fuel consumption           [[3.6 l/100 km (comb.)], [4.1 l/100 km (city)]...   \n",
       "\\nComfort & Convenience\\n                                                NaN   \n",
       "\\nEntertainment & Media\\n                                                NaN   \n",
       "\\nSafety & Security\\n                                                    NaN   \n",
       "\\nExtras\\n                                                               NaN   \n",
       "Empty weight                                                             NaN   \n",
       "Model code                                                               NaN   \n",
       "General inspection                                                       NaN   \n",
       "Last service                                                             NaN   \n",
       "Full service history                                                     NaN   \n",
       "Non-smoker vehicle                                                       NaN   \n",
       "Emission class                                                           NaN   \n",
       "Emissions sticker                                                        NaN   \n",
       "Upholstery colour                                                        NaN   \n",
       "Upholstery                                                               NaN   \n",
       "Production date                                                          NaN   \n",
       "Previous owner                                                           NaN   \n",
       "Other fuel types                                                         NaN   \n",
       "Power consumption                                                        NaN   \n",
       "Energy efficiency class                                                  NaN   \n",
       "CO₂-efficiency                                                           NaN   \n",
       "Fuel consumption (WLTP)                                                  NaN   \n",
       "CO₂-emissions (WLTP)                                                     NaN   \n",
       "Available from                                                           NaN   \n",
       "Taxi or rental car                                                       NaN   \n",
       "Availability                                                             NaN   \n",
       "Last timing belt change                                                  NaN   \n",
       "Electric Range (WLTP)                                                    NaN   \n",
       "Power consumption (WLTP)                                                 NaN   \n",
       "Battery Ownership                                                        NaN   \n",
       "\n",
       "                                                                       2175   \n",
       "make_model                                               Mercedes-Benz E 300  \n",
       "short_description                  de / EQ POWER-PLUG IN HYBRID / SCHIEBDACH  \n",
       "make                                                       \\nMercedes-Benz\\n  \n",
       "model                                                        [\\n, E 300 ,\\n]  \n",
       "location                   Am Marschallfeld 25,  83626 Valley ( bei Münch...  \n",
       "price                                                             € 54,950.-  \n",
       "Body type                                                    [\\n, Sedan, \\n]  \n",
       "Type                                                          [\\n, Used, \\n]  \n",
       "Doors                                                            [\\n, 4, \\n]  \n",
       "Country version                                            [\\n, Germany, \\n]  \n",
       "Offer number                                                             NaN  \n",
       "Warranty                                                                 NaN  \n",
       "Mileage                                                            17,200 km  \n",
       "First registration                                                   05/2021  \n",
       "Gearbox                                                      [\\nAutomatic\\n]  \n",
       "Fuel type                                                                NaN  \n",
       "Colour                                                                 Black  \n",
       "Paint                                                               Metallic  \n",
       "desc                       [Preis netto: 46.176.-, uvb. Neupreis: 72.026....  \n",
       "seller                                                                Dealer  \n",
       "Seats                                                            [\\n, 5, \\n]  \n",
       "Power                                                  [\\n225 kW (306 hp)\\n]  \n",
       "Engine size                                                   [\\n1,950 cc\\n]  \n",
       "Gears                                                                [\\n9\\n]  \n",
       "CO₂-emissions                                                37 g/km (comb.)  \n",
       "Manufacturer colour                           OBSIDIANSCHWARZ - METALLICLACK  \n",
       "Drivetrain                                                               NaN  \n",
       "Cylinders                                                            [\\n4\\n]  \n",
       "Fuel consumption                                    [[2.2 l/100 km (comb.)]]  \n",
       "\\nComfort & Convenience\\n  [Air conditioning, Armrest, Automatic climate ...  \n",
       "\\nEntertainment & Media\\n  [Android Auto, Apple CarPlay, Bluetooth, Digit...  \n",
       "\\nSafety & Security\\n      [ABS, Adaptive headlights, Blind spot monitor,...  \n",
       "\\nExtras\\n                 [Alloy wheels, Ambient lighting, Automatically...  \n",
       "Empty weight                                                  [\\n2,060 kg\\n]  \n",
       "Model code                                                [\\n, 2222/AIO, \\n]  \n",
       "General inspection                                                       NaN  \n",
       "Last service                                                             NaN  \n",
       "Full service history                                                     Yes  \n",
       "Non-smoker vehicle                                                       NaN  \n",
       "Emission class                                                       Euro 6d  \n",
       "Emissions sticker                                                  4 (Green)  \n",
       "Upholstery colour                                                      Black  \n",
       "Upholstery                                                      Part leather  \n",
       "Production date                                                          NaN  \n",
       "Previous owner                                     [[17,200 km, 05/2021], 1]  \n",
       "Other fuel types                                                 Electricity  \n",
       "Power consumption                                                        NaN  \n",
       "Energy efficiency class                                                  NaN  \n",
       "CO₂-efficiency                                                           NaN  \n",
       "Fuel consumption (WLTP)                                                  NaN  \n",
       "CO₂-emissions (WLTP)                                                     NaN  \n",
       "Available from                                                           NaN  \n",
       "Taxi or rental car                                                       NaN  \n",
       "Availability                                                             NaN  \n",
       "Last timing belt change                                                  NaN  \n",
       "Electric Range (WLTP)                                                    NaN  \n",
       "Power consumption (WLTP)                                                 NaN  \n",
       "Battery Ownership                                                        NaN  "
      ]
     },
     "execution_count": 3,
     "metadata": {},
     "output_type": "execute_result"
    }
   ],
   "source": [
    "# Read data in json form\n",
    "df0 = pd.read_json('as24_cars.json')\n",
    "\n",
    "# Make a copy\n",
    "df = df0.copy()\n",
    "\n",
    "# Show some records\n",
    "df.sample(2).T"
   ]
  },
  {
   "cell_type": "markdown",
   "metadata": {},
   "source": [
    "In the samples we looked at, it is clear that most columns of the data are dirty. So let's change the column names and extract the useful information from the columns. Then bring it to the appropriate form."
   ]
  },
  {
   "cell_type": "code",
   "execution_count": 4,
   "metadata": {
    "scrolled": true
   },
   "outputs": [
    {
     "data": {
      "text/plain": [
       "Index(['make_model', 'short_description', 'make', 'model', 'location', 'price',\n",
       "       'Body type', 'Type', 'Doors', 'Country version', 'Offer number',\n",
       "       'Warranty', 'Mileage', 'First registration', 'Gearbox', 'Fuel type',\n",
       "       'Colour', 'Paint', 'desc', 'seller', 'Seats', 'Power', 'Engine size',\n",
       "       'Gears', 'CO₂-emissions', 'Manufacturer colour', 'Drivetrain',\n",
       "       'Cylinders', 'Fuel consumption', '\\nComfort & Convenience\\n',\n",
       "       '\\nEntertainment & Media\\n', '\\nSafety & Security\\n', '\\nExtras\\n',\n",
       "       'Empty weight', 'Model code', 'General inspection', 'Last service',\n",
       "       'Full service history', 'Non-smoker vehicle', 'Emission class',\n",
       "       'Emissions sticker', 'Upholstery colour', 'Upholstery',\n",
       "       'Production date', 'Previous owner', 'Other fuel types',\n",
       "       'Power consumption', 'Energy efficiency class', 'CO₂-efficiency',\n",
       "       'Fuel consumption (WLTP)', 'CO₂-emissions (WLTP)', 'Available from',\n",
       "       'Taxi or rental car', 'Availability', 'Last timing belt change',\n",
       "       'Electric Range (WLTP)', 'Power consumption (WLTP)',\n",
       "       'Battery Ownership'],\n",
       "      dtype='object')"
      ]
     },
     "execution_count": 4,
     "metadata": {},
     "output_type": "execute_result"
    }
   ],
   "source": [
    "# Make the name of columns in a format\n",
    "df.columns"
   ]
  },
  {
   "cell_type": "markdown",
   "metadata": {},
   "source": [
    "#### Rename the name of columns"
   ]
  },
  {
   "cell_type": "code",
   "execution_count": 5,
   "metadata": {},
   "outputs": [],
   "source": [
    "df.columns = ['make_model', 'short_description', 'make', 'model', 'location', 'price',\n",
    "       'body_type', 'type', 'doors', 'country_version', 'offer_number',\n",
    "       'warranty', 'mileage', 'first_registration', 'gearbox', 'fuel_type',\n",
    "       'colour', 'paint', 'desc', 'seller', 'seats', 'power', 'engine_size',\n",
    "       'gears', 'CO2_emissions', 'manufacturer_colour', 'drivetrain',\n",
    "       'cylinders', 'fuel_consumption', 'comfort_convenience',\n",
    "       'entertainment_media', 'safety_security', 'extras',\n",
    "       'empty_weight', 'model_code', 'general_inspection', 'last_service',\n",
    "       'full_service_history', 'nonsmoker_vehicle', 'emission_class',\n",
    "       'emissions_sticker', 'upholstery_colour', 'upholstery',\n",
    "       'production_date', 'previous_owner', 'other_fuel_types',\n",
    "       'power_consumption', 'energy_efficiency_class', 'CO2_efficiency',\n",
    "       'fuel_consumption(WLTP)', 'CO2_emissions(WLTP)', 'available_from',\n",
    "       'taxi_or_rentalcar', 'availability', 'last_timing_belt_change',\n",
    "       'electric_range(WLTP)', 'power_consumption(WLTP)',\n",
    "       'battery_ownership']"
   ]
  },
  {
   "cell_type": "code",
   "execution_count": 6,
   "metadata": {},
   "outputs": [],
   "source": [
    "from termcolor import cprint\n",
    "def missing_values(df):\n",
    "    cprint('Missing Value Information Per Column:\\n', 'blue', attrs=['bold'])\n",
    "    missing_count = df.isnull().sum().sort_values()\n",
    "    missing_percent = (df.isnull().sum() / df.shape[0] * 100).sort_values()\n",
    "    missing_values = pd.concat({'Missing_Count': missing_count, 'Missing_Percentage %' : missing_percent}, axis=1)\n",
    "    return missing_values[missing_values['Missing_Count']>0]"
   ]
  },
  {
   "cell_type": "code",
   "execution_count": 7,
   "metadata": {},
   "outputs": [
    {
     "name": "stdout",
     "output_type": "stream",
     "text": [
      "\u001b[1m\u001b[34mMissing Value Information Per Column:\n",
      "\u001b[0m\n"
     ]
    },
    {
     "data": {
      "text/html": [
       "<div>\n",
       "<style scoped>\n",
       "    .dataframe tbody tr th:only-of-type {\n",
       "        vertical-align: middle;\n",
       "    }\n",
       "\n",
       "    .dataframe tbody tr th {\n",
       "        vertical-align: top;\n",
       "    }\n",
       "\n",
       "    .dataframe thead th {\n",
       "        text-align: right;\n",
       "    }\n",
       "</style>\n",
       "<table border=\"1\" class=\"dataframe\">\n",
       "  <thead>\n",
       "    <tr style=\"text-align: right;\">\n",
       "      <th></th>\n",
       "      <th>Missing_Count</th>\n",
       "      <th>Missing_Percentage %</th>\n",
       "    </tr>\n",
       "  </thead>\n",
       "  <tbody>\n",
       "    <tr>\n",
       "      <th>make_model</th>\n",
       "      <td>850</td>\n",
       "      <td>2.883311</td>\n",
       "    </tr>\n",
       "    <tr>\n",
       "      <th>short_description</th>\n",
       "      <td>850</td>\n",
       "      <td>2.883311</td>\n",
       "    </tr>\n",
       "    <tr>\n",
       "      <th>make</th>\n",
       "      <td>850</td>\n",
       "      <td>2.883311</td>\n",
       "    </tr>\n",
       "    <tr>\n",
       "      <th>model</th>\n",
       "      <td>850</td>\n",
       "      <td>2.883311</td>\n",
       "    </tr>\n",
       "    <tr>\n",
       "      <th>location</th>\n",
       "      <td>850</td>\n",
       "      <td>2.883311</td>\n",
       "    </tr>\n",
       "    <tr>\n",
       "      <th>price</th>\n",
       "      <td>850</td>\n",
       "      <td>2.883311</td>\n",
       "    </tr>\n",
       "    <tr>\n",
       "      <th>body_type</th>\n",
       "      <td>850</td>\n",
       "      <td>2.883311</td>\n",
       "    </tr>\n",
       "    <tr>\n",
       "      <th>type</th>\n",
       "      <td>850</td>\n",
       "      <td>2.883311</td>\n",
       "    </tr>\n",
       "    <tr>\n",
       "      <th>seller</th>\n",
       "      <td>850</td>\n",
       "      <td>2.883311</td>\n",
       "    </tr>\n",
       "    <tr>\n",
       "      <th>mileage</th>\n",
       "      <td>851</td>\n",
       "      <td>2.886703</td>\n",
       "    </tr>\n",
       "    <tr>\n",
       "      <th>first_registration</th>\n",
       "      <td>852</td>\n",
       "      <td>2.890095</td>\n",
       "    </tr>\n",
       "    <tr>\n",
       "      <th>gearbox</th>\n",
       "      <td>1098</td>\n",
       "      <td>3.724559</td>\n",
       "    </tr>\n",
       "    <tr>\n",
       "      <th>doors</th>\n",
       "      <td>1209</td>\n",
       "      <td>4.101085</td>\n",
       "    </tr>\n",
       "    <tr>\n",
       "      <th>power</th>\n",
       "      <td>1422</td>\n",
       "      <td>4.823609</td>\n",
       "    </tr>\n",
       "    <tr>\n",
       "      <th>desc</th>\n",
       "      <td>1433</td>\n",
       "      <td>4.860923</td>\n",
       "    </tr>\n",
       "    <tr>\n",
       "      <th>engine_size</th>\n",
       "      <td>2253</td>\n",
       "      <td>7.642469</td>\n",
       "    </tr>\n",
       "    <tr>\n",
       "      <th>colour</th>\n",
       "      <td>2574</td>\n",
       "      <td>8.731343</td>\n",
       "    </tr>\n",
       "    <tr>\n",
       "      <th>fuel_type</th>\n",
       "      <td>2637</td>\n",
       "      <td>8.945047</td>\n",
       "    </tr>\n",
       "    <tr>\n",
       "      <th>seats</th>\n",
       "      <td>3975</td>\n",
       "      <td>13.483718</td>\n",
       "    </tr>\n",
       "    <tr>\n",
       "      <th>comfort_convenience</th>\n",
       "      <td>4047</td>\n",
       "      <td>13.727951</td>\n",
       "    </tr>\n",
       "    <tr>\n",
       "      <th>safety_security</th>\n",
       "      <td>4065</td>\n",
       "      <td>13.789009</td>\n",
       "    </tr>\n",
       "    <tr>\n",
       "      <th>entertainment_media</th>\n",
       "      <td>5836</td>\n",
       "      <td>19.796472</td>\n",
       "    </tr>\n",
       "    <tr>\n",
       "      <th>extras</th>\n",
       "      <td>6000</td>\n",
       "      <td>20.352782</td>\n",
       "    </tr>\n",
       "    <tr>\n",
       "      <th>fuel_consumption</th>\n",
       "      <td>6095</td>\n",
       "      <td>20.675034</td>\n",
       "    </tr>\n",
       "    <tr>\n",
       "      <th>offer_number</th>\n",
       "      <td>6380</td>\n",
       "      <td>21.641791</td>\n",
       "    </tr>\n",
       "    <tr>\n",
       "      <th>manufacturer_colour</th>\n",
       "      <td>7693</td>\n",
       "      <td>26.095658</td>\n",
       "    </tr>\n",
       "    <tr>\n",
       "      <th>gears</th>\n",
       "      <td>10526</td>\n",
       "      <td>35.705563</td>\n",
       "    </tr>\n",
       "    <tr>\n",
       "      <th>cylinders</th>\n",
       "      <td>10628</td>\n",
       "      <td>36.051560</td>\n",
       "    </tr>\n",
       "    <tr>\n",
       "      <th>upholstery</th>\n",
       "      <td>10870</td>\n",
       "      <td>36.872456</td>\n",
       "    </tr>\n",
       "    <tr>\n",
       "      <th>CO2_emissions</th>\n",
       "      <td>10886</td>\n",
       "      <td>36.926730</td>\n",
       "    </tr>\n",
       "    <tr>\n",
       "      <th>emission_class</th>\n",
       "      <td>11621</td>\n",
       "      <td>39.419946</td>\n",
       "    </tr>\n",
       "    <tr>\n",
       "      <th>empty_weight</th>\n",
       "      <td>11722</td>\n",
       "      <td>39.762551</td>\n",
       "    </tr>\n",
       "    <tr>\n",
       "      <th>drivetrain</th>\n",
       "      <td>12587</td>\n",
       "      <td>42.696744</td>\n",
       "    </tr>\n",
       "    <tr>\n",
       "      <th>country_version</th>\n",
       "      <td>12591</td>\n",
       "      <td>42.710312</td>\n",
       "    </tr>\n",
       "    <tr>\n",
       "      <th>warranty</th>\n",
       "      <td>13696</td>\n",
       "      <td>46.458616</td>\n",
       "    </tr>\n",
       "    <tr>\n",
       "      <th>upholstery_colour</th>\n",
       "      <td>14911</td>\n",
       "      <td>50.580054</td>\n",
       "    </tr>\n",
       "    <tr>\n",
       "      <th>paint</th>\n",
       "      <td>14985</td>\n",
       "      <td>50.831072</td>\n",
       "    </tr>\n",
       "    <tr>\n",
       "      <th>previous_owner</th>\n",
       "      <td>15465</td>\n",
       "      <td>52.459294</td>\n",
       "    </tr>\n",
       "    <tr>\n",
       "      <th>full_service_history</th>\n",
       "      <td>16915</td>\n",
       "      <td>57.377883</td>\n",
       "    </tr>\n",
       "    <tr>\n",
       "      <th>general_inspection</th>\n",
       "      <td>17226</td>\n",
       "      <td>58.432836</td>\n",
       "    </tr>\n",
       "    <tr>\n",
       "      <th>nonsmoker_vehicle</th>\n",
       "      <td>17886</td>\n",
       "      <td>60.671642</td>\n",
       "    </tr>\n",
       "    <tr>\n",
       "      <th>emissions_sticker</th>\n",
       "      <td>20066</td>\n",
       "      <td>68.066486</td>\n",
       "    </tr>\n",
       "    <tr>\n",
       "      <th>model_code</th>\n",
       "      <td>21113</td>\n",
       "      <td>71.618046</td>\n",
       "    </tr>\n",
       "    <tr>\n",
       "      <th>energy_efficiency_class</th>\n",
       "      <td>21676</td>\n",
       "      <td>73.527815</td>\n",
       "    </tr>\n",
       "    <tr>\n",
       "      <th>CO2_efficiency</th>\n",
       "      <td>21676</td>\n",
       "      <td>73.527815</td>\n",
       "    </tr>\n",
       "    <tr>\n",
       "      <th>production_date</th>\n",
       "      <td>23572</td>\n",
       "      <td>79.959294</td>\n",
       "    </tr>\n",
       "    <tr>\n",
       "      <th>other_fuel_types</th>\n",
       "      <td>27167</td>\n",
       "      <td>92.154003</td>\n",
       "    </tr>\n",
       "    <tr>\n",
       "      <th>last_service</th>\n",
       "      <td>27477</td>\n",
       "      <td>93.205563</td>\n",
       "    </tr>\n",
       "    <tr>\n",
       "      <th>last_timing_belt_change</th>\n",
       "      <td>28908</td>\n",
       "      <td>98.059701</td>\n",
       "    </tr>\n",
       "    <tr>\n",
       "      <th>power_consumption</th>\n",
       "      <td>28965</td>\n",
       "      <td>98.253053</td>\n",
       "    </tr>\n",
       "    <tr>\n",
       "      <th>taxi_or_rentalcar</th>\n",
       "      <td>29058</td>\n",
       "      <td>98.568521</td>\n",
       "    </tr>\n",
       "    <tr>\n",
       "      <th>available_from</th>\n",
       "      <td>29087</td>\n",
       "      <td>98.666893</td>\n",
       "    </tr>\n",
       "    <tr>\n",
       "      <th>availability</th>\n",
       "      <td>29179</td>\n",
       "      <td>98.978969</td>\n",
       "    </tr>\n",
       "    <tr>\n",
       "      <th>CO2_emissions(WLTP)</th>\n",
       "      <td>29364</td>\n",
       "      <td>99.606513</td>\n",
       "    </tr>\n",
       "    <tr>\n",
       "      <th>fuel_consumption(WLTP)</th>\n",
       "      <td>29380</td>\n",
       "      <td>99.660787</td>\n",
       "    </tr>\n",
       "    <tr>\n",
       "      <th>power_consumption(WLTP)</th>\n",
       "      <td>29464</td>\n",
       "      <td>99.945726</td>\n",
       "    </tr>\n",
       "    <tr>\n",
       "      <th>electric_range(WLTP)</th>\n",
       "      <td>29464</td>\n",
       "      <td>99.945726</td>\n",
       "    </tr>\n",
       "    <tr>\n",
       "      <th>battery_ownership</th>\n",
       "      <td>29473</td>\n",
       "      <td>99.976255</td>\n",
       "    </tr>\n",
       "  </tbody>\n",
       "</table>\n",
       "</div>"
      ],
      "text/plain": [
       "                         Missing_Count  Missing_Percentage %\n",
       "make_model                         850              2.883311\n",
       "short_description                  850              2.883311\n",
       "make                               850              2.883311\n",
       "model                              850              2.883311\n",
       "location                           850              2.883311\n",
       "price                              850              2.883311\n",
       "body_type                          850              2.883311\n",
       "type                               850              2.883311\n",
       "seller                             850              2.883311\n",
       "mileage                            851              2.886703\n",
       "first_registration                 852              2.890095\n",
       "gearbox                           1098              3.724559\n",
       "doors                             1209              4.101085\n",
       "power                             1422              4.823609\n",
       "desc                              1433              4.860923\n",
       "engine_size                       2253              7.642469\n",
       "colour                            2574              8.731343\n",
       "fuel_type                         2637              8.945047\n",
       "seats                             3975             13.483718\n",
       "comfort_convenience               4047             13.727951\n",
       "safety_security                   4065             13.789009\n",
       "entertainment_media               5836             19.796472\n",
       "extras                            6000             20.352782\n",
       "fuel_consumption                  6095             20.675034\n",
       "offer_number                      6380             21.641791\n",
       "manufacturer_colour               7693             26.095658\n",
       "gears                            10526             35.705563\n",
       "cylinders                        10628             36.051560\n",
       "upholstery                       10870             36.872456\n",
       "CO2_emissions                    10886             36.926730\n",
       "emission_class                   11621             39.419946\n",
       "empty_weight                     11722             39.762551\n",
       "drivetrain                       12587             42.696744\n",
       "country_version                  12591             42.710312\n",
       "warranty                         13696             46.458616\n",
       "upholstery_colour                14911             50.580054\n",
       "paint                            14985             50.831072\n",
       "previous_owner                   15465             52.459294\n",
       "full_service_history             16915             57.377883\n",
       "general_inspection               17226             58.432836\n",
       "nonsmoker_vehicle                17886             60.671642\n",
       "emissions_sticker                20066             68.066486\n",
       "model_code                       21113             71.618046\n",
       "energy_efficiency_class          21676             73.527815\n",
       "CO2_efficiency                   21676             73.527815\n",
       "production_date                  23572             79.959294\n",
       "other_fuel_types                 27167             92.154003\n",
       "last_service                     27477             93.205563\n",
       "last_timing_belt_change          28908             98.059701\n",
       "power_consumption                28965             98.253053\n",
       "taxi_or_rentalcar                29058             98.568521\n",
       "available_from                   29087             98.666893\n",
       "availability                     29179             98.978969\n",
       "CO2_emissions(WLTP)              29364             99.606513\n",
       "fuel_consumption(WLTP)           29380             99.660787\n",
       "power_consumption(WLTP)          29464             99.945726\n",
       "electric_range(WLTP)             29464             99.945726\n",
       "battery_ownership                29473             99.976255"
      ]
     },
     "execution_count": 7,
     "metadata": {},
     "output_type": "execute_result"
    }
   ],
   "source": [
    "missing_values(df)"
   ]
  },
  {
   "cell_type": "markdown",
   "metadata": {},
   "source": [
    "**There may be strange values. Therefore, check the different values of each column. Then get the necessary information.**"
   ]
  },
  {
   "cell_type": "markdown",
   "metadata": {},
   "source": [
    "#### make_model"
   ]
  },
  {
   "cell_type": "code",
   "execution_count": 8,
   "metadata": {
    "scrolled": true
   },
   "outputs": [
    {
     "data": {
      "text/plain": [
       "make_model\n",
       "Renault Megane     863\n",
       "NaN                850\n",
       "SEAT Leon          787\n",
       "Volvo V40          740\n",
       "Dacia Sandero      730\n",
       "                  ... \n",
       "Toyota GR86          1\n",
       "Toyota Tacoma        1\n",
       "Toyota Tundra        1\n",
       "Toyota 4-Runner      1\n",
       "Volvo 244            1\n",
       "Name: count, Length: 612, dtype: int64"
      ]
     },
     "execution_count": 8,
     "metadata": {},
     "output_type": "execute_result"
    }
   ],
   "source": [
    "df.make_model.value_counts(dropna=False)"
   ]
  },
  {
   "cell_type": "markdown",
   "metadata": {},
   "source": [
    "#### short_description"
   ]
  },
  {
   "cell_type": "code",
   "execution_count": 9,
   "metadata": {
    "scrolled": true
   },
   "outputs": [
    {
     "data": {
      "text/plain": [
       "short_description\n",
       "                                                      213\n",
       "D2 Momentum 120                                        88\n",
       "D2 Kinetic 120                                         87\n",
       "Cabrio 1.4T S&S Excellence                             85\n",
       "Extreme+ 7-Sitzer TCe 110                              57\n",
       "                                                     ... \n",
       "PureTech  EAT8 Allure Pack...DISP. PER NOLEGGIO         1\n",
       "BlueHDi 130 S&S EAT8 Business                           1\n",
       "2.0 BlueHDi 180ch S\\u0026S GT Line EAT8                 1\n",
       "1.2 PureTech Première AUT. NAVI PANO                    1\n",
       "2.9 Executive G. NETTE AUTO! LEER! NAVI! CRUISE! L      1\n",
       "Name: count, Length: 20947, dtype: int64"
      ]
     },
     "execution_count": 9,
     "metadata": {},
     "output_type": "execute_result"
    }
   ],
   "source": [
    "df.short_description.value_counts()"
   ]
  },
  {
   "cell_type": "code",
   "execution_count": 10,
   "metadata": {},
   "outputs": [],
   "source": [
    "df.drop('short_description', axis=1, inplace=True)"
   ]
  },
  {
   "cell_type": "markdown",
   "metadata": {},
   "source": [
    "#### make"
   ]
  },
  {
   "cell_type": "code",
   "execution_count": 11,
   "metadata": {},
   "outputs": [
    {
     "data": {
      "text/plain": [
       "make\n",
       "\\nVolvo\\n            3659\n",
       "\\nMercedes-Benz\\n    2398\n",
       "\\nOpel\\n             2385\n",
       "\\nPeugeot\\n          2360\n",
       "\\nRenault\\n          2351\n",
       "\\nFiat\\n             2338\n",
       "\\nFord\\n             2324\n",
       "\\nNissan\\n           2064\n",
       "\\nToyota\\n           2038\n",
       "\\nHyundai\\n          1867\n",
       "\\nSEAT\\n             1743\n",
       "\\nSkoda\\n            1566\n",
       "\\nDacia\\n            1537\n",
       "Name: count, dtype: int64"
      ]
     },
     "execution_count": 11,
     "metadata": {},
     "output_type": "execute_result"
    }
   ],
   "source": [
    "df['make'].value_counts()"
   ]
  },
  {
   "cell_type": "code",
   "execution_count": 12,
   "metadata": {},
   "outputs": [],
   "source": [
    "# Get the name of brands and reassign it\n",
    "df['make'] = df['make'].str.extract(\"\\n(.*)\\n\")"
   ]
  },
  {
   "cell_type": "markdown",
   "metadata": {},
   "source": [
    "#### price"
   ]
  },
  {
   "cell_type": "code",
   "execution_count": 13,
   "metadata": {},
   "outputs": [
    {
     "data": {
      "text/plain": [
       "price\n",
       "€ 14,990.-    222\n",
       "€ 12,990.-    219\n",
       "€ 16,990.-    186\n",
       "€ 19,990.-    166\n",
       "€ 9,990.-     160\n",
       "             ... \n",
       "€ 19,112.-      1\n",
       "€ 30,465.-      1\n",
       "€ 18,461.-      1\n",
       "€ 22,649.-      1\n",
       "€ 4,440.-       1\n",
       "Name: count, Length: 5021, dtype: int64"
      ]
     },
     "execution_count": 13,
     "metadata": {},
     "output_type": "execute_result"
    }
   ],
   "source": [
    "# Check the distinct values of 'price'\n",
    "df['price'].value_counts()"
   ]
  },
  {
   "cell_type": "code",
   "execution_count": 14,
   "metadata": {},
   "outputs": [],
   "source": [
    "# Get the numbers and reassign it to itself\n",
    "df['price'] = df.price.str.extract('(\\d+.\\d+)')"
   ]
  },
  {
   "cell_type": "code",
   "execution_count": 15,
   "metadata": {},
   "outputs": [],
   "source": [
    "# Remove the commas and change the type to float\n",
    "df['price'] = df.price.str.replace(',', '').astype(float)"
   ]
  },
  {
   "cell_type": "markdown",
   "metadata": {},
   "source": [
    "#### model, body_type, type, doors, country_version, offer_number, seats, drivetrain"
   ]
  },
  {
   "cell_type": "code",
   "execution_count": 16,
   "metadata": {},
   "outputs": [
    {
     "data": {
      "text/plain": [
       "model\n",
       "[\\n, Megane ,\\n]        863\n",
       "[\\n, Leon ,\\n]          787\n",
       "[\\n, V40 ,\\n]           740\n",
       "[\\n, Sandero ,\\n]       730\n",
       "[\\n, i30 ,\\n]           706\n",
       "                       ... \n",
       "[\\n, GLA 35 AMG ,\\n]      1\n",
       "[\\n, G 55 AMG ,\\n]        1\n",
       "[\\n, Ariya ,\\n]           1\n",
       "[\\n, 105 ,\\n]             1\n",
       "[\\n, 244 ,\\n]             1\n",
       "Name: count, Length: 594, dtype: int64"
      ]
     },
     "metadata": {},
     "output_type": "display_data"
    },
    {
     "data": {
      "text/plain": [
       "body_type\n",
       "[\\n, Station wagon, \\n]       5448\n",
       "[\\n, Off-Road/Pick-up, \\n]    5415\n",
       "[\\n, Compact, \\n]             5387\n",
       "[\\n, Sedan, \\n]               5043\n",
       "[\\n, Coupe, \\n]               4009\n",
       "[\\n, Convertible, \\n]         3328\n",
       "Name: count, dtype: int64"
      ]
     },
     "metadata": {},
     "output_type": "display_data"
    },
    {
     "data": {
      "text/plain": [
       "type\n",
       "[\\n, Used, \\n]              25251\n",
       "[\\n, Demonstration, \\n]      1433\n",
       "[\\n, Pre-registered, \\n]     1377\n",
       "[\\n, Employee's car, \\n]      569\n",
       "Name: count, dtype: int64"
      ]
     },
     "metadata": {},
     "output_type": "display_data"
    },
    {
     "data": {
      "text/plain": [
       "doors\n",
       "[\\n, 5, \\n]    17481\n",
       "[\\n, 2, \\n]     5523\n",
       "[\\n, 4, \\n]     3001\n",
       "[\\n, 3, \\n]     2259\n",
       "[\\n, 6, \\n]        5\n",
       "[\\n, 1, \\n]        2\n",
       "Name: count, dtype: int64"
      ]
     },
     "metadata": {},
     "output_type": "display_data"
    },
    {
     "data": {
      "text/plain": [
       "country_version\n",
       "[\\n, Germany, \\n]           7939\n",
       "[\\n, Spain, \\n]             6376\n",
       "[\\n, Italy, \\n]              679\n",
       "[\\n, Belgium, \\n]            641\n",
       "[\\n, European Union, \\n]     340\n",
       "[\\n, Netherlands, \\n]        306\n",
       "[\\n, Austria, \\n]            266\n",
       "[\\n, France, \\n]             101\n",
       "[\\n, United States, \\n]       57\n",
       "[\\n, Czechia, \\n]             47\n",
       "[\\n, Poland, \\n]              31\n",
       "[\\n, Hungary, \\n]             21\n",
       "[\\n, Denmark, \\n]             21\n",
       "[\\n, Romania, \\n]             12\n",
       "[\\n, Japan, \\n]               12\n",
       "[\\n, Switzerland, \\n]          9\n",
       "[\\n, Luxembourg, \\n]           9\n",
       "[\\n, Sweden, \\n]               6\n",
       "[\\n, Slovenia, \\n]             5\n",
       "[\\n, Slovakia, \\n]             4\n",
       "[\\n, Croatia, \\n]              3\n",
       "[\\n, Bulgaria, \\n]             1\n",
       "[\\n, Malta, \\n]                1\n",
       "[\\n, Canada, \\n]               1\n",
       "[\\n, Mexico, \\n]               1\n",
       "Name: count, dtype: int64"
      ]
     },
     "metadata": {},
     "output_type": "display_data"
    },
    {
     "data": {
      "text/plain": [
       "offer_number\n",
       "[\\n, 1, \\n]                        28\n",
       "[\\n, L-Vorlauf 2023, \\n]           10\n",
       "[\\n, 20, \\n]                        9\n",
       "[\\n, 30, \\n]                        9\n",
       "[\\n, RE82542, \\n]                   8\n",
       "                                   ..\n",
       "[\\n, ggp-EP-880-ZS, \\n]             1\n",
       "[\\n, 7475319, \\n]                   1\n",
       "[\\n, abci-EZ-260-PS_130291, \\n]     1\n",
       "[\\n, 7407611, \\n]                   1\n",
       "[\\n, 43-JR-LR, \\n]                  1\n",
       "Name: count, Length: 20945, dtype: int64"
      ]
     },
     "metadata": {},
     "output_type": "display_data"
    },
    {
     "data": {
      "text/plain": [
       "seats\n",
       "[\\n, 5, \\n]     18308\n",
       "[\\n, 4, \\n]      5390\n",
       "[\\n, 2, \\n]      1186\n",
       "[\\n, 7, \\n]       488\n",
       "[\\n, 8, \\n]        43\n",
       "[\\n, 9, \\n]        35\n",
       "[\\n, 3, \\n]        25\n",
       "[\\n, 6, \\n]        12\n",
       "[\\n, 0, \\n]         9\n",
       "[\\n, 1, \\n]         7\n",
       "[\\n, 17, \\n]        2\n",
       "Name: count, dtype: int64"
      ]
     },
     "metadata": {},
     "output_type": "display_data"
    },
    {
     "data": {
      "text/plain": [
       "drivetrain\n",
       "[\\n, Front, \\n]    12066\n",
       "[\\n, 4WD, \\n]       3252\n",
       "[\\n, Rear, \\n]      1575\n",
       "Name: count, dtype: int64"
      ]
     },
     "metadata": {},
     "output_type": "display_data"
    }
   ],
   "source": [
    "# Check the distinct values\n",
    "for i in ['model', 'body_type', 'type', 'doors', 'country_version', 'offer_number', 'seats', 'drivetrain']:\n",
    "    display(df[i].value_counts())"
   ]
  },
  {
   "cell_type": "markdown",
   "metadata": {},
   "source": [
    "**Define a function for columns saved in a similar way**"
   ]
  },
  {
   "cell_type": "code",
   "execution_count": 17,
   "metadata": {},
   "outputs": [],
   "source": [
    "def scraping_list(x):\n",
    "    return df[x].str[0].str.extract(\"\\n,(.*),\")"
   ]
  },
  {
   "cell_type": "code",
   "execution_count": 18,
   "metadata": {},
   "outputs": [],
   "source": [
    "# Use the above function to clean the corresponding columns\n",
    "for i in ['model', 'body_type', 'type', 'doors', 'country_version', 'offer_number', 'seats', 'drivetrain']:\n",
    "    df[i] = scraping_list(i)"
   ]
  },
  {
   "cell_type": "code",
   "execution_count": 19,
   "metadata": {},
   "outputs": [],
   "source": [
    "df['doors'] = df['doors'].astype(float)\n",
    "df['seats'] = df['seats'].astype(float)"
   ]
  },
  {
   "cell_type": "code",
   "execution_count": 20,
   "metadata": {},
   "outputs": [],
   "source": [
    "df.drop('offer_number', axis=1, inplace=True)"
   ]
  },
  {
   "cell_type": "markdown",
   "metadata": {},
   "source": [
    "#### gears, cylinders"
   ]
  },
  {
   "cell_type": "code",
   "execution_count": 21,
   "metadata": {
    "scrolled": true
   },
   "outputs": [
    {
     "data": {
      "text/plain": [
       "gears\n",
       "NaN         10526\n",
       "[\\n6\\n]      8412\n",
       "[\\n5\\n]      5335\n",
       "[\\n7\\n]      1738\n",
       "[\\n8\\n]      1690\n",
       "[\\n1\\n]       712\n",
       "[\\n9\\n]       642\n",
       "[\\n4\\n]       256\n",
       "[\\n10\\n]      112\n",
       "[\\n0\\n]        31\n",
       "[\\n3\\n]        24\n",
       "[\\n2\\n]         2\n",
       "Name: count, dtype: int64"
      ]
     },
     "metadata": {},
     "output_type": "display_data"
    },
    {
     "data": {
      "text/plain": [
       "cylinders\n",
       "[\\n4\\n]     13068\n",
       "NaN         10628\n",
       "[\\n3\\n]      3258\n",
       "[\\n6\\n]      1013\n",
       "[\\n5\\n]       799\n",
       "[\\n8\\n]       539\n",
       "[\\n2\\n]       103\n",
       "[\\n0\\n]        35\n",
       "[\\n1\\n]        21\n",
       "[\\n12\\n]        8\n",
       "[\\n7\\n]         6\n",
       "[\\n26\\n]        1\n",
       "[\\n16\\n]        1\n",
       "Name: count, dtype: int64"
      ]
     },
     "metadata": {},
     "output_type": "display_data"
    }
   ],
   "source": [
    "# Check the distinct values\n",
    "for i in ['gears', 'cylinders']:\n",
    "    display(df[i].value_counts(dropna=False))"
   ]
  },
  {
   "cell_type": "markdown",
   "metadata": {},
   "source": [
    "Columns gears and cylinders have the same structure. Therefore, I define the following function for them:"
   ]
  },
  {
   "cell_type": "code",
   "execution_count": 22,
   "metadata": {},
   "outputs": [],
   "source": [
    "def scraping_list2(x):\n",
    "    return df[x].str[0].str.extract(\"\\n(.*)\\n\")"
   ]
  },
  {
   "cell_type": "code",
   "execution_count": 23,
   "metadata": {
    "scrolled": true
   },
   "outputs": [],
   "source": [
    "# Use the  function scraping_list2 to clean the corresponding columns\n",
    "for i in ['gears', 'cylinders']:\n",
    "    df[i] = scraping_list2(i)"
   ]
  },
  {
   "cell_type": "code",
   "execution_count": 24,
   "metadata": {},
   "outputs": [],
   "source": [
    "df['gears'] = df['gears'].astype(float)\n",
    "df['cylinders'] = df['cylinders'].astype(float)"
   ]
  },
  {
   "cell_type": "markdown",
   "metadata": {},
   "source": [
    "**Continue to check other features**"
   ]
  },
  {
   "cell_type": "markdown",
   "metadata": {},
   "source": [
    "#### location\n",
    "This gives us not more info. But we can use country."
   ]
  },
  {
   "cell_type": "code",
   "execution_count": 25,
   "metadata": {
    "scrolled": true
   },
   "outputs": [
    {
     "data": {
      "text/plain": [
       "location\n",
       "NaN                                                         850\n",
       "Av. Laboral, 10,  28021 MADRID, ES                          306\n",
       "Luckenwalder Berg 5,  14913 Jüterbog, DE                    170\n",
       "Ctra. del Mig, 96,,  08097 L'Hospitalet de Llobregat, ES    146\n",
       "9 boulevard Jules Ferry,  75011 Paris, FR                   142\n",
       "                                                           ... \n",
       "2727CT ZOETERMEER, NL                                         1\n",
       "Rosendaalsestraat 437-439,  6824 CK ARNHEM, NL                1\n",
       "5751VH DEURNE, NL                                             1\n",
       "00148 roma, IT                                                1\n",
       "Sur rendez-vous,  5060 Sambreville, BE                        1\n",
       "Name: count, Length: 8182, dtype: int64"
      ]
     },
     "execution_count": 25,
     "metadata": {},
     "output_type": "execute_result"
    }
   ],
   "source": [
    "df['location'].value_counts(dropna=False)"
   ]
  },
  {
   "cell_type": "code",
   "execution_count": 26,
   "metadata": {
    "scrolled": true
   },
   "outputs": [],
   "source": [
    "df['location'] = df['location'].str[-2:]"
   ]
  },
  {
   "cell_type": "markdown",
   "metadata": {},
   "source": [
    "#### warranty\n",
    "**Important:** There is 'Yes'"
   ]
  },
  {
   "cell_type": "code",
   "execution_count": 27,
   "metadata": {
    "scrolled": true
   },
   "outputs": [
    {
     "data": {
      "text/plain": [
       "warranty\n",
       "NaN                     13696\n",
       "[\\n, 12 months, \\n]      9545\n",
       "[\\n, Yes, \\n]            2319\n",
       "[\\n, 24 months, \\n]      1515\n",
       "[\\n, 60 months, \\n]       968\n",
       "                        ...  \n",
       "[\\n, 55 months, \\n]         1\n",
       "[\\n, 99 months, \\n]         1\n",
       "[\\n, 122 months, \\n]        1\n",
       "[\\n, 44 months, \\n]         1\n",
       "[\\n, 4 months, \\n]          1\n",
       "Name: count, Length: 66, dtype: int64"
      ]
     },
     "execution_count": 27,
     "metadata": {},
     "output_type": "execute_result"
    }
   ],
   "source": [
    "# Check the distinct values of warranty. Notice that there is a strange value 'Yes'. All others are months.\n",
    "df['warranty'].value_counts(dropna=False)"
   ]
  },
  {
   "cell_type": "code",
   "execution_count": 28,
   "metadata": {},
   "outputs": [
    {
     "data": {
      "text/plain": [
       "NaN    13696\n",
       "12      9545\n",
       "Yes     2319\n",
       "24      1515\n",
       "60       968\n",
       "       ...  \n",
       "39         1\n",
       "37         1\n",
       "117        1\n",
       "99         1\n",
       "4          1\n",
       "Name: count, Length: 66, dtype: int64"
      ]
     },
     "execution_count": 28,
     "metadata": {},
     "output_type": "execute_result"
    }
   ],
   "source": [
    "df['warranty'].str[0].str.extract('(\\d+|Yes)').value_counts(dropna=False)"
   ]
  },
  {
   "cell_type": "code",
   "execution_count": 29,
   "metadata": {
    "scrolled": true
   },
   "outputs": [],
   "source": [
    "# Extract the numeric values and 'Yes'\n",
    "df['warranty'] = df['warranty'].str[0].str.extract('(\\d+|Yes)')"
   ]
  },
  {
   "cell_type": "markdown",
   "metadata": {},
   "source": [
    "#### mileage"
   ]
  },
  {
   "cell_type": "code",
   "execution_count": 30,
   "metadata": {
    "scrolled": true
   },
   "outputs": [
    {
     "data": {
      "text/plain": [
       "mileage\n",
       "NaN           851\n",
       "10 km         586\n",
       "1 km          172\n",
       "50 km         133\n",
       "100 km        119\n",
       "             ... \n",
       "141,589 km      1\n",
       "59,821 km       1\n",
       "123,500 km      1\n",
       "29,781 km       1\n",
       "230,047 km      1\n",
       "Name: count, Length: 14184, dtype: int64"
      ]
     },
     "execution_count": 30,
     "metadata": {},
     "output_type": "execute_result"
    }
   ],
   "source": [
    "# Check the distinct values of 'mileage' feature\n",
    "df['mileage'].value_counts(dropna=False)"
   ]
  },
  {
   "cell_type": "code",
   "execution_count": 31,
   "metadata": {
    "scrolled": true
   },
   "outputs": [],
   "source": [
    "# Extract the numeric values and reassing it, change the type\n",
    "df['mileage'] = df['mileage'].str.extract('(\\d+,\\d+,\\d+|\\d+,\\d+|\\d+)')\n",
    "df['mileage'] = df['mileage'].str.replace(',', '').astype(float)"
   ]
  },
  {
   "cell_type": "markdown",
   "metadata": {},
   "source": [
    "#### first_registration"
   ]
  },
  {
   "cell_type": "markdown",
   "metadata": {},
   "source": [
    "**'first_registration'** feature has **month/year** format. Instead of it we use only year and define the following feature."
   ]
  },
  {
   "cell_type": "code",
   "execution_count": 32,
   "metadata": {
    "scrolled": true
   },
   "outputs": [
    {
     "data": {
      "text/plain": [
       "first_registration\n",
       "NaN        852\n",
       "08/2022    454\n",
       "06/2022    428\n",
       "05/2019    420\n",
       "06/2019    418\n",
       "          ... \n",
       "08/1980      1\n",
       "06/1980      1\n",
       "09/1970      1\n",
       "06/1963      1\n",
       "10/1979      1\n",
       "Name: count, Length: 656, dtype: int64"
      ]
     },
     "execution_count": 32,
     "metadata": {},
     "output_type": "execute_result"
    }
   ],
   "source": [
    "# Check the distinct values of 'first_registration' feature\n",
    "df['first_registration'].value_counts(dropna=False)"
   ]
  },
  {
   "cell_type": "code",
   "execution_count": 33,
   "metadata": {},
   "outputs": [],
   "source": [
    "# Define a new feature as 'first_registration_year'\n",
    "df['first_registration_year'] = df['first_registration'].str.extract('\\d+/(\\d+)')"
   ]
  },
  {
   "cell_type": "code",
   "execution_count": 34,
   "metadata": {},
   "outputs": [],
   "source": [
    "df['first_registration_year'] = pd.to_datetime(df['first_registration_year'], format='%Y')"
   ]
  },
  {
   "cell_type": "code",
   "execution_count": 35,
   "metadata": {},
   "outputs": [],
   "source": [
    "df.drop('first_registration', axis=1, inplace=True)"
   ]
  },
  {
   "cell_type": "markdown",
   "metadata": {},
   "source": [
    "#### gearbox"
   ]
  },
  {
   "cell_type": "code",
   "execution_count": 36,
   "metadata": {},
   "outputs": [
    {
     "data": {
      "text/plain": [
       "gearbox\n",
       "[\\nManual\\n]            17023\n",
       "[\\nAutomatic\\n]         11287\n",
       "NaN                      1098\n",
       "[\\nSemi-automatic\\n]       72\n",
       "Name: count, dtype: int64"
      ]
     },
     "execution_count": 36,
     "metadata": {},
     "output_type": "execute_result"
    }
   ],
   "source": [
    "# Check the distinct values of 'gearbox' feature\n",
    "df['gearbox'].value_counts(dropna=False)"
   ]
  },
  {
   "cell_type": "code",
   "execution_count": 37,
   "metadata": {},
   "outputs": [],
   "source": [
    "# Clean this column\n",
    "df['gearbox'] = df['gearbox'].str[0].str.extract('\\n(\\w+.*)\\n')"
   ]
  },
  {
   "cell_type": "markdown",
   "metadata": {},
   "source": [
    "#### fuel_type"
   ]
  },
  {
   "cell_type": "code",
   "execution_count": 38,
   "metadata": {},
   "outputs": [
    {
     "data": {
      "text/plain": [
       "fuel_type\n",
       "Gasoline                                                                                              8532\n",
       "Diesel                                                                                                5911\n",
       "Super 95                                                                                              3557\n",
       "Diesel (Particle filter)                                                                              2816\n",
       "NaN                                                                                                   2637\n",
       "Regular/Benzine 91                                                                                    2065\n",
       "Super E10 95                                                                                          1016\n",
       "Regular/Benzine 91 (Particle filter)                                                                   555\n",
       "Super 95 (Particle filter)                                                                             537\n",
       "Super E10 95 (Particle filter)                                                                         324\n",
       "Regular/Benzine E10 91                                                                                 278\n",
       "Others                                                                                                 197\n",
       "Gasoline (Particle filter)                                                                             196\n",
       "Electric                                                                                               185\n",
       "Super Plus 98                                                                                          170\n",
       "Liquid petroleum gas (LPG)                                                                             148\n",
       "CNG                                                                                                     87\n",
       "LPG                                                                                                     73\n",
       "Super Plus E10 98                                                                                       42\n",
       "Super Plus E10 98 (Particle filter)                                                                     35\n",
       "Domestic gas H                                                                                          24\n",
       "Others (Particle filter)                                                                                16\n",
       "Super Plus 98 (Particle filter)                                                                         15\n",
       "Domestic gas L                                                                                          10\n",
       "CNG (Particle filter)                                                                                    8\n",
       "Regular/Benzine E10 91 (Particle filter)                                                                 8\n",
       "LPG (Particle filter)                                                                                    4\n",
       "Hydrogen                                                                                                 3\n",
       "Ethanol                                                                                                  3\n",
       "Electric (Particle filter)                                                                               3\n",
       "Liquid petroleum gas (LPG) (Particle filter) / Super 95 / Super E10 95                                   3\n",
       "Liquid petroleum gas (LPG) / Super 95 / Super Plus 98 / Super Plus E10 98 / Super E10 95                 2\n",
       "Liquid petroleum gas (LPG) / Super 95 / Super E10 95                                                     2\n",
       "Domestic gas L (Particle filter)                                                                         2\n",
       "Liquid petroleum gas (LPG) (Particle filter)                                                             2\n",
       "Liquid petroleum gas (LPG) / Super 95                                                                    2\n",
       "Liquid petroleum gas (LPG) / Super 95 / Super E10 95 / Super Plus 98                                     2\n",
       "Liquid petroleum gas (LPG) / Super 95 / Super Plus 98                                                    1\n",
       "Super 95 (Particle filter) / Super E10 95 / Ethanol                                                      1\n",
       "Liquid petroleum gas (LPG) / Super E10 95 / Super Plus E10 98 / Super Plus 98 / Super 95                 1\n",
       "Liquid petroleum gas (LPG) / Super E10 95                                                                1\n",
       "Biogas                                                                                                   1\n",
       "Super 95 / Super Plus 98 / Liquid petroleum gas (LPG)                                                    1\n",
       "Domestic gas L / Super 95 / Domestic gas H                                                               1\n",
       "Domestic gas H / Super E10 95 / Super Plus E10 98 / Super 95 / Super Plus 98 / Domestic gas L            1\n",
       "Liquid petroleum gas (LPG) / Super E10 95 / Regular/Benzine 91 / Super 95 / Super Plus 98 / Biogas       1\n",
       "Super 95 / Liquid petroleum gas (LPG)                                                                    1\n",
       "Name: count, dtype: int64"
      ]
     },
     "execution_count": 38,
     "metadata": {},
     "output_type": "execute_result"
    }
   ],
   "source": [
    "# Check the distinct values of 'fuel_type' feature\n",
    "df['fuel_type'].value_counts(dropna=False)"
   ]
  },
  {
   "cell_type": "markdown",
   "metadata": {},
   "source": [
    "#### colour"
   ]
  },
  {
   "cell_type": "code",
   "execution_count": 39,
   "metadata": {},
   "outputs": [
    {
     "data": {
      "text/plain": [
       "colour\n",
       "Black     6473\n",
       "Grey      5998\n",
       "White     5185\n",
       "Blue      3478\n",
       "NaN       2574\n",
       "Red       2242\n",
       "Silver    1622\n",
       "Green      450\n",
       "Brown      437\n",
       "Orange     288\n",
       "Beige      278\n",
       "Yellow     230\n",
       "Violet      98\n",
       "Bronze      65\n",
       "Gold        62\n",
       "Name: count, dtype: int64"
      ]
     },
     "execution_count": 39,
     "metadata": {},
     "output_type": "execute_result"
    }
   ],
   "source": [
    "# Check the distinct values of 'colour' feature\n",
    "df['colour'].value_counts(dropna=False)"
   ]
  },
  {
   "cell_type": "markdown",
   "metadata": {},
   "source": [
    "#### paint"
   ]
  },
  {
   "cell_type": "code",
   "execution_count": 40,
   "metadata": {},
   "outputs": [
    {
     "data": {
      "text/plain": [
       "paint\n",
       "NaN          14985\n",
       "Metallic     14494\n",
       "Uni/basic        1\n",
       "Name: count, dtype: int64"
      ]
     },
     "execution_count": 40,
     "metadata": {},
     "output_type": "execute_result"
    }
   ],
   "source": [
    "# Check the distinct values of 'paint' feature\n",
    "df['paint'].value_counts(dropna=False)"
   ]
  },
  {
   "cell_type": "markdown",
   "metadata": {},
   "source": [
    "#### desc"
   ]
  },
  {
   "cell_type": "code",
   "execution_count": 41,
   "metadata": {},
   "outputs": [
    {
     "data": {
      "text/plain": [
       "15734    [ , Precio al contado: 9250 euros,  , *OCASION...\n",
       "Name: desc, dtype: object"
      ]
     },
     "execution_count": 41,
     "metadata": {},
     "output_type": "execute_result"
    }
   ],
   "source": [
    "# Check some values of 'desc' column\n",
    "df['desc'].sample(1)"
   ]
  },
  {
   "cell_type": "code",
   "execution_count": 42,
   "metadata": {},
   "outputs": [],
   "source": [
    "df.drop('desc', axis=1, inplace=True)"
   ]
  },
  {
   "cell_type": "markdown",
   "metadata": {},
   "source": [
    "**Note** : The feature 'desc' is text that describes the auto. It contains so many opinions."
   ]
  },
  {
   "cell_type": "markdown",
   "metadata": {},
   "source": [
    "#### seller"
   ]
  },
  {
   "cell_type": "code",
   "execution_count": 43,
   "metadata": {},
   "outputs": [
    {
     "data": {
      "text/plain": [
       "seller\n",
       "Dealer            26318\n",
       "Private seller     2312\n",
       "NaN                 850\n",
       "Name: count, dtype: int64"
      ]
     },
     "execution_count": 43,
     "metadata": {},
     "output_type": "execute_result"
    }
   ],
   "source": [
    "# Check the distinct values of 'seller' feature\n",
    "df['seller'].value_counts(dropna=False)"
   ]
  },
  {
   "cell_type": "markdown",
   "metadata": {},
   "source": [
    "#### power"
   ]
  },
  {
   "cell_type": "markdown",
   "metadata": {},
   "source": [
    "**The power feature contains two units, namely kW and hp.**"
   ]
  },
  {
   "cell_type": "code",
   "execution_count": 44,
   "metadata": {},
   "outputs": [
    {
     "data": {
      "text/plain": [
       "power\n",
       "[\\n110 kW (150 hp)\\n]      1992\n",
       "NaN                        1422\n",
       "[\\n96 kW (131 hp)\\n]       1356\n",
       "[\\n88 kW (120 hp)\\n]       1182\n",
       "[\\n81 kW (110 hp)\\n]       1166\n",
       "                           ... \n",
       "[\\n746 kW (1,014 hp)\\n]       1\n",
       "[\\n570 kW (775 hp)\\n]         1\n",
       "[\\n471 kW (640 hp)\\n]         1\n",
       "[\\n179 kW (243 hp)\\n]         1\n",
       "[\\n26 kW (35 hp)\\n]           1\n",
       "Name: count, Length: 352, dtype: int64"
      ]
     },
     "execution_count": 44,
     "metadata": {},
     "output_type": "execute_result"
    }
   ],
   "source": [
    "# Check the distinct values of 'power' feature\n",
    "df['power'].value_counts(dropna=False)"
   ]
  },
  {
   "cell_type": "code",
   "execution_count": 45,
   "metadata": {
    "scrolled": true
   },
   "outputs": [
    {
     "data": {
      "text/plain": [
       "150      1992\n",
       "NaN      1422\n",
       "131      1356\n",
       "120      1182\n",
       "110      1166\n",
       "         ... \n",
       "321         1\n",
       "53          1\n",
       "1,014       1\n",
       "324         1\n",
       "322         1\n",
       "Name: count, Length: 352, dtype: int64"
      ]
     },
     "execution_count": 45,
     "metadata": {},
     "output_type": "execute_result"
    }
   ],
   "source": [
    "df['power'].str[0].str.extract('\\n\\d+ kW \\((\\d+,\\d+|\\d+) hp\\)\\n').value_counts(dropna=False)"
   ]
  },
  {
   "cell_type": "code",
   "execution_count": 46,
   "metadata": {},
   "outputs": [],
   "source": [
    "df['power_hp'] = df['power'].str[0].str.extract('\\n\\d+ kW \\((\\d+,\\d+|\\d+) hp\\)\\n')"
   ]
  },
  {
   "cell_type": "code",
   "execution_count": 47,
   "metadata": {},
   "outputs": [],
   "source": [
    "df['power_hp'] = df['power_hp'].str.replace(',','').astype(float)"
   ]
  },
  {
   "cell_type": "raw",
   "metadata": {},
   "source": [
    "df['power_kw']  = df['power'].str[0].str.extract('\\n(\\d+) kW')"
   ]
  },
  {
   "cell_type": "code",
   "execution_count": 48,
   "metadata": {},
   "outputs": [],
   "source": [
    "df.drop('power',axis=1, inplace=True)"
   ]
  },
  {
   "cell_type": "markdown",
   "metadata": {},
   "source": [
    "#### engine_size"
   ]
  },
  {
   "cell_type": "code",
   "execution_count": 49,
   "metadata": {},
   "outputs": [
    {
     "data": {
      "text/plain": [
       "engine_size\n",
       "NaN               2253\n",
       "[\\n1,598 cc\\n]    2099\n",
       "[\\n999 cc\\n]      2068\n",
       "[\\n1,969 cc\\n]    1929\n",
       "[\\n1,461 cc\\n]    1110\n",
       "                  ... \n",
       "[\\n2,753 cc\\n]       1\n",
       "[\\n2,495 cc\\n]       1\n",
       "[\\n200 cc\\n]         1\n",
       "[\\n3,224 cc\\n]       1\n",
       "[\\n2,473 cc\\n]       1\n",
       "Name: count, Length: 468, dtype: int64"
      ]
     },
     "execution_count": 49,
     "metadata": {},
     "output_type": "execute_result"
    }
   ],
   "source": [
    "# Check the distinct values of 'engine_size' feature\n",
    "df['engine_size'].value_counts(dropna=False)"
   ]
  },
  {
   "cell_type": "code",
   "execution_count": 50,
   "metadata": {
    "scrolled": true
   },
   "outputs": [],
   "source": [
    "# Extract the numeric values and reassing it, then remove the comma\n",
    "df['engine_size'] = df.engine_size.str[0].str.extract(\"(\\d.\\d+|\\d+)\")\n",
    "df['engine_size'] = df['engine_size'].str.replace(',','').astype(float)"
   ]
  },
  {
   "cell_type": "markdown",
   "metadata": {},
   "source": [
    "#### CO2_emissions"
   ]
  },
  {
   "cell_type": "code",
   "execution_count": 51,
   "metadata": {},
   "outputs": [
    {
     "data": {
      "text/plain": [
       "9.0"
      ]
     },
     "execution_count": 51,
     "metadata": {},
     "output_type": "execute_result"
    }
   ],
   "source": [
    "df['CO2_emissions'].str.count(',').sum()"
   ]
  },
  {
   "cell_type": "code",
   "execution_count": 52,
   "metadata": {},
   "outputs": [
    {
     "data": {
      "text/plain": [
       "CO2_emissions\n",
       "NaN                  10886\n",
       "0 g/km (comb.)        1038\n",
       "119 g/km (comb.)       393\n",
       "124 g/km (comb.)       340\n",
       "129 g/km (comb.)       319\n",
       "                     ...  \n",
       "7 g/km (comb.)           1\n",
       "80 g/km (comb.)          1\n",
       "196  g/km (comb.)        1\n",
       "100  g/km (comb.)        1\n",
       "53 g/km (comb.)          1\n",
       "Name: count, Length: 348, dtype: int64"
      ]
     },
     "execution_count": 52,
     "metadata": {},
     "output_type": "execute_result"
    }
   ],
   "source": [
    "# Check the distinct values of 'CO2_emissions' feature\n",
    "df['CO2_emissions'].value_counts(dropna=False)"
   ]
  },
  {
   "cell_type": "code",
   "execution_count": 53,
   "metadata": {},
   "outputs": [],
   "source": [
    "# Extract the numeric values and reassing it, then remove the comma\n",
    "df['CO2_emissions'] = df['CO2_emissions'].str.extract(\"(\\d.*\\d+|\\d+)\")\n",
    "df['CO2_emissions'] = df['CO2_emissions'].str.replace(',','').astype(float)"
   ]
  },
  {
   "cell_type": "markdown",
   "metadata": {},
   "source": [
    "#### manufacturer_colour"
   ]
  },
  {
   "cell_type": "code",
   "execution_count": 54,
   "metadata": {},
   "outputs": [
    {
     "data": {
      "text/plain": [
       "2378"
      ]
     },
     "execution_count": 54,
     "metadata": {},
     "output_type": "execute_result"
    }
   ],
   "source": [
    "df['manufacturer_colour'].str.contains('metallic').sum()"
   ]
  },
  {
   "cell_type": "code",
   "execution_count": 55,
   "metadata": {
    "scrolled": true
   },
   "outputs": [
    {
     "data": {
      "text/plain": [
       "manufacturer_colour\n",
       "NaN                               7693\n",
       "Blanco                            1235\n",
       "Gris                               671\n",
       "Azul                               552\n",
       "Negro                              546\n",
       "                                  ... \n",
       "Colore esterno (snowflake whit       1\n",
       "Pompeigraumetallic                   1\n",
       "Cararragrau                          1\n",
       "ICE WHITE (wit metallic)             1\n",
       "Denim Blue metallic (blauw met       1\n",
       "Name: count, Length: 4964, dtype: int64"
      ]
     },
     "execution_count": 55,
     "metadata": {},
     "output_type": "execute_result"
    }
   ],
   "source": [
    "# Check the distinct values of 'manufacturer_colour' feature\n",
    "df['manufacturer_colour'].value_counts(dropna=False)"
   ]
  },
  {
   "cell_type": "markdown",
   "metadata": {},
   "source": [
    "#### fuel_consumption"
   ]
  },
  {
   "cell_type": "markdown",
   "metadata": {},
   "source": [
    "**Note:** \"City\" consumption reflects urban driving with frequent stops and starts, usually resulting in higher fuel usage. \"Country\" or highway consumption indicates efficiency on open roads with steady speeds, generally leading to lower fuel consumption. \"Combined\" figures offer an average of city and highway consumption, giving an estimate for mixed driving scenarios. Hence I use 'Combined'."
   ]
  },
  {
   "cell_type": "code",
   "execution_count": 56,
   "metadata": {},
   "outputs": [
    {
     "data": {
      "text/plain": [
       "fuel_consumption\n",
       "NaN                                                                            6095\n",
       "[[0 l/100 km (comb.)]]                                                          330\n",
       "[[0 l/100 km (comb.)], [0 l/100 km (city)], [0 l/100 km (country)]]             306\n",
       "[[3.4 l/100 km (comb.)], [3.7 l/100 km (city)], [3.2 l/100 km (country)]]       170\n",
       "[[4 l/100 km (comb.)]]                                                          149\n",
       "                                                                               ... \n",
       "[[14.2 l/100 km (comb.)], [21.3 l/100 km (city)], [10 l/100 km (country)]]        1\n",
       "[[3.5 l/100 km (comb.)], [4.4 l/100 km (city)], [2.9 l/100 km (country)]]         1\n",
       "[[4.5 l/100 km (comb.)], [6.2 l/100 km (city)], [3.5 l/100 km (country)]]         1\n",
       "[[4.9 l/100 km (comb.)], [99.9 l/100 km (city)], [98 l/100 km (country)]]         1\n",
       "[[10.4 l/100 km (comb.)], [15.3 l/100 km (city)], [7.6 l/100 km (country)]]       1\n",
       "Name: count, Length: 3453, dtype: int64"
      ]
     },
     "execution_count": 56,
     "metadata": {},
     "output_type": "execute_result"
    }
   ],
   "source": [
    "# Check the distinct values of 'fuel_consumption' feature\n",
    "df['fuel_consumption'].value_counts(dropna=False)"
   ]
  },
  {
   "cell_type": "code",
   "execution_count": 57,
   "metadata": {},
   "outputs": [
    {
     "data": {
      "text/plain": [
       "fuel_consumption\n",
       "NaN                       6095\n",
       "5 l/100 km (comb.)         818\n",
       "4.9 l/100 km (comb.)       809\n",
       "4.5 l/100 km (comb.)       690\n",
       "5.1 l/100 km (comb.)       639\n",
       "                          ... \n",
       "6.5 kg/100 km (comb.)        1\n",
       "4 kg/100 km (comb.)          1\n",
       "7 l/100 km (city)            1\n",
       "4.9 l/100 km (country)       1\n",
       "9 l/100 km (country)         1\n",
       "Name: count, Length: 219, dtype: int64"
      ]
     },
     "execution_count": 57,
     "metadata": {},
     "output_type": "execute_result"
    }
   ],
   "source": [
    "df['fuel_consumption'].str[0].str[0].value_counts(dropna=False)"
   ]
  },
  {
   "cell_type": "code",
   "execution_count": 58,
   "metadata": {},
   "outputs": [
    {
     "data": {
      "text/plain": [
       "fuel_consumption\n",
       "NaN                     9323\n",
       "5.8 l/100 km (city)      493\n",
       "6.4 l/100 km (city)      484\n",
       "5.3 l/100 km (city)      479\n",
       "5.7 l/100 km (city)      462\n",
       "                        ... \n",
       "3.8 kg/100 km (city)       1\n",
       "4.6 kg/100 km (city)       1\n",
       "4.9 kg/100 km (city)       1\n",
       "21.1 l/100 km (city)       1\n",
       "8 kg/100 km (city)         1\n",
       "Name: count, Length: 253, dtype: int64"
      ]
     },
     "execution_count": 58,
     "metadata": {},
     "output_type": "execute_result"
    }
   ],
   "source": [
    "df['fuel_consumption'].str[1].str[0].value_counts(dropna=False)"
   ]
  },
  {
   "cell_type": "code",
   "execution_count": 59,
   "metadata": {
    "scrolled": true
   },
   "outputs": [
    {
     "data": {
      "text/plain": [
       "fuel_consumption\n",
       "NaN                        9380\n",
       "4.3 l/100 km (country)      865\n",
       "4 l/100 km (country)        804\n",
       "4.2 l/100 km (country)      748\n",
       "4.7 l/100 km (country)      727\n",
       "                           ... \n",
       "6.6 kg/100 km (country)       1\n",
       "5.5 kg/100 km (country)       1\n",
       "3.9 kg/100 km (country)       1\n",
       "11.5 l/100 km (country)       1\n",
       "3.4 kg/100 km (country)       1\n",
       "Name: count, Length: 143, dtype: int64"
      ]
     },
     "execution_count": 59,
     "metadata": {},
     "output_type": "execute_result"
    }
   ],
   "source": [
    "df['fuel_consumption'].str[2].str[0].value_counts(dropna=False)"
   ]
  },
  {
   "cell_type": "raw",
   "metadata": {},
   "source": [
    "# df['fuel_consumption'].str[0].str[0].str.contains('kg').sum()\n",
    "# df['fuel_consumption'] = df['fuel_consumption'].str.replace('kg','l')"
   ]
  },
  {
   "cell_type": "code",
   "execution_count": 60,
   "metadata": {},
   "outputs": [],
   "source": [
    "df['fuel_consumption'] = df['fuel_consumption'].str[0].str[0].str.extract(\"(\\d+\\.*\\d*)\").astype(\"float\")"
   ]
  },
  {
   "cell_type": "code",
   "execution_count": 61,
   "metadata": {},
   "outputs": [
    {
     "data": {
      "text/plain": [
       "fuel_consumption(WLTP)\n",
       "NaN              5995\n",
       "5.5 l/100 km        9\n",
       "5 l/100 km          8\n",
       "5.4 l/100 km        5\n",
       "6.8 l/100 km        5\n",
       "6.5 l/100 km        4\n",
       "5.7 l/100 km        4\n",
       "7.3 l/100 km        4\n",
       "5.2 l/100 km        3\n",
       "4.9 l/100 km        3\n",
       "6.6 l/100 km        3\n",
       "6.7 l/100 km        3\n",
       "5.9 l/100 km        2\n",
       "6.1 l/100 km        2\n",
       "5.6 l/100 km        2\n",
       "4.7 l/100 km        2\n",
       "4.4 l/100 km        2\n",
       "5.8 l/100 km        2\n",
       "6.3 l/100 km        2\n",
       "6.2 l/100 km        2\n",
       "8.4 l/100 km        2\n",
       "16 l/100 km         2\n",
       "7.6 l/100 km        2\n",
       "12.6 l/100 km       2\n",
       "9.3 l/100 km        2\n",
       "1.5 l/100 km        1\n",
       "12 l/100 km         1\n",
       "5.3 l/100 km        1\n",
       "8 l/100 km          1\n",
       "8.2 l/100 km        1\n",
       "4.8 l/100 km        1\n",
       "4.1 l/100 km        1\n",
       "4.2 l/100 km        1\n",
       "4.3 l/100 km        1\n",
       "1.1 l/100 km        1\n",
       "3.9 l/100 km        1\n",
       "6.4 l/100 km        1\n",
       "8.6 l/100 km        1\n",
       "10.3 l/100 km       1\n",
       "12.2 l/100 km       1\n",
       "12.3 l/100 km       1\n",
       "8.3 l/100 km        1\n",
       "7.2 l/100 km        1\n",
       "9.6 l/100 km        1\n",
       "9.1 l/100 km        1\n",
       "12.9 l/100 km       1\n",
       "10.4 l/100 km       1\n",
       "7.8 l/100 km        1\n",
       "Name: count, dtype: int64"
      ]
     },
     "execution_count": 61,
     "metadata": {},
     "output_type": "execute_result"
    }
   ],
   "source": [
    "df[df.fuel_consumption.isnull()]['fuel_consumption(WLTP)'].value_counts(dropna=False)"
   ]
  },
  {
   "cell_type": "markdown",
   "metadata": {},
   "source": [
    "#### comfort_convenience"
   ]
  },
  {
   "cell_type": "code",
   "execution_count": 62,
   "metadata": {},
   "outputs": [
    {
     "data": {
      "text/plain": [
       "0                                                      NaN\n",
       "1                                                      NaN\n",
       "2                                                      NaN\n",
       "3        [Air conditioning, Automatic climate control, ...\n",
       "4        [Air conditioning, Electrical side mirrors, Mu...\n",
       "                               ...                        \n",
       "29475    [Air conditioning, Armrest, Automatic climate ...\n",
       "29476    [Air conditioning, Armrest, Automatic climate ...\n",
       "29477    [Air conditioning, Armrest, Automatic climate ...\n",
       "29478    [Air conditioning, Armrest, Cruise control, El...\n",
       "29479                                                  NaN\n",
       "Name: comfort_convenience, Length: 29480, dtype: object"
      ]
     },
     "execution_count": 62,
     "metadata": {},
     "output_type": "execute_result"
    }
   ],
   "source": [
    "df['comfort_convenience']"
   ]
  },
  {
   "cell_type": "code",
   "execution_count": 63,
   "metadata": {},
   "outputs": [
    {
     "data": {
      "text/plain": [
       "0                                                      NaN\n",
       "1                                                      NaN\n",
       "2                                                      NaN\n",
       "3        [Air conditioning, Automatic climate control, ...\n",
       "4        [Air conditioning, Electrical side mirrors, Mu...\n",
       "                               ...                        \n",
       "29475    [Air conditioning, Armrest, Automatic climate ...\n",
       "29476    [Air conditioning, Armrest, Automatic climate ...\n",
       "29477    [Air conditioning, Armrest, Automatic climate ...\n",
       "29478    [Air conditioning, Armrest, Cruise control, El...\n",
       "29479                                                  NaN\n",
       "Name: comfort_convenience, Length: 29480, dtype: object"
      ]
     },
     "execution_count": 63,
     "metadata": {},
     "output_type": "execute_result"
    }
   ],
   "source": [
    "df['comfort_convenience']"
   ]
  },
  {
   "cell_type": "code",
   "execution_count": 64,
   "metadata": {
    "scrolled": true
   },
   "outputs": [
    {
     "data": {
      "text/plain": [
       "['Air conditioning, Armrest, Automatic climate control, Cruise control, Electrically adjustable seats, Keyless central door lock, Leather steering wheel, Light sensor, Lumbar support, Massage seats, Multi-function steering wheel, Navigation system, Panorama roof, Parking assist system camera, Parking assist system self-steering, Parking assist system sensors front, Parking assist system sensors rear, Rain sensor, Seat heating, Start-stop system, Tinted windows']"
      ]
     },
     "execution_count": 64,
     "metadata": {},
     "output_type": "execute_result"
    }
   ],
   "source": [
    "df['comfort_convenience'][100]"
   ]
  },
  {
   "cell_type": "code",
   "execution_count": 65,
   "metadata": {},
   "outputs": [
    {
     "data": {
      "text/plain": [
       "comfort_convenience\n",
       " Power windows                         22228\n",
       "Air conditioning                       20531\n",
       " Electrical side mirrors               19989\n",
       " Multi-function steering wheel         17934\n",
       " Automatic climate control             17668\n",
       "                                       ...  \n",
       "Light sensor                               2\n",
       "Wind deflector                             1\n",
       "Electric backseat adjustment               1\n",
       "Heated steering wheel                      1\n",
       "Parking assist system sensors front        1\n",
       "Name: count, Length: 77, dtype: int64"
      ]
     },
     "execution_count": 65,
     "metadata": {},
     "output_type": "execute_result"
    }
   ],
   "source": [
    "df['comfort_convenience'].str[0].str.split(',').explode().value_counts()"
   ]
  },
  {
   "cell_type": "code",
   "execution_count": 66,
   "metadata": {},
   "outputs": [
    {
     "data": {
      "text/plain": [
       "0                                                      NaN\n",
       "1                                                      NaN\n",
       "2                                                      NaN\n",
       "3        Air conditioning, Automatic climate control, P...\n",
       "4        Air conditioning, Electrical side mirrors, Mul...\n",
       "                               ...                        \n",
       "29475    Air conditioning, Armrest, Automatic climate c...\n",
       "29476    Air conditioning, Armrest, Automatic climate c...\n",
       "29477    Air conditioning, Armrest, Automatic climate c...\n",
       "29478    Air conditioning, Armrest, Cruise control, Ele...\n",
       "29479                                                  NaN\n",
       "Name: comfort_convenience, Length: 29480, dtype: object"
      ]
     },
     "execution_count": 66,
     "metadata": {},
     "output_type": "execute_result"
    }
   ],
   "source": [
    "df['comfort_convenience'].str[0]"
   ]
  },
  {
   "cell_type": "markdown",
   "metadata": {},
   "source": [
    "#### entertainment_media"
   ]
  },
  {
   "cell_type": "code",
   "execution_count": 67,
   "metadata": {},
   "outputs": [
    {
     "data": {
      "text/plain": [
       "entertainment_media\n",
       "NaN                                                                                                                                                                          5836\n",
       "[Bluetooth, USB]                                                                                                                                                              753\n",
       "[Bluetooth]                                                                                                                                                                   665\n",
       "[On-board computer]                                                                                                                                                           662\n",
       "[CD player, On-board computer, Radio]                                                                                                                                         644\n",
       "                                                                                                                                                                             ... \n",
       "[Android Auto, Apple CarPlay, Bluetooth, Digital cockpit, Digital radio, Induction charging for smartphones, On-board computer, Radio, Sound system, WLAN / WiFi hotspot]       1\n",
       "[Bluetooth, CD player, Digital cockpit, Digital radio, Hands-free equipment, Integrated music streaming, On-board computer, Sound system, USB, WLAN / WiFi hotspot]             1\n",
       "[Digital cockpit, Digital radio, On-board computer, Radio]                                                                                                                      1\n",
       "[Android Auto, Apple CarPlay, Digital radio, On-board computer, Radio, Sound system, USB, WLAN / WiFi hotspot]                                                                  1\n",
       "[Hands-free equipment, Integrated music streaming, On-board computer, Radio, USB]                                                                                               1\n",
       "Name: count, Length: 1945, dtype: int64"
      ]
     },
     "execution_count": 67,
     "metadata": {},
     "output_type": "execute_result"
    }
   ],
   "source": [
    "df['entertainment_media'].value_counts(dropna=False)"
   ]
  },
  {
   "cell_type": "code",
   "execution_count": 68,
   "metadata": {},
   "outputs": [
    {
     "data": {
      "text/plain": [
       "entertainment_media\n",
       " Radio                                 17166\n",
       " On-board computer                     16728\n",
       " USB                                   14420\n",
       " Hands-free equipment                  13175\n",
       "Bluetooth                              10414\n",
       " MP3                                    9309\n",
       " Digital radio                          8426\n",
       " Bluetooth                              7222\n",
       "Android Auto                            7111\n",
       " Apple CarPlay                          6936\n",
       " Sound system                           6679\n",
       " CD player                              5398\n",
       " Digital cockpit                        3632\n",
       " Integrated music streaming             3341\n",
       "CD player                               2803\n",
       " WLAN / WiFi hotspot                    2132\n",
       " Induction charging for smartphones     2009\n",
       "On-board computer                       1064\n",
       "Radio                                    473\n",
       "Apple CarPlay                            422\n",
       "Hands-free equipment                     413\n",
       "Digital radio                            402\n",
       "MP3                                      239\n",
       " Television                              134\n",
       "USB                                      125\n",
       "Digital cockpit                           99\n",
       "Sound system                              66\n",
       "Integrated music streaming                 5\n",
       "Induction charging for smartphones         4\n",
       "WLAN / WiFi hotspot                        4\n",
       "Name: count, dtype: int64"
      ]
     },
     "execution_count": 68,
     "metadata": {},
     "output_type": "execute_result"
    }
   ],
   "source": [
    "df['entertainment_media'].str[0].str.split(',').explode().value_counts()"
   ]
  },
  {
   "cell_type": "markdown",
   "metadata": {},
   "source": [
    "#### safety_security"
   ]
  },
  {
   "cell_type": "code",
   "execution_count": 69,
   "metadata": {
    "scrolled": true
   },
   "outputs": [
    {
     "data": {
      "text/plain": [
       "0                                                      NaN\n",
       "1                                                      NaN\n",
       "2                                                      NaN\n",
       "3        [ABS, Central door lock, Driver-side airbag, E...\n",
       "4        [ABS, Central door lock, Driver-side airbag, E...\n",
       "                               ...                        \n",
       "29475    [ABS, Central door lock, Central door lock wit...\n",
       "29476    [ABS, Alarm system, Central door lock with rem...\n",
       "29477    [Adaptive Cruise Control, Adaptive headlights,...\n",
       "29478    [ABS, Alarm system, Central door lock, Central...\n",
       "29479                                                  NaN\n",
       "Name: safety_security, Length: 29480, dtype: object"
      ]
     },
     "execution_count": 69,
     "metadata": {},
     "output_type": "execute_result"
    }
   ],
   "source": [
    "df['safety_security']"
   ]
  },
  {
   "cell_type": "code",
   "execution_count": 70,
   "metadata": {
    "scrolled": true
   },
   "outputs": [
    {
     "data": {
      "text/plain": [
       "safety_security\n",
       "ABS                                23197\n",
       " Driver-side airbag                21741\n",
       " Power steering                    21488\n",
       " Passenger-side airbag             21038\n",
       " Side airbag                       20872\n",
       "                                   ...  \n",
       "Side airbag                            3\n",
       "Tire pressure monitoring system        2\n",
       "Xenon headlights                       2\n",
       "Lane departure warning system          1\n",
       "High beam assist                       1\n",
       "Name: count, Length: 66, dtype: int64"
      ]
     },
     "execution_count": 70,
     "metadata": {},
     "output_type": "execute_result"
    }
   ],
   "source": [
    "df['safety_security'].str[0].str.split(',').explode().value_counts()"
   ]
  },
  {
   "cell_type": "markdown",
   "metadata": {},
   "source": [
    "#### extras"
   ]
  },
  {
   "cell_type": "code",
   "execution_count": 71,
   "metadata": {
    "scrolled": true
   },
   "outputs": [
    {
     "data": {
      "text/plain": [
       "0                                                      NaN\n",
       "1                                                      NaN\n",
       "2                                                      NaN\n",
       "3                                            [Sport seats]\n",
       "4                                                      NaN\n",
       "                               ...                        \n",
       "29475                  [Alloy wheels (16\"), Trailer hitch]\n",
       "29476    [Alloy wheels, Automatically dimming interior ...\n",
       "29477    [Alloy wheels (18\"), Automatically dimming int...\n",
       "29478    [Alloy wheels, Automatically dimming interior ...\n",
       "29479                                                  NaN\n",
       "Name: extras, Length: 29480, dtype: object"
      ]
     },
     "execution_count": 71,
     "metadata": {},
     "output_type": "execute_result"
    }
   ],
   "source": [
    "df['extras']"
   ]
  },
  {
   "cell_type": "code",
   "execution_count": 72,
   "metadata": {},
   "outputs": [
    {
     "data": {
      "text/plain": [
       "extras\n",
       "Alloy wheels                              13626\n",
       " Touch screen                              9017\n",
       " Voice Control                             8083\n",
       " Automatically dimming interior mirror     7543\n",
       " Sport seats                               6634\n",
       "                                          ...  \n",
       "Alloy wheels (26\")                            1\n",
       "Awning                                        1\n",
       " Alloy wheels (13\")                           1\n",
       "Alloy wheels (23\")                            1\n",
       "Alloy wheels (10\")                            1\n",
       "Name: count, Length: 89, dtype: int64"
      ]
     },
     "execution_count": 72,
     "metadata": {},
     "output_type": "execute_result"
    }
   ],
   "source": [
    "df['extras'].str[0].str.split(',').explode().value_counts()"
   ]
  },
  {
   "cell_type": "markdown",
   "metadata": {},
   "source": [
    "#### empty_weight"
   ]
  },
  {
   "cell_type": "code",
   "execution_count": 73,
   "metadata": {},
   "outputs": [
    {
     "data": {
      "text/plain": [
       "empty_weight\n",
       "NaN               11722\n",
       "[\\n1,395 kg\\n]      233\n",
       "[\\n1,055 kg\\n]      224\n",
       "[\\n1,423 kg\\n]      216\n",
       "[\\n1,165 kg\\n]      200\n",
       "                  ...  \n",
       "[\\n1,877 kg\\n]        1\n",
       "[\\n1,011 kg\\n]        1\n",
       "[\\n1,069 kg\\n]        1\n",
       "[\\n983 kg\\n]          1\n",
       "[\\n1,391 kg\\n]        1\n",
       "Name: count, Length: 1219, dtype: int64"
      ]
     },
     "execution_count": 73,
     "metadata": {},
     "output_type": "execute_result"
    }
   ],
   "source": [
    "df['empty_weight'].value_counts(dropna=False)"
   ]
  },
  {
   "cell_type": "code",
   "execution_count": 74,
   "metadata": {},
   "outputs": [
    {
     "data": {
      "text/plain": [
       "empty_weight\n",
       "NaN       11722\n",
       "1395.0      233\n",
       "1055.0      224\n",
       "1423.0      216\n",
       "1165.0      200\n",
       "          ...  \n",
       "1877.0        1\n",
       "1011.0        1\n",
       "1069.0        1\n",
       "983.0         1\n",
       "1391.0        1\n",
       "Name: count, Length: 1219, dtype: int64"
      ]
     },
     "execution_count": 74,
     "metadata": {},
     "output_type": "execute_result"
    }
   ],
   "source": [
    "df['empty_weight'] = df['empty_weight'].str[0].str.extract(\"\\n(.*) kg\\n\")\n",
    "df['empty_weight'] = df['empty_weight'].str.replace(',','').astype(float)\n",
    "df['empty_weight'].value_counts(dropna=False) "
   ]
  },
  {
   "cell_type": "markdown",
   "metadata": {},
   "source": [
    "#### model_code\n"
   ]
  },
  {
   "cell_type": "code",
   "execution_count": 75,
   "metadata": {},
   "outputs": [
    {
     "data": {
      "text/plain": [
       "model_code\n",
       "NaN                   21113\n",
       "[\\n, 8212/AFJ, \\n]       75\n",
       "[\\n, 1727/AAM, \\n]       64\n",
       "[\\n, 1349/AGI, \\n]       61\n",
       "[\\n, 1889/ABU, \\n]       55\n",
       "                      ...  \n",
       "[\\n, 7593/ANL, \\n]        1\n",
       "[\\n, 1727/ABC, \\n]        1\n",
       "[\\n, 4136/AEC, \\n]        1\n",
       "[\\n, 4136/668, \\n]        1\n",
       "[\\n, 9101/449, \\n]        1\n",
       "Name: count, Length: 2187, dtype: int64"
      ]
     },
     "execution_count": 75,
     "metadata": {},
     "output_type": "execute_result"
    }
   ],
   "source": [
    "df['model_code'].value_counts(dropna=False)"
   ]
  },
  {
   "cell_type": "code",
   "execution_count": 76,
   "metadata": {
    "scrolled": true
   },
   "outputs": [
    {
     "data": {
      "text/plain": [
       "model_code\n",
       "NaN          21113\n",
       " 8212/AFJ       75\n",
       " 1727/AAM       64\n",
       " 1349/AGI       61\n",
       " 1889/ABU       55\n",
       "             ...  \n",
       " 7593/ANL        1\n",
       " 1727/ABC        1\n",
       " 4136/AEC        1\n",
       " 4136/668        1\n",
       " 9101/449        1\n",
       "Name: count, Length: 2187, dtype: int64"
      ]
     },
     "execution_count": 76,
     "metadata": {},
     "output_type": "execute_result"
    }
   ],
   "source": [
    "df['model_code'] = df['model_code'].str[0].str.extract(\"\\n,(.*), \\n\")\n",
    "df['model_code'].value_counts(dropna=False)"
   ]
  },
  {
   "cell_type": "code",
   "execution_count": 77,
   "metadata": {},
   "outputs": [],
   "source": [
    "df.drop('model_code', axis=1, inplace=True)"
   ]
  },
  {
   "cell_type": "markdown",
   "metadata": {},
   "source": [
    "#### general_inspection"
   ]
  },
  {
   "cell_type": "code",
   "execution_count": 78,
   "metadata": {
    "scrolled": true
   },
   "outputs": [
    {
     "data": {
      "text/plain": [
       "general_inspection\n",
       "NaN        17226\n",
       "New         5883\n",
       "05/2023      286\n",
       "08/2023      280\n",
       "03/2023      268\n",
       "           ...  \n",
       "09/2017        1\n",
       "08/2013        1\n",
       "08/2020        1\n",
       "08/2018        1\n",
       "03/2021        1\n",
       "Name: count, Length: 92, dtype: int64"
      ]
     },
     "execution_count": 78,
     "metadata": {},
     "output_type": "execute_result"
    }
   ],
   "source": [
    "df['general_inspection'].value_counts(dropna=False)"
   ]
  },
  {
   "cell_type": "code",
   "execution_count": 79,
   "metadata": {},
   "outputs": [],
   "source": [
    "df.drop('general_inspection', axis=1, inplace=True)"
   ]
  },
  {
   "cell_type": "markdown",
   "metadata": {},
   "source": [
    "#### last_service"
   ]
  },
  {
   "cell_type": "code",
   "execution_count": 80,
   "metadata": {},
   "outputs": [
    {
     "data": {
      "text/plain": [
       "last_service\n",
       "NaN        27477\n",
       "09/2022      220\n",
       "08/2022      196\n",
       "06/2022      164\n",
       "07/2022      155\n",
       "           ...  \n",
       "02/2018        1\n",
       "02/2011        1\n",
       "10/2013        1\n",
       "08/2017        1\n",
       "08/2019        1\n",
       "Name: count, Length: 62, dtype: int64"
      ]
     },
     "execution_count": 80,
     "metadata": {},
     "output_type": "execute_result"
    }
   ],
   "source": [
    "df['last_service'].value_counts(dropna=False)"
   ]
  },
  {
   "cell_type": "code",
   "execution_count": 81,
   "metadata": {
    "scrolled": true
   },
   "outputs": [
    {
     "data": {
      "text/plain": [
       "last_service\n",
       "NaT           27477\n",
       "2022-09-01      220\n",
       "2022-08-01      196\n",
       "2022-06-01      164\n",
       "2022-07-01      155\n",
       "              ...  \n",
       "2018-02-01        1\n",
       "2011-02-01        1\n",
       "2013-10-01        1\n",
       "2017-08-01        1\n",
       "2019-08-01        1\n",
       "Name: count, Length: 62, dtype: int64"
      ]
     },
     "execution_count": 81,
     "metadata": {},
     "output_type": "execute_result"
    }
   ],
   "source": [
    "df['last_service'] = pd.to_datetime(df['last_service'], format='%m/%Y')\n",
    "df['last_service'].value_counts(dropna=False)"
   ]
  },
  {
   "cell_type": "code",
   "execution_count": 82,
   "metadata": {},
   "outputs": [],
   "source": [
    "df.drop('last_service', axis=1, inplace=True)"
   ]
  },
  {
   "cell_type": "markdown",
   "metadata": {},
   "source": [
    "#### full_service_history"
   ]
  },
  {
   "cell_type": "code",
   "execution_count": 83,
   "metadata": {
    "scrolled": true
   },
   "outputs": [
    {
     "data": {
      "text/plain": [
       "full_service_history\n",
       "NaN    16915\n",
       "Yes    12565\n",
       "Name: count, dtype: int64"
      ]
     },
     "execution_count": 83,
     "metadata": {},
     "output_type": "execute_result"
    }
   ],
   "source": [
    "df['full_service_history'].value_counts(dropna=False)"
   ]
  },
  {
   "cell_type": "markdown",
   "metadata": {},
   "source": [
    "#### nonsmoker_vehicle"
   ]
  },
  {
   "cell_type": "code",
   "execution_count": 84,
   "metadata": {},
   "outputs": [
    {
     "data": {
      "text/plain": [
       "nonsmoker_vehicle\n",
       "NaN    17886\n",
       "Yes    11594\n",
       "Name: count, dtype: int64"
      ]
     },
     "execution_count": 84,
     "metadata": {},
     "output_type": "execute_result"
    }
   ],
   "source": [
    "df['nonsmoker_vehicle'].value_counts(dropna=False)"
   ]
  },
  {
   "cell_type": "markdown",
   "metadata": {},
   "source": [
    "#### emission_class\n",
    "Categorize Euro 6, Euro 6d-TEMP, Euro 6d, Euro 6c  as 6"
   ]
  },
  {
   "cell_type": "code",
   "execution_count": 85,
   "metadata": {},
   "outputs": [
    {
     "data": {
      "text/plain": [
       "emission_class\n",
       "NaN             11621\n",
       "Euro 6           6418\n",
       "Euro 6d-TEMP     3399\n",
       "Euro 6d          2858\n",
       "Euro 5           2389\n",
       "Euro 4           1743\n",
       "Euro 3            523\n",
       "Euro 2            217\n",
       "Euro 1            172\n",
       "Euro 6c           140\n",
       "Name: count, dtype: int64"
      ]
     },
     "execution_count": 85,
     "metadata": {},
     "output_type": "execute_result"
    }
   ],
   "source": [
    "df['emission_class'].value_counts(dropna=False)"
   ]
  },
  {
   "cell_type": "raw",
   "metadata": {
    "scrolled": false
   },
   "source": [
    "df['emission_class']= df['emission_class'].str.extract('(\\d)')\n",
    "df['emission_class'].value_counts(dropna=False)"
   ]
  },
  {
   "cell_type": "raw",
   "metadata": {},
   "source": [
    "def emission(x):\n",
    "    if x in ['1','2']:\n",
    "        return 'high pollutant'\n",
    "    elif x in ['3','4']:\n",
    "        return 'medium pollutant'\n",
    "    elif x in ['5','6']:\n",
    "        return 'low pollutant'"
   ]
  },
  {
   "cell_type": "raw",
   "metadata": {},
   "source": [
    "df['emission_class'].apply(emission).value_counts(dropna=False)"
   ]
  },
  {
   "cell_type": "markdown",
   "metadata": {},
   "source": [
    "#### emissions_sticker\n",
    "* 4 (Green)          \n",
    "* 1 (No sticker)      \n",
    "* 3 (Yellow)            \n",
    "* 2 (Red) \n",
    "* Silelim"
   ]
  },
  {
   "cell_type": "code",
   "execution_count": 86,
   "metadata": {},
   "outputs": [
    {
     "data": {
      "text/plain": [
       "emissions_sticker\n",
       "NaN               20066\n",
       "4 (Green)          9230\n",
       "1 (No sticker)      176\n",
       "3 (Yellow)            6\n",
       "2 (Red)               2\n",
       "Name: count, dtype: int64"
      ]
     },
     "execution_count": 86,
     "metadata": {},
     "output_type": "execute_result"
    }
   ],
   "source": [
    "df['emissions_sticker'].value_counts(dropna=False)"
   ]
  },
  {
   "cell_type": "code",
   "execution_count": 87,
   "metadata": {},
   "outputs": [],
   "source": [
    "df['emissions_sticker'] = df['emissions_sticker'].str.extract('(\\d)')\n",
    "df['emissions_sticker'] = df['emissions_sticker']"
   ]
  },
  {
   "cell_type": "markdown",
   "metadata": {},
   "source": [
    "#### upholstery_colour\n"
   ]
  },
  {
   "cell_type": "code",
   "execution_count": 88,
   "metadata": {
    "scrolled": true
   },
   "outputs": [
    {
     "data": {
      "text/plain": [
       "upholstery_colour\n",
       "NaN       14911\n",
       "Black     10416\n",
       "Grey       2038\n",
       "Other      1003\n",
       "Beige       466\n",
       "Brown       275\n",
       "Red         159\n",
       "White        93\n",
       "Blue         82\n",
       "Orange       23\n",
       "Green         8\n",
       "Yellow        6\n",
       "Name: count, dtype: int64"
      ]
     },
     "execution_count": 88,
     "metadata": {},
     "output_type": "execute_result"
    }
   ],
   "source": [
    "df['upholstery_colour'].value_counts(dropna=False)"
   ]
  },
  {
   "cell_type": "code",
   "execution_count": 89,
   "metadata": {},
   "outputs": [],
   "source": [
    "df.drop('upholstery_colour', axis=1,inplace=True)"
   ]
  },
  {
   "cell_type": "markdown",
   "metadata": {},
   "source": [
    "#### upholstery"
   ]
  },
  {
   "cell_type": "code",
   "execution_count": 90,
   "metadata": {
    "scrolled": true
   },
   "outputs": [
    {
     "data": {
      "text/plain": [
       "upholstery\n",
       "NaN             10870\n",
       "Cloth            8736\n",
       "Full leather     5439\n",
       "Part leather     2835\n",
       "alcantara         764\n",
       "Other             628\n",
       "Velour            208\n",
       "Name: count, dtype: int64"
      ]
     },
     "execution_count": 90,
     "metadata": {},
     "output_type": "execute_result"
    }
   ],
   "source": [
    "df['upholstery'].value_counts(dropna=False)"
   ]
  },
  {
   "cell_type": "markdown",
   "metadata": {},
   "source": [
    "#### production_date\n"
   ]
  },
  {
   "cell_type": "code",
   "execution_count": 91,
   "metadata": {},
   "outputs": [
    {
     "data": {
      "text/plain": [
       "production_date\n",
       "NaN       23572\n",
       "2019.0     1179\n",
       "2021.0      980\n",
       "2022.0      894\n",
       "2020.0      763\n",
       "2018.0      762\n",
       "2017.0      391\n",
       "2016.0      239\n",
       "2015.0      118\n",
       "2014.0       90\n",
       "2013.0       76\n",
       "2010.0       53\n",
       "2012.0       43\n",
       "2011.0       43\n",
       "2008.0       34\n",
       "2009.0       26\n",
       "2007.0       20\n",
       "2006.0       17\n",
       "2002.0       15\n",
       "2004.0       13\n",
       "2003.0       13\n",
       "1967.0       12\n",
       "2001.0       12\n",
       "1966.0       11\n",
       "1999.0        9\n",
       "2005.0        9\n",
       "1965.0        9\n",
       "1970.0        9\n",
       "1997.0        8\n",
       "1994.0        8\n",
       "1968.0        7\n",
       "2000.0        7\n",
       "1998.0        5\n",
       "1990.0        3\n",
       "1973.0        3\n",
       "1987.0        3\n",
       "1993.0        3\n",
       "1991.0        3\n",
       "1996.0        3\n",
       "1995.0        2\n",
       "1969.0        2\n",
       "1978.0        2\n",
       "1982.0        2\n",
       "1961.0        1\n",
       "1954.0        1\n",
       "1988.0        1\n",
       "1962.0        1\n",
       "1981.0        1\n",
       "1985.0        1\n",
       "1976.0        1\n",
       "Name: count, dtype: int64"
      ]
     },
     "execution_count": 91,
     "metadata": {},
     "output_type": "execute_result"
    }
   ],
   "source": [
    "df['production_date'].value_counts(dropna=False)"
   ]
  },
  {
   "cell_type": "markdown",
   "metadata": {},
   "source": [
    "#### previous_owner\n"
   ]
  },
  {
   "cell_type": "code",
   "execution_count": 92,
   "metadata": {},
   "outputs": [
    {
     "data": {
      "text/plain": [
       "previous_owner\n",
       "NaN                           15465\n",
       "[[50 km, 06/2022], 1]            64\n",
       "[[10 km, 08/2022], 1]            59\n",
       "[[10 km, 07/2022], 1]            45\n",
       "[[10 km, 09/2022], 1]            38\n",
       "                              ...  \n",
       "[[358,000 km, 10/2010], 2]        1\n",
       "[[165,400 km, 09/2010], 1]        1\n",
       "[[65,000 km, 10/2006], 1]         1\n",
       "[[71,000 km, 04/2013], 1]         1\n",
       "[[230,047 km, 07/2002], 5]        1\n",
       "Name: count, Length: 11734, dtype: int64"
      ]
     },
     "execution_count": 92,
     "metadata": {},
     "output_type": "execute_result"
    }
   ],
   "source": [
    "df['previous_owner'].value_counts(dropna=False)"
   ]
  },
  {
   "cell_type": "code",
   "execution_count": 93,
   "metadata": {},
   "outputs": [
    {
     "data": {
      "text/plain": [
       "previous_owner\n",
       "NaN    15465\n",
       "1       9746\n",
       "2       3221\n",
       "3        699\n",
       "4        184\n",
       "5         69\n",
       "6         37\n",
       "7         22\n",
       "8         16\n",
       "9         14\n",
       "12         3\n",
       "10         2\n",
       "14         1\n",
       "13         1\n",
       "Name: count, dtype: int64"
      ]
     },
     "execution_count": 93,
     "metadata": {},
     "output_type": "execute_result"
    }
   ],
   "source": [
    "df['previous_owner'].str[1].value_counts(dropna=False)"
   ]
  },
  {
   "cell_type": "code",
   "execution_count": 94,
   "metadata": {},
   "outputs": [
    {
     "data": {
      "text/plain": [
       "NaN    15465\n",
       "1       9746\n",
       "2       3221\n",
       "3        699\n",
       "4        184\n",
       "5         69\n",
       "6         37\n",
       "7         22\n",
       "8         16\n",
       "9         14\n",
       "12         3\n",
       "10         2\n",
       "13         1\n",
       "14         1\n",
       "Name: count, dtype: int64"
      ]
     },
     "execution_count": 94,
     "metadata": {},
     "output_type": "execute_result"
    }
   ],
   "source": [
    "df['previous_owner'].str[1].str.extract('(\\d+)').value_counts(dropna=False)"
   ]
  },
  {
   "cell_type": "code",
   "execution_count": 95,
   "metadata": {},
   "outputs": [],
   "source": [
    "df['previous_owner'] = df['previous_owner'].str[1].str.extract('(\\d+)')\n",
    "df['previous_owner'] = df['previous_owner'].astype(float)"
   ]
  },
  {
   "cell_type": "markdown",
   "metadata": {},
   "source": [
    "#### other_fuel_types"
   ]
  },
  {
   "cell_type": "code",
   "execution_count": 96,
   "metadata": {},
   "outputs": [
    {
     "data": {
      "text/plain": [
       "other_fuel_types\n",
       "NaN             27167\n",
       "Electricity      2301\n",
       "Hydogen            11\n",
       "Super E10 95        1\n",
       "Name: count, dtype: int64"
      ]
     },
     "execution_count": 96,
     "metadata": {},
     "output_type": "execute_result"
    }
   ],
   "source": [
    "df['other_fuel_types'].value_counts(dropna=False)"
   ]
  },
  {
   "cell_type": "markdown",
   "metadata": {},
   "source": [
    "#### power_consumption\n"
   ]
  },
  {
   "cell_type": "code",
   "execution_count": 97,
   "metadata": {},
   "outputs": [
    {
     "data": {
      "text/plain": [
       "power_consumption\n",
       "NaN                        28965\n",
       "0 kWh/100 km (comb.)         101\n",
       "15.2 kWh/100 km (comb.)       30\n",
       "15.7 kWh/100 km (comb.)       19\n",
       "17.7 kWh/100 km (comb.)       17\n",
       "                           ...  \n",
       "18 kWh/100 km (comb.)          1\n",
       "25.3 kWh/100 km (comb.)        1\n",
       "12.7 kWh/100 km (comb.)        1\n",
       "22.7 kWh/100 km (comb.)        1\n",
       "20.4 kWh/100 km (comb.)        1\n",
       "Name: count, Length: 105, dtype: int64"
      ]
     },
     "execution_count": 97,
     "metadata": {},
     "output_type": "execute_result"
    }
   ],
   "source": [
    "df['power_consumption'].value_counts(dropna=False)"
   ]
  },
  {
   "cell_type": "code",
   "execution_count": 98,
   "metadata": {},
   "outputs": [],
   "source": [
    "df['power_consumption'] = df['power_consumption'].str.extract('(\\d+.\\d+|\\d+) kW').astype(float)"
   ]
  },
  {
   "cell_type": "markdown",
   "metadata": {},
   "source": [
    "####  energy_efficiency_class"
   ]
  },
  {
   "cell_type": "code",
   "execution_count": 99,
   "metadata": {
    "scrolled": false
   },
   "outputs": [
    {
     "data": {
      "text/plain": [
       "energy_efficiency_class\n",
       "NaN     21676\n",
       "B        2090\n",
       "A        1687\n",
       "C        1133\n",
       "A+       1089\n",
       "D         636\n",
       "A+++      375\n",
       "G         309\n",
       "E         271\n",
       "F         147\n",
       "A++        67\n",
       "Name: count, dtype: int64"
      ]
     },
     "execution_count": 99,
     "metadata": {},
     "output_type": "execute_result"
    }
   ],
   "source": [
    " df['energy_efficiency_class'].value_counts(dropna=False)"
   ]
  },
  {
   "cell_type": "markdown",
   "metadata": {},
   "source": [
    "**Domain knowledge:**\n",
    "\n",
    "Vehicles with higher energy efficiency ratings are often more environmentally friendly and can result in cost savings due to lower fuel or energy consumption.\n",
    "\n",
    "A (or A+++ to A): This represents the highest level of energy efficiency. Vehicles in this class are the most fuel-efficient or energy-efficient and typically have lower fuel consumption or energy usage per unit of distance traveled.\n",
    "\n",
    "B: Vehicles in this class are also relatively fuel-efficient or energy-efficient but not as much as those in the A class.\n",
    "\n",
    "C: This represents a moderate level of energy efficiency. Vehicles in this class are somewhat efficient but may consume more fuel or energy than A or B-class vehicles.\n",
    "\n",
    "D (or lower): Vehicles in this class have lower energy efficiency and are typically less fuel-efficient or consume more energy per unit of distance traveled."
   ]
  },
  {
   "cell_type": "code",
   "execution_count": null,
   "metadata": {},
   "outputs": [],
   "source": []
  },
  {
   "cell_type": "markdown",
   "metadata": {},
   "source": [
    "#### CO2_efficiency"
   ]
  },
  {
   "cell_type": "code",
   "execution_count": 100,
   "metadata": {
    "scrolled": true
   },
   "outputs": [
    {
     "data": {
      "text/plain": [
       "CO2_efficiency\n",
       "NaN                                                                                           21676\n",
       "Calculated on basis of measured CO₂-emissions taking into account the mass of the vehicle.     7804\n",
       "Name: count, dtype: int64"
      ]
     },
     "execution_count": 100,
     "metadata": {},
     "output_type": "execute_result"
    }
   ],
   "source": [
    " df['CO2_efficiency'].value_counts(dropna=False)"
   ]
  },
  {
   "cell_type": "markdown",
   "metadata": {},
   "source": [
    "#### fuel_consumption(WLTP)\n"
   ]
  },
  {
   "cell_type": "code",
   "execution_count": 101,
   "metadata": {
    "scrolled": true
   },
   "outputs": [
    {
     "data": {
      "text/plain": [
       "fuel_consumption(WLTP)\n",
       "NaN              29380\n",
       "5.5 l/100 km         9\n",
       "5 l/100 km           8\n",
       "5.4 l/100 km         5\n",
       "6.8 l/100 km         5\n",
       "6.5 l/100 km         4\n",
       "5.7 l/100 km         4\n",
       "7.3 l/100 km         4\n",
       "5.2 l/100 km         3\n",
       "4.9 l/100 km         3\n",
       "6.6 l/100 km         3\n",
       "6.7 l/100 km         3\n",
       "5.9 l/100 km         2\n",
       "6.1 l/100 km         2\n",
       "5.6 l/100 km         2\n",
       "4.7 l/100 km         2\n",
       "4.4 l/100 km         2\n",
       "5.8 l/100 km         2\n",
       "6.3 l/100 km         2\n",
       "6.2 l/100 km         2\n",
       "8.4 l/100 km         2\n",
       "16 l/100 km          2\n",
       "7.6 l/100 km         2\n",
       "12.6 l/100 km        2\n",
       "9.3 l/100 km         2\n",
       "1.5 l/100 km         1\n",
       "12 l/100 km          1\n",
       "5.3 l/100 km         1\n",
       "8 l/100 km           1\n",
       "8.2 l/100 km         1\n",
       "4.8 l/100 km         1\n",
       "4.1 l/100 km         1\n",
       "4.2 l/100 km         1\n",
       "4.3 l/100 km         1\n",
       "1.1 l/100 km         1\n",
       "3.9 l/100 km         1\n",
       "6.4 l/100 km         1\n",
       "8.6 l/100 km         1\n",
       "10.3 l/100 km        1\n",
       "12.2 l/100 km        1\n",
       "12.3 l/100 km        1\n",
       "8.3 l/100 km         1\n",
       "7.2 l/100 km         1\n",
       "9.6 l/100 km         1\n",
       "9.1 l/100 km         1\n",
       "12.9 l/100 km        1\n",
       "10.4 l/100 km        1\n",
       "7.8 l/100 km         1\n",
       "Name: count, dtype: int64"
      ]
     },
     "execution_count": 101,
     "metadata": {},
     "output_type": "execute_result"
    }
   ],
   "source": [
    " df['fuel_consumption(WLTP)'].value_counts(dropna=False)"
   ]
  },
  {
   "cell_type": "code",
   "execution_count": 102,
   "metadata": {},
   "outputs": [],
   "source": [
    "df['fuel_consumption(WLTP)'] = df['fuel_consumption(WLTP)'].str.extract(r'(\\d+\\.\\d+|\\d+)').astype(float)"
   ]
  },
  {
   "cell_type": "markdown",
   "metadata": {},
   "source": [
    "#### CO2_emissions(WLTP)\t\n",
    "\n",
    "\n",
    "**WLTP** (Worldwide Harmonized Light Vehicles Test Procedure)is a global standard for testing the fuel efficiency, emissions, and energy consumption of vehicles, including cars and light commercial vehicles."
   ]
  },
  {
   "cell_type": "code",
   "execution_count": 103,
   "metadata": {
    "scrolled": true
   },
   "outputs": [
    {
     "data": {
      "text/plain": [
       "CO2_emissions(WLTP)\n",
       "NaN                 29364\n",
       "0 g/km (comb.)         14\n",
       "125 g/km (comb.)        8\n",
       "130 g/km (comb.)        4\n",
       "129 g/km (comb.)        4\n",
       "                    ...  \n",
       "211 g/km (comb.)        1\n",
       "218 g/km (comb.)        1\n",
       "159 g/km (comb.)        1\n",
       "115 g/km (comb.)        1\n",
       "97 g/km (comb.)         1\n",
       "Name: count, Length: 69, dtype: int64"
      ]
     },
     "execution_count": 103,
     "metadata": {},
     "output_type": "execute_result"
    }
   ],
   "source": [
    " df['CO2_emissions(WLTP)'].value_counts(dropna=False)"
   ]
  },
  {
   "cell_type": "code",
   "execution_count": 104,
   "metadata": {},
   "outputs": [],
   "source": [
    "df.drop('CO2_emissions(WLTP)', axis=1, inplace=True)"
   ]
  },
  {
   "cell_type": "markdown",
   "metadata": {},
   "source": [
    "#### available_from\t\n"
   ]
  },
  {
   "cell_type": "code",
   "execution_count": 105,
   "metadata": {
    "scrolled": true
   },
   "outputs": [
    {
     "data": {
      "text/plain": [
       "available_from\n",
       "NaN                     29087\n",
       "[\\n, 01/03/2023, \\n]       34\n",
       "[\\n, 01/10/2026, \\n]       23\n",
       "[\\n, 31/03/2023, \\n]       17\n",
       "[\\n, 08/10/2022, \\n]       15\n",
       "                        ...  \n",
       "[\\n, 18/11/2022, \\n]        1\n",
       "[\\n, 24/10/2022, \\n]        1\n",
       "[\\n, 03/02/2023, \\n]        1\n",
       "[\\n, 27/10/2022, \\n]        1\n",
       "[\\n, 12/10/2022, \\n]        1\n",
       "Name: count, Length: 126, dtype: int64"
      ]
     },
     "execution_count": 105,
     "metadata": {},
     "output_type": "execute_result"
    }
   ],
   "source": [
    " df['available_from'].value_counts(dropna=False)"
   ]
  },
  {
   "cell_type": "code",
   "execution_count": 106,
   "metadata": {},
   "outputs": [],
   "source": [
    "df.drop('available_from', axis=1, inplace=True)"
   ]
  },
  {
   "cell_type": "markdown",
   "metadata": {},
   "source": [
    "#### taxi_or_rentalcar\n"
   ]
  },
  {
   "cell_type": "code",
   "execution_count": 107,
   "metadata": {},
   "outputs": [
    {
     "data": {
      "text/plain": [
       "taxi_or_rentalcar\n",
       "NaN    29058\n",
       "Yes      422\n",
       "Name: count, dtype: int64"
      ]
     },
     "execution_count": 107,
     "metadata": {},
     "output_type": "execute_result"
    }
   ],
   "source": [
    " df['taxi_or_rentalcar'].value_counts(dropna=False)"
   ]
  },
  {
   "cell_type": "markdown",
   "metadata": {},
   "source": [
    "#### availability\n"
   ]
  },
  {
   "cell_type": "code",
   "execution_count": 108,
   "metadata": {
    "scrolled": true
   },
   "outputs": [
    {
     "data": {
      "text/plain": [
       "availability\n",
       "NaN                                  29179\n",
       "[\\n, in 1 day after order, \\n]          64\n",
       "[\\n, in 5 days after order, \\n]         56\n",
       "[\\n, in 7 days after order, \\n]         31\n",
       "[\\n, in 3 days after order, \\n]         25\n",
       "[\\n, in 14 days after order, \\n]        22\n",
       "[\\n, in 60 days after order, \\n]        21\n",
       "[\\n, in 42 days after order, \\n]        15\n",
       "[\\n, in 180 days after order, \\n]       12\n",
       "[\\n, in 90 days after order, \\n]        10\n",
       "[\\n, in 120 days after order, \\n]       10\n",
       "[\\n, in 6 days after order, \\n]          9\n",
       "[\\n, in 270 days after order, \\n]        8\n",
       "[\\n, in 28 days after order, \\n]         5\n",
       "[\\n, in 2 days after order, \\n]          5\n",
       "[\\n, in 4 days after order, \\n]          4\n",
       "[\\n, in 21 days after order, \\n]         2\n",
       "[\\n, in 360 days after order, \\n]        1\n",
       "[\\n, in 150 days after order, \\n]        1\n",
       "Name: count, dtype: int64"
      ]
     },
     "execution_count": 108,
     "metadata": {},
     "output_type": "execute_result"
    }
   ],
   "source": [
    " df['availability'].value_counts(dropna=False)"
   ]
  },
  {
   "cell_type": "code",
   "execution_count": 109,
   "metadata": {},
   "outputs": [],
   "source": [
    "df.drop('availability', axis=1, inplace=True)"
   ]
  },
  {
   "cell_type": "markdown",
   "metadata": {},
   "source": [
    "#### last_timing_belt_change\n",
    "\n",
    "Domain Knowledge:\n",
    "\n",
    "Timing Belt is essential for the proper functioning of the engine. ths refers to the date at which the timing belt in a vehicle's engine was last replaced as part of routine maintenance.\n",
    "\n",
    "Replacement interval typically ranges from 96,000 to 160,000 kilometers or every 5 to 7 years,"
   ]
  },
  {
   "cell_type": "code",
   "execution_count": 110,
   "metadata": {
    "scrolled": true
   },
   "outputs": [
    {
     "data": {
      "text/plain": [
       "last_timing_belt_change\n",
       "NaN        28908\n",
       "04/2022       27\n",
       "05/2021       26\n",
       "08/2022       25\n",
       "07/2022       24\n",
       "           ...  \n",
       "07/2018        1\n",
       "10/2015        1\n",
       "12/2019        1\n",
       "11/2018        1\n",
       "07/2016        1\n",
       "Name: count, Length: 87, dtype: int64"
      ]
     },
     "execution_count": 110,
     "metadata": {},
     "output_type": "execute_result"
    }
   ],
   "source": [
    " df['last_timing_belt_change'].value_counts(dropna=False)"
   ]
  },
  {
   "cell_type": "code",
   "execution_count": 111,
   "metadata": {},
   "outputs": [],
   "source": [
    "df.drop('last_timing_belt_change', axis=1, inplace=True)"
   ]
  },
  {
   "cell_type": "markdown",
   "metadata": {},
   "source": [
    "#### electric_range(WLTP)"
   ]
  },
  {
   "cell_type": "markdown",
   "metadata": {},
   "source": [
    "**hydrojen**\n",
    "\n",
    "Domain knowledge:\n",
    "\n",
    "Hybrid and electric vehicles produce zero CO emissions when operating in electric mode."
   ]
  },
  {
   "cell_type": "code",
   "execution_count": 112,
   "metadata": {},
   "outputs": [
    {
     "data": {
      "text/plain": [
       "electric_range(WLTP)\n",
       "NaN                           29464\n",
       "426 km492 km (within city)        2\n",
       "389 km                            2\n",
       "402 km484 km (within city)        1\n",
       "50 km50 km (within city)          1\n",
       "614 km681 km (within city)        1\n",
       "573 km573 km (within city)        1\n",
       "691 km691 km (within city)        1\n",
       "351 km351 km (within city)        1\n",
       "48 km48 km (within city)          1\n",
       "450 km450 km (within city)        1\n",
       "402 km402 km (within city)        1\n",
       "540 km540 km (within city)        1\n",
       "360 km                            1\n",
       "384 km                            1\n",
       "Name: count, dtype: int64"
      ]
     },
     "execution_count": 112,
     "metadata": {},
     "output_type": "execute_result"
    }
   ],
   "source": [
    " df['electric_range(WLTP)'].value_counts(dropna=False)"
   ]
  },
  {
   "cell_type": "code",
   "execution_count": 113,
   "metadata": {
    "scrolled": true
   },
   "outputs": [
    {
     "data": {
      "text/plain": [
       "NaN    29464\n",
       "389        2\n",
       "402        2\n",
       "426        2\n",
       "351        1\n",
       "360        1\n",
       "384        1\n",
       "450        1\n",
       "48         1\n",
       "50         1\n",
       "540        1\n",
       "573        1\n",
       "614        1\n",
       "691        1\n",
       "Name: count, dtype: int64"
      ]
     },
     "execution_count": 113,
     "metadata": {},
     "output_type": "execute_result"
    }
   ],
   "source": [
    " df['electric_range(WLTP)'].str.extract('(\\d+) .*').value_counts(dropna=False)"
   ]
  },
  {
   "cell_type": "code",
   "execution_count": 114,
   "metadata": {},
   "outputs": [],
   "source": [
    "df['electric_range(WLTP)'] = df['electric_range(WLTP)'].str.extract('(\\d+) .*')\n",
    "df['electric_range(WLTP)'] = df['electric_range(WLTP)'].astype(float)"
   ]
  },
  {
   "cell_type": "markdown",
   "metadata": {},
   "source": [
    "#### power_consumption(WLTP)\n",
    "cogu nan elektrikli arac icin bak"
   ]
  },
  {
   "cell_type": "code",
   "execution_count": 115,
   "metadata": {
    "scrolled": true
   },
   "outputs": [
    {
     "data": {
      "text/plain": [
       "power_consumption(WLTP)\n",
       "NaN                29464\n",
       "21.9 kWh/100 km        2\n",
       "17.2 kWh/100 km        2\n",
       "20.6 kWh/100 km        2\n",
       "18.9 kWh/100 km        1\n",
       "19.2 kWh/100 km        1\n",
       "18.4 kWh/100 km        1\n",
       "19.3 kWh/100 km        1\n",
       "15.9 kWh/100 km        1\n",
       "148 kWh/100 km         1\n",
       "16.9 kWh/100 km        1\n",
       "18.7 kWh/100 km        1\n",
       "18.1 kWh/100 km        1\n",
       "18.6 kWh/100 km        1\n",
       "Name: count, dtype: int64"
      ]
     },
     "execution_count": 115,
     "metadata": {},
     "output_type": "execute_result"
    }
   ],
   "source": [
    " df['power_consumption(WLTP)'].value_counts(dropna=False)"
   ]
  },
  {
   "cell_type": "code",
   "execution_count": 116,
   "metadata": {},
   "outputs": [],
   "source": [
    "df['power_consumption(WLTP)'] = df['power_consumption(WLTP)'].str.extract(\"(\\d+\\.*\\d*)\").astype(\"float\")"
   ]
  },
  {
   "cell_type": "markdown",
   "metadata": {},
   "source": [
    "#### battery_ownership\n",
    "Sadece 7 deger var"
   ]
  },
  {
   "cell_type": "code",
   "execution_count": 117,
   "metadata": {},
   "outputs": [
    {
     "data": {
      "text/plain": [
       "battery_ownership\n",
       "NaN         29473\n",
       "Included        7\n",
       "Name: count, dtype: int64"
      ]
     },
     "execution_count": 117,
     "metadata": {},
     "output_type": "execute_result"
    }
   ],
   "source": [
    " df['battery_ownership'].value_counts(dropna=False)"
   ]
  },
  {
   "cell_type": "code",
   "execution_count": null,
   "metadata": {},
   "outputs": [],
   "source": []
  },
  {
   "cell_type": "code",
   "execution_count": 118,
   "metadata": {
    "scrolled": false
   },
   "outputs": [
    {
     "data": {
      "text/html": [
       "<div>\n",
       "<style scoped>\n",
       "    .dataframe tbody tr th:only-of-type {\n",
       "        vertical-align: middle;\n",
       "    }\n",
       "\n",
       "    .dataframe tbody tr th {\n",
       "        vertical-align: top;\n",
       "    }\n",
       "\n",
       "    .dataframe thead th {\n",
       "        text-align: right;\n",
       "    }\n",
       "</style>\n",
       "<table border=\"1\" class=\"dataframe\">\n",
       "  <thead>\n",
       "    <tr style=\"text-align: right;\">\n",
       "      <th></th>\n",
       "      <th>3137</th>\n",
       "      <th>27993</th>\n",
       "      <th>12912</th>\n",
       "    </tr>\n",
       "  </thead>\n",
       "  <tbody>\n",
       "    <tr>\n",
       "      <th>make_model</th>\n",
       "      <td>Opel Cascada</td>\n",
       "      <td>Volvo XC90</td>\n",
       "      <td>SEAT Arona</td>\n",
       "    </tr>\n",
       "    <tr>\n",
       "      <th>make</th>\n",
       "      <td>Opel</td>\n",
       "      <td>Volvo</td>\n",
       "      <td>SEAT</td>\n",
       "    </tr>\n",
       "    <tr>\n",
       "      <th>model</th>\n",
       "      <td>Cascada</td>\n",
       "      <td>XC90</td>\n",
       "      <td>Arona</td>\n",
       "    </tr>\n",
       "    <tr>\n",
       "      <th>location</th>\n",
       "      <td>DE</td>\n",
       "      <td>BE</td>\n",
       "      <td>DE</td>\n",
       "    </tr>\n",
       "    <tr>\n",
       "      <th>price</th>\n",
       "      <td>9950.0</td>\n",
       "      <td>45995.0</td>\n",
       "      <td>16990.0</td>\n",
       "    </tr>\n",
       "    <tr>\n",
       "      <th>body_type</th>\n",
       "      <td>Convertible</td>\n",
       "      <td>Off-Road/Pick-up</td>\n",
       "      <td>Off-Road/Pick-up</td>\n",
       "    </tr>\n",
       "    <tr>\n",
       "      <th>type</th>\n",
       "      <td>Used</td>\n",
       "      <td>Used</td>\n",
       "      <td>Used</td>\n",
       "    </tr>\n",
       "    <tr>\n",
       "      <th>doors</th>\n",
       "      <td>2.0</td>\n",
       "      <td>5.0</td>\n",
       "      <td>5.0</td>\n",
       "    </tr>\n",
       "    <tr>\n",
       "      <th>country_version</th>\n",
       "      <td>Germany</td>\n",
       "      <td>NaN</td>\n",
       "      <td>Germany</td>\n",
       "    </tr>\n",
       "    <tr>\n",
       "      <th>warranty</th>\n",
       "      <td>NaN</td>\n",
       "      <td>NaN</td>\n",
       "      <td>NaN</td>\n",
       "    </tr>\n",
       "    <tr>\n",
       "      <th>mileage</th>\n",
       "      <td>183679.0</td>\n",
       "      <td>90000.0</td>\n",
       "      <td>13560.0</td>\n",
       "    </tr>\n",
       "    <tr>\n",
       "      <th>gearbox</th>\n",
       "      <td>Manual</td>\n",
       "      <td>Automatic</td>\n",
       "      <td>Manual</td>\n",
       "    </tr>\n",
       "    <tr>\n",
       "      <th>fuel_type</th>\n",
       "      <td>Diesel</td>\n",
       "      <td>Gasoline</td>\n",
       "      <td>Domestic gas H</td>\n",
       "    </tr>\n",
       "    <tr>\n",
       "      <th>colour</th>\n",
       "      <td>Grey</td>\n",
       "      <td>Blue</td>\n",
       "      <td>White</td>\n",
       "    </tr>\n",
       "    <tr>\n",
       "      <th>paint</th>\n",
       "      <td>Metallic</td>\n",
       "      <td>Metallic</td>\n",
       "      <td>NaN</td>\n",
       "    </tr>\n",
       "    <tr>\n",
       "      <th>seller</th>\n",
       "      <td>Dealer</td>\n",
       "      <td>Dealer</td>\n",
       "      <td>Dealer</td>\n",
       "    </tr>\n",
       "    <tr>\n",
       "      <th>seats</th>\n",
       "      <td>4.0</td>\n",
       "      <td>5.0</td>\n",
       "      <td>5.0</td>\n",
       "    </tr>\n",
       "    <tr>\n",
       "      <th>engine_size</th>\n",
       "      <td>1956.0</td>\n",
       "      <td>1969.0</td>\n",
       "      <td>999.0</td>\n",
       "    </tr>\n",
       "    <tr>\n",
       "      <th>gears</th>\n",
       "      <td>6.0</td>\n",
       "      <td>8.0</td>\n",
       "      <td>6.0</td>\n",
       "    </tr>\n",
       "    <tr>\n",
       "      <th>CO2_emissions</th>\n",
       "      <td>138.0</td>\n",
       "      <td>NaN</td>\n",
       "      <td>106.0</td>\n",
       "    </tr>\n",
       "    <tr>\n",
       "      <th>manufacturer_colour</th>\n",
       "      <td>Phantom Grau Metallic</td>\n",
       "      <td>NaN</td>\n",
       "      <td>Candy Weiss</td>\n",
       "    </tr>\n",
       "    <tr>\n",
       "      <th>drivetrain</th>\n",
       "      <td>NaN</td>\n",
       "      <td>NaN</td>\n",
       "      <td>Front</td>\n",
       "    </tr>\n",
       "    <tr>\n",
       "      <th>cylinders</th>\n",
       "      <td>4.0</td>\n",
       "      <td>4.0</td>\n",
       "      <td>3.0</td>\n",
       "    </tr>\n",
       "    <tr>\n",
       "      <th>fuel_consumption</th>\n",
       "      <td>5.2</td>\n",
       "      <td>7.9</td>\n",
       "      <td>3.5</td>\n",
       "    </tr>\n",
       "    <tr>\n",
       "      <th>comfort_convenience</th>\n",
       "      <td>[Air conditioning, Armrest, Automatic climate ...</td>\n",
       "      <td>[Air conditioning, Armrest, Automatic climate ...</td>\n",
       "      <td>[Air conditioning, Automatic climate control, ...</td>\n",
       "    </tr>\n",
       "    <tr>\n",
       "      <th>entertainment_media</th>\n",
       "      <td>[Bluetooth, CD player, Hands-free equipment, O...</td>\n",
       "      <td>[Android Auto, Apple CarPlay, Bluetooth, CD pl...</td>\n",
       "      <td>[Bluetooth, Digital radio, Hands-free equipmen...</td>\n",
       "    </tr>\n",
       "    <tr>\n",
       "      <th>safety_security</th>\n",
       "      <td>[ABS, Adaptive headlights, Bi-Xenon headlights...</td>\n",
       "      <td>[ABS, Adaptive Cruise Control, Adaptive headli...</td>\n",
       "      <td>[ABS, Central door lock, Daytime running light...</td>\n",
       "    </tr>\n",
       "    <tr>\n",
       "      <th>extras</th>\n",
       "      <td>[Alloy wheels, Electronic parking brake, Emerg...</td>\n",
       "      <td>[All season tyres, Alloy wheels (20\"), Ambient...</td>\n",
       "      <td>[Alloy wheels (16\"), Roof rack, Voice Control]</td>\n",
       "    </tr>\n",
       "    <tr>\n",
       "      <th>empty_weight</th>\n",
       "      <td>1816.0</td>\n",
       "      <td>2136.0</td>\n",
       "      <td>1308.0</td>\n",
       "    </tr>\n",
       "    <tr>\n",
       "      <th>full_service_history</th>\n",
       "      <td>Yes</td>\n",
       "      <td>Yes</td>\n",
       "      <td>Yes</td>\n",
       "    </tr>\n",
       "    <tr>\n",
       "      <th>nonsmoker_vehicle</th>\n",
       "      <td>Yes</td>\n",
       "      <td>Yes</td>\n",
       "      <td>Yes</td>\n",
       "    </tr>\n",
       "    <tr>\n",
       "      <th>emission_class</th>\n",
       "      <td>Euro 5</td>\n",
       "      <td>Euro 6d-TEMP</td>\n",
       "      <td>Euro 6</td>\n",
       "    </tr>\n",
       "    <tr>\n",
       "      <th>emissions_sticker</th>\n",
       "      <td>4</td>\n",
       "      <td>NaN</td>\n",
       "      <td>4</td>\n",
       "    </tr>\n",
       "    <tr>\n",
       "      <th>upholstery</th>\n",
       "      <td>Full leather</td>\n",
       "      <td>Full leather</td>\n",
       "      <td>Cloth</td>\n",
       "    </tr>\n",
       "    <tr>\n",
       "      <th>production_date</th>\n",
       "      <td>NaN</td>\n",
       "      <td>NaN</td>\n",
       "      <td>2019.0</td>\n",
       "    </tr>\n",
       "    <tr>\n",
       "      <th>previous_owner</th>\n",
       "      <td>2.0</td>\n",
       "      <td>1.0</td>\n",
       "      <td>1.0</td>\n",
       "    </tr>\n",
       "    <tr>\n",
       "      <th>other_fuel_types</th>\n",
       "      <td>NaN</td>\n",
       "      <td>NaN</td>\n",
       "      <td>NaN</td>\n",
       "    </tr>\n",
       "    <tr>\n",
       "      <th>power_consumption</th>\n",
       "      <td>NaN</td>\n",
       "      <td>NaN</td>\n",
       "      <td>NaN</td>\n",
       "    </tr>\n",
       "    <tr>\n",
       "      <th>energy_efficiency_class</th>\n",
       "      <td>NaN</td>\n",
       "      <td>NaN</td>\n",
       "      <td>NaN</td>\n",
       "    </tr>\n",
       "    <tr>\n",
       "      <th>CO2_efficiency</th>\n",
       "      <td>NaN</td>\n",
       "      <td>NaN</td>\n",
       "      <td>NaN</td>\n",
       "    </tr>\n",
       "    <tr>\n",
       "      <th>fuel_consumption(WLTP)</th>\n",
       "      <td>NaN</td>\n",
       "      <td>NaN</td>\n",
       "      <td>NaN</td>\n",
       "    </tr>\n",
       "    <tr>\n",
       "      <th>taxi_or_rentalcar</th>\n",
       "      <td>NaN</td>\n",
       "      <td>NaN</td>\n",
       "      <td>NaN</td>\n",
       "    </tr>\n",
       "    <tr>\n",
       "      <th>electric_range(WLTP)</th>\n",
       "      <td>NaN</td>\n",
       "      <td>NaN</td>\n",
       "      <td>NaN</td>\n",
       "    </tr>\n",
       "    <tr>\n",
       "      <th>power_consumption(WLTP)</th>\n",
       "      <td>NaN</td>\n",
       "      <td>NaN</td>\n",
       "      <td>NaN</td>\n",
       "    </tr>\n",
       "    <tr>\n",
       "      <th>battery_ownership</th>\n",
       "      <td>NaN</td>\n",
       "      <td>NaN</td>\n",
       "      <td>NaN</td>\n",
       "    </tr>\n",
       "    <tr>\n",
       "      <th>first_registration_year</th>\n",
       "      <td>2014-01-01 00:00:00</td>\n",
       "      <td>2018-01-01 00:00:00</td>\n",
       "      <td>2020-01-01 00:00:00</td>\n",
       "    </tr>\n",
       "    <tr>\n",
       "      <th>power_hp</th>\n",
       "      <td>165.0</td>\n",
       "      <td>250.0</td>\n",
       "      <td>90.0</td>\n",
       "    </tr>\n",
       "  </tbody>\n",
       "</table>\n",
       "</div>"
      ],
      "text/plain": [
       "                                                                     3137   \\\n",
       "make_model                                                    Opel Cascada   \n",
       "make                                                                  Opel   \n",
       "model                                                             Cascada    \n",
       "location                                                                DE   \n",
       "price                                                               9950.0   \n",
       "body_type                                                      Convertible   \n",
       "type                                                                  Used   \n",
       "doors                                                                  2.0   \n",
       "country_version                                                    Germany   \n",
       "warranty                                                               NaN   \n",
       "mileage                                                           183679.0   \n",
       "gearbox                                                             Manual   \n",
       "fuel_type                                                           Diesel   \n",
       "colour                                                                Grey   \n",
       "paint                                                             Metallic   \n",
       "seller                                                              Dealer   \n",
       "seats                                                                  4.0   \n",
       "engine_size                                                         1956.0   \n",
       "gears                                                                  6.0   \n",
       "CO2_emissions                                                        138.0   \n",
       "manufacturer_colour                                  Phantom Grau Metallic   \n",
       "drivetrain                                                             NaN   \n",
       "cylinders                                                              4.0   \n",
       "fuel_consumption                                                       5.2   \n",
       "comfort_convenience      [Air conditioning, Armrest, Automatic climate ...   \n",
       "entertainment_media      [Bluetooth, CD player, Hands-free equipment, O...   \n",
       "safety_security          [ABS, Adaptive headlights, Bi-Xenon headlights...   \n",
       "extras                   [Alloy wheels, Electronic parking brake, Emerg...   \n",
       "empty_weight                                                        1816.0   \n",
       "full_service_history                                                   Yes   \n",
       "nonsmoker_vehicle                                                      Yes   \n",
       "emission_class                                                      Euro 5   \n",
       "emissions_sticker                                                        4   \n",
       "upholstery                                                    Full leather   \n",
       "production_date                                                        NaN   \n",
       "previous_owner                                                         2.0   \n",
       "other_fuel_types                                                       NaN   \n",
       "power_consumption                                                      NaN   \n",
       "energy_efficiency_class                                                NaN   \n",
       "CO2_efficiency                                                         NaN   \n",
       "fuel_consumption(WLTP)                                                 NaN   \n",
       "taxi_or_rentalcar                                                      NaN   \n",
       "electric_range(WLTP)                                                   NaN   \n",
       "power_consumption(WLTP)                                                NaN   \n",
       "battery_ownership                                                      NaN   \n",
       "first_registration_year                                2014-01-01 00:00:00   \n",
       "power_hp                                                             165.0   \n",
       "\n",
       "                                                                     27993  \\\n",
       "make_model                                                      Volvo XC90   \n",
       "make                                                                 Volvo   \n",
       "model                                                                XC90    \n",
       "location                                                                BE   \n",
       "price                                                              45995.0   \n",
       "body_type                                                 Off-Road/Pick-up   \n",
       "type                                                                  Used   \n",
       "doors                                                                  5.0   \n",
       "country_version                                                        NaN   \n",
       "warranty                                                               NaN   \n",
       "mileage                                                            90000.0   \n",
       "gearbox                                                          Automatic   \n",
       "fuel_type                                                         Gasoline   \n",
       "colour                                                                Blue   \n",
       "paint                                                             Metallic   \n",
       "seller                                                              Dealer   \n",
       "seats                                                                  5.0   \n",
       "engine_size                                                         1969.0   \n",
       "gears                                                                  8.0   \n",
       "CO2_emissions                                                          NaN   \n",
       "manufacturer_colour                                                    NaN   \n",
       "drivetrain                                                             NaN   \n",
       "cylinders                                                              4.0   \n",
       "fuel_consumption                                                       7.9   \n",
       "comfort_convenience      [Air conditioning, Armrest, Automatic climate ...   \n",
       "entertainment_media      [Android Auto, Apple CarPlay, Bluetooth, CD pl...   \n",
       "safety_security          [ABS, Adaptive Cruise Control, Adaptive headli...   \n",
       "extras                   [All season tyres, Alloy wheels (20\"), Ambient...   \n",
       "empty_weight                                                        2136.0   \n",
       "full_service_history                                                   Yes   \n",
       "nonsmoker_vehicle                                                      Yes   \n",
       "emission_class                                                Euro 6d-TEMP   \n",
       "emissions_sticker                                                      NaN   \n",
       "upholstery                                                    Full leather   \n",
       "production_date                                                        NaN   \n",
       "previous_owner                                                         1.0   \n",
       "other_fuel_types                                                       NaN   \n",
       "power_consumption                                                      NaN   \n",
       "energy_efficiency_class                                                NaN   \n",
       "CO2_efficiency                                                         NaN   \n",
       "fuel_consumption(WLTP)                                                 NaN   \n",
       "taxi_or_rentalcar                                                      NaN   \n",
       "electric_range(WLTP)                                                   NaN   \n",
       "power_consumption(WLTP)                                                NaN   \n",
       "battery_ownership                                                      NaN   \n",
       "first_registration_year                                2018-01-01 00:00:00   \n",
       "power_hp                                                             250.0   \n",
       "\n",
       "                                                                     12912  \n",
       "make_model                                                      SEAT Arona  \n",
       "make                                                                  SEAT  \n",
       "model                                                               Arona   \n",
       "location                                                                DE  \n",
       "price                                                              16990.0  \n",
       "body_type                                                 Off-Road/Pick-up  \n",
       "type                                                                  Used  \n",
       "doors                                                                  5.0  \n",
       "country_version                                                    Germany  \n",
       "warranty                                                               NaN  \n",
       "mileage                                                            13560.0  \n",
       "gearbox                                                             Manual  \n",
       "fuel_type                                                   Domestic gas H  \n",
       "colour                                                               White  \n",
       "paint                                                                  NaN  \n",
       "seller                                                              Dealer  \n",
       "seats                                                                  5.0  \n",
       "engine_size                                                          999.0  \n",
       "gears                                                                  6.0  \n",
       "CO2_emissions                                                        106.0  \n",
       "manufacturer_colour                                            Candy Weiss  \n",
       "drivetrain                                                           Front  \n",
       "cylinders                                                              3.0  \n",
       "fuel_consumption                                                       3.5  \n",
       "comfort_convenience      [Air conditioning, Automatic climate control, ...  \n",
       "entertainment_media      [Bluetooth, Digital radio, Hands-free equipmen...  \n",
       "safety_security          [ABS, Central door lock, Daytime running light...  \n",
       "extras                      [Alloy wheels (16\"), Roof rack, Voice Control]  \n",
       "empty_weight                                                        1308.0  \n",
       "full_service_history                                                   Yes  \n",
       "nonsmoker_vehicle                                                      Yes  \n",
       "emission_class                                                      Euro 6  \n",
       "emissions_sticker                                                        4  \n",
       "upholstery                                                           Cloth  \n",
       "production_date                                                     2019.0  \n",
       "previous_owner                                                         1.0  \n",
       "other_fuel_types                                                       NaN  \n",
       "power_consumption                                                      NaN  \n",
       "energy_efficiency_class                                                NaN  \n",
       "CO2_efficiency                                                         NaN  \n",
       "fuel_consumption(WLTP)                                                 NaN  \n",
       "taxi_or_rentalcar                                                      NaN  \n",
       "electric_range(WLTP)                                                   NaN  \n",
       "power_consumption(WLTP)                                                NaN  \n",
       "battery_ownership                                                      NaN  \n",
       "first_registration_year                                2020-01-01 00:00:00  \n",
       "power_hp                                                              90.0  "
      ]
     },
     "execution_count": 118,
     "metadata": {},
     "output_type": "execute_result"
    }
   ],
   "source": [
    "df.sample(3).T"
   ]
  },
  {
   "cell_type": "code",
   "execution_count": null,
   "metadata": {},
   "outputs": [],
   "source": []
  },
  {
   "cell_type": "markdown",
   "metadata": {
    "id": "2PgUVPoes1MH"
   },
   "source": [
    "## Export dataframe to csv"
   ]
  },
  {
   "cell_type": "code",
   "execution_count": 119,
   "metadata": {
    "id": "Byg_o2ZMs1MI"
   },
   "outputs": [],
   "source": [
    "df.to_csv(\"auto_scout_1.csv\", index=False)"
   ]
  }
 ],
 "metadata": {
  "colab": {
   "name": "DAwPy-Capstone_Project_(AutoScout)_Student.ipynb",
   "provenance": []
  },
  "kernelspec": {
   "display_name": "Python 3 (ipykernel)",
   "language": "python",
   "name": "python3"
  },
  "language_info": {
   "codemirror_mode": {
    "name": "ipython",
    "version": 3
   },
   "file_extension": ".py",
   "mimetype": "text/x-python",
   "name": "python",
   "nbconvert_exporter": "python",
   "pygments_lexer": "ipython3",
   "version": "3.10.12"
  },
  "toc": {
   "base_numbering": 1,
   "nav_menu": {},
   "number_sections": false,
   "sideBar": true,
   "skip_h1_title": false,
   "title_cell": "Table of Contents",
   "title_sidebar": "Contents",
   "toc_cell": false,
   "toc_position": {
    "height": "calc(100% - 180px)",
    "left": "10px",
    "top": "150px",
    "width": "384px"
   },
   "toc_section_display": true,
   "toc_window_display": true
  }
 },
 "nbformat": 4,
 "nbformat_minor": 1
}
