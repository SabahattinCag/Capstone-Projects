{
 "cells": [
  {
   "cell_type": "markdown",
   "id": "3b3d5c96",
   "metadata": {},
   "source": [
    "\n",
    "## <p style=\"background-color:#FDFEFE; font-family:newtimeroman; color:#060108; font-size:200%; text-align:center; border-radius:10px 10px;\">Data Analysis and Visualization with Python Part II</p>\n",
    "\n",
    "## <p style=\"background-color:#FDFEFE; font-family:newtimeroman; color:#060108; font-size:200%; text-align:center; border-radius:10px 10px;\">The Exploratory Data Analysis (EDA) Project</p>\n",
    "\n",
    "<img src=https://i.ibb.co/wJW61Y2/Used-cars.jpg width=\"700\" height=\"200\">\n",
    "\n",
    "## <p style=\"background-color:#FDFEFE; font-family:newtimeroman; color:#060108; font-size:200%; text-align:center; border-radius:10px 10px;\">AutoScout Car Price Prediction EDA</p>\n",
    "\n"
   ]
  },
  {
   "cell_type": "markdown",
   "id": "7b0b4867",
   "metadata": {},
   "source": [
    "**The second part** is related to ``'Filling Data'``, in other words 'Imputation'. It deals with Missing Values. Categorical to numeric transformation, Encoding, is done as well."
   ]
  },
  {
   "cell_type": "markdown",
   "id": "4f76240e",
   "metadata": {},
   "source": [
    "# PART- 2 `( Handling With Missing Vales )`"
   ]
  },
  {
   "cell_type": "code",
   "execution_count": 1,
   "id": "e2b728d9",
   "metadata": {},
   "outputs": [],
   "source": [
    "# Import the libraries\n",
    "\n",
    "import numpy as np\n",
    "import pandas as pd\n",
    "import seaborn as sns\n",
    "import matplotlib.pyplot as plt\n",
    "import re\n",
    "# !pip install termcolor\n",
    "from termcolor import colored\n",
    "from pandas.plotting import register_matplotlib_converters\n",
    "from pylab import rcParams"
   ]
  },
  {
   "cell_type": "code",
   "execution_count": 2,
   "id": "b3b4b6ea",
   "metadata": {},
   "outputs": [],
   "source": [
    "# Set it None to display all rows in the dataframe\n",
    "# pd.set_option('display.max_rows', None)\n",
    "# pd.set_option('display.max_rows', df.shape[0]+1)\n",
    "\n",
    "# Set it to None to display all columns in the dataframe\n",
    "pd.set_option('display.max_columns', None)"
   ]
  },
  {
   "cell_type": "code",
   "execution_count": 3,
   "id": "c99cba41",
   "metadata": {},
   "outputs": [
    {
     "data": {
      "text/html": [
       "<div>\n",
       "<style scoped>\n",
       "    .dataframe tbody tr th:only-of-type {\n",
       "        vertical-align: middle;\n",
       "    }\n",
       "\n",
       "    .dataframe tbody tr th {\n",
       "        vertical-align: top;\n",
       "    }\n",
       "\n",
       "    .dataframe thead th {\n",
       "        text-align: right;\n",
       "    }\n",
       "</style>\n",
       "<table border=\"1\" class=\"dataframe\">\n",
       "  <thead>\n",
       "    <tr style=\"text-align: right;\">\n",
       "      <th></th>\n",
       "      <th>17510</th>\n",
       "      <th>14947</th>\n",
       "    </tr>\n",
       "  </thead>\n",
       "  <tbody>\n",
       "    <tr>\n",
       "      <th>make_model</th>\n",
       "      <td>Toyota Paseo</td>\n",
       "      <td>Skoda Octavia</td>\n",
       "    </tr>\n",
       "    <tr>\n",
       "      <th>make</th>\n",
       "      <td>Toyota</td>\n",
       "      <td>Skoda</td>\n",
       "    </tr>\n",
       "    <tr>\n",
       "      <th>model</th>\n",
       "      <td>Paseo</td>\n",
       "      <td>Octavia</td>\n",
       "    </tr>\n",
       "    <tr>\n",
       "      <th>location</th>\n",
       "      <td>DE</td>\n",
       "      <td>DE</td>\n",
       "    </tr>\n",
       "    <tr>\n",
       "      <th>price</th>\n",
       "      <td>4500.0</td>\n",
       "      <td>32870.0</td>\n",
       "    </tr>\n",
       "    <tr>\n",
       "      <th>body_type</th>\n",
       "      <td>Convertible</td>\n",
       "      <td>Station wagon</td>\n",
       "    </tr>\n",
       "    <tr>\n",
       "      <th>type</th>\n",
       "      <td>Used</td>\n",
       "      <td>Employee's car</td>\n",
       "    </tr>\n",
       "    <tr>\n",
       "      <th>doors</th>\n",
       "      <td>2.0</td>\n",
       "      <td>5.0</td>\n",
       "    </tr>\n",
       "    <tr>\n",
       "      <th>country_version</th>\n",
       "      <td>NaN</td>\n",
       "      <td>Hungary</td>\n",
       "    </tr>\n",
       "    <tr>\n",
       "      <th>warranty</th>\n",
       "      <td>NaN</td>\n",
       "      <td>24</td>\n",
       "    </tr>\n",
       "    <tr>\n",
       "      <th>mileage</th>\n",
       "      <td>251000.0</td>\n",
       "      <td>30100.0</td>\n",
       "    </tr>\n",
       "    <tr>\n",
       "      <th>gearbox</th>\n",
       "      <td>Manual</td>\n",
       "      <td>Automatic</td>\n",
       "    </tr>\n",
       "    <tr>\n",
       "      <th>fuel_type</th>\n",
       "      <td>Super 95</td>\n",
       "      <td>Super 95 (Particle filter)</td>\n",
       "    </tr>\n",
       "    <tr>\n",
       "      <th>colour</th>\n",
       "      <td>NaN</td>\n",
       "      <td>Grey</td>\n",
       "    </tr>\n",
       "    <tr>\n",
       "      <th>paint</th>\n",
       "      <td>NaN</td>\n",
       "      <td>Metallic</td>\n",
       "    </tr>\n",
       "    <tr>\n",
       "      <th>seller</th>\n",
       "      <td>Dealer</td>\n",
       "      <td>Dealer</td>\n",
       "    </tr>\n",
       "    <tr>\n",
       "      <th>seats</th>\n",
       "      <td>4.0</td>\n",
       "      <td>5.0</td>\n",
       "    </tr>\n",
       "    <tr>\n",
       "      <th>engine_size</th>\n",
       "      <td>1497.0</td>\n",
       "      <td>1498.0</td>\n",
       "    </tr>\n",
       "    <tr>\n",
       "      <th>gears</th>\n",
       "      <td>5.0</td>\n",
       "      <td>7.0</td>\n",
       "    </tr>\n",
       "    <tr>\n",
       "      <th>CO2_emissions</th>\n",
       "      <td>170.0</td>\n",
       "      <td>107.0</td>\n",
       "    </tr>\n",
       "    <tr>\n",
       "      <th>manufacturer_colour</th>\n",
       "      <td>Rot</td>\n",
       "      <td>Quarz-grau</td>\n",
       "    </tr>\n",
       "    <tr>\n",
       "      <th>drivetrain</th>\n",
       "      <td>Front</td>\n",
       "      <td>Front</td>\n",
       "    </tr>\n",
       "    <tr>\n",
       "      <th>cylinders</th>\n",
       "      <td>4.0</td>\n",
       "      <td>4.0</td>\n",
       "    </tr>\n",
       "    <tr>\n",
       "      <th>fuel_consumption</th>\n",
       "      <td>7.1</td>\n",
       "      <td>4.7</td>\n",
       "    </tr>\n",
       "    <tr>\n",
       "      <th>comfort_convenience</th>\n",
       "      <td>['Electrical side mirrors, Power windows']</td>\n",
       "      <td>['Air conditioning, Armrest, Automatic climate...</td>\n",
       "    </tr>\n",
       "    <tr>\n",
       "      <th>entertainment_media</th>\n",
       "      <td>NaN</td>\n",
       "      <td>['Android Auto, Apple CarPlay, Bluetooth, Digi...</td>\n",
       "    </tr>\n",
       "    <tr>\n",
       "      <th>safety_security</th>\n",
       "      <td>['ABS, Central door lock, Driver-side airbag, ...</td>\n",
       "      <td>['ABS, Adaptive headlights, Bi-Xenon headlight...</td>\n",
       "    </tr>\n",
       "    <tr>\n",
       "      <th>extras</th>\n",
       "      <td>['Sport seats']</td>\n",
       "      <td>['Alloy wheels, Catalytic Converter, Roof rack...</td>\n",
       "    </tr>\n",
       "    <tr>\n",
       "      <th>empty_weight</th>\n",
       "      <td>1055.0</td>\n",
       "      <td>1471.0</td>\n",
       "    </tr>\n",
       "    <tr>\n",
       "      <th>full_service_history</th>\n",
       "      <td>NaN</td>\n",
       "      <td>Yes</td>\n",
       "    </tr>\n",
       "    <tr>\n",
       "      <th>nonsmoker_vehicle</th>\n",
       "      <td>NaN</td>\n",
       "      <td>Yes</td>\n",
       "    </tr>\n",
       "    <tr>\n",
       "      <th>emission_class</th>\n",
       "      <td>Euro 2</td>\n",
       "      <td>Euro 6d</td>\n",
       "    </tr>\n",
       "    <tr>\n",
       "      <th>emissions_sticker</th>\n",
       "      <td>4.0</td>\n",
       "      <td>NaN</td>\n",
       "    </tr>\n",
       "    <tr>\n",
       "      <th>upholstery</th>\n",
       "      <td>NaN</td>\n",
       "      <td>Cloth</td>\n",
       "    </tr>\n",
       "    <tr>\n",
       "      <th>production_date</th>\n",
       "      <td>NaN</td>\n",
       "      <td>NaN</td>\n",
       "    </tr>\n",
       "    <tr>\n",
       "      <th>previous_owner</th>\n",
       "      <td>2.0</td>\n",
       "      <td>1.0</td>\n",
       "    </tr>\n",
       "    <tr>\n",
       "      <th>other_fuel_types</th>\n",
       "      <td>NaN</td>\n",
       "      <td>Electricity</td>\n",
       "    </tr>\n",
       "    <tr>\n",
       "      <th>power_consumption</th>\n",
       "      <td>NaN</td>\n",
       "      <td>NaN</td>\n",
       "    </tr>\n",
       "    <tr>\n",
       "      <th>energy_efficiency_class</th>\n",
       "      <td>G</td>\n",
       "      <td>A</td>\n",
       "    </tr>\n",
       "    <tr>\n",
       "      <th>CO2_efficiency</th>\n",
       "      <td>Calculated on basis of measured CO₂-emissions ...</td>\n",
       "      <td>Calculated on basis of measured CO₂-emissions ...</td>\n",
       "    </tr>\n",
       "    <tr>\n",
       "      <th>fuel_consumption(WLTP)</th>\n",
       "      <td>NaN</td>\n",
       "      <td>NaN</td>\n",
       "    </tr>\n",
       "    <tr>\n",
       "      <th>taxi_or_rentalcar</th>\n",
       "      <td>NaN</td>\n",
       "      <td>NaN</td>\n",
       "    </tr>\n",
       "    <tr>\n",
       "      <th>electric_range(WLTP)</th>\n",
       "      <td>NaN</td>\n",
       "      <td>NaN</td>\n",
       "    </tr>\n",
       "    <tr>\n",
       "      <th>power_consumption(WLTP)</th>\n",
       "      <td>NaN</td>\n",
       "      <td>NaN</td>\n",
       "    </tr>\n",
       "    <tr>\n",
       "      <th>battery_ownership</th>\n",
       "      <td>NaN</td>\n",
       "      <td>NaN</td>\n",
       "    </tr>\n",
       "    <tr>\n",
       "      <th>first_registration_year</th>\n",
       "      <td>1997-01-01</td>\n",
       "      <td>2021-01-01</td>\n",
       "    </tr>\n",
       "    <tr>\n",
       "      <th>power_hp</th>\n",
       "      <td>90.0</td>\n",
       "      <td>150.0</td>\n",
       "    </tr>\n",
       "  </tbody>\n",
       "</table>\n",
       "</div>"
      ],
      "text/plain": [
       "                                                                     17510  \\\n",
       "make_model                                                    Toyota Paseo   \n",
       "make                                                                Toyota   \n",
       "model                                                               Paseo    \n",
       "location                                                                DE   \n",
       "price                                                               4500.0   \n",
       "body_type                                                      Convertible   \n",
       "type                                                                  Used   \n",
       "doors                                                                  2.0   \n",
       "country_version                                                        NaN   \n",
       "warranty                                                               NaN   \n",
       "mileage                                                           251000.0   \n",
       "gearbox                                                             Manual   \n",
       "fuel_type                                                         Super 95   \n",
       "colour                                                                 NaN   \n",
       "paint                                                                  NaN   \n",
       "seller                                                              Dealer   \n",
       "seats                                                                  4.0   \n",
       "engine_size                                                         1497.0   \n",
       "gears                                                                  5.0   \n",
       "CO2_emissions                                                        170.0   \n",
       "manufacturer_colour                                                    Rot   \n",
       "drivetrain                                                           Front   \n",
       "cylinders                                                              4.0   \n",
       "fuel_consumption                                                       7.1   \n",
       "comfort_convenience             ['Electrical side mirrors, Power windows']   \n",
       "entertainment_media                                                    NaN   \n",
       "safety_security          ['ABS, Central door lock, Driver-side airbag, ...   \n",
       "extras                                                     ['Sport seats']   \n",
       "empty_weight                                                        1055.0   \n",
       "full_service_history                                                   NaN   \n",
       "nonsmoker_vehicle                                                      NaN   \n",
       "emission_class                                                      Euro 2   \n",
       "emissions_sticker                                                      4.0   \n",
       "upholstery                                                             NaN   \n",
       "production_date                                                        NaN   \n",
       "previous_owner                                                         2.0   \n",
       "other_fuel_types                                                       NaN   \n",
       "power_consumption                                                      NaN   \n",
       "energy_efficiency_class                                                  G   \n",
       "CO2_efficiency           Calculated on basis of measured CO₂-emissions ...   \n",
       "fuel_consumption(WLTP)                                                 NaN   \n",
       "taxi_or_rentalcar                                                      NaN   \n",
       "electric_range(WLTP)                                                   NaN   \n",
       "power_consumption(WLTP)                                                NaN   \n",
       "battery_ownership                                                      NaN   \n",
       "first_registration_year                                         1997-01-01   \n",
       "power_hp                                                              90.0   \n",
       "\n",
       "                                                                     14947  \n",
       "make_model                                                   Skoda Octavia  \n",
       "make                                                                 Skoda  \n",
       "model                                                             Octavia   \n",
       "location                                                                DE  \n",
       "price                                                              32870.0  \n",
       "body_type                                                    Station wagon  \n",
       "type                                                        Employee's car  \n",
       "doors                                                                  5.0  \n",
       "country_version                                                    Hungary  \n",
       "warranty                                                                24  \n",
       "mileage                                                            30100.0  \n",
       "gearbox                                                          Automatic  \n",
       "fuel_type                                       Super 95 (Particle filter)  \n",
       "colour                                                                Grey  \n",
       "paint                                                             Metallic  \n",
       "seller                                                              Dealer  \n",
       "seats                                                                  5.0  \n",
       "engine_size                                                         1498.0  \n",
       "gears                                                                  7.0  \n",
       "CO2_emissions                                                        107.0  \n",
       "manufacturer_colour                                             Quarz-grau  \n",
       "drivetrain                                                           Front  \n",
       "cylinders                                                              4.0  \n",
       "fuel_consumption                                                       4.7  \n",
       "comfort_convenience      ['Air conditioning, Armrest, Automatic climate...  \n",
       "entertainment_media      ['Android Auto, Apple CarPlay, Bluetooth, Digi...  \n",
       "safety_security          ['ABS, Adaptive headlights, Bi-Xenon headlight...  \n",
       "extras                   ['Alloy wheels, Catalytic Converter, Roof rack...  \n",
       "empty_weight                                                        1471.0  \n",
       "full_service_history                                                   Yes  \n",
       "nonsmoker_vehicle                                                      Yes  \n",
       "emission_class                                                     Euro 6d  \n",
       "emissions_sticker                                                      NaN  \n",
       "upholstery                                                           Cloth  \n",
       "production_date                                                        NaN  \n",
       "previous_owner                                                         1.0  \n",
       "other_fuel_types                                               Electricity  \n",
       "power_consumption                                                      NaN  \n",
       "energy_efficiency_class                                                  A  \n",
       "CO2_efficiency           Calculated on basis of measured CO₂-emissions ...  \n",
       "fuel_consumption(WLTP)                                                 NaN  \n",
       "taxi_or_rentalcar                                                      NaN  \n",
       "electric_range(WLTP)                                                   NaN  \n",
       "power_consumption(WLTP)                                                NaN  \n",
       "battery_ownership                                                      NaN  \n",
       "first_registration_year                                         2021-01-01  \n",
       "power_hp                                                             150.0  "
      ]
     },
     "execution_count": 3,
     "metadata": {},
     "output_type": "execute_result"
    }
   ],
   "source": [
    "# Read data in json form\n",
    "df0 = pd.read_csv('auto_scout_1.csv')\n",
    "# Make a copy\n",
    "df = df0.copy()\n",
    "\n",
    "# Show some records\n",
    "df.sample(2).T"
   ]
  },
  {
   "cell_type": "markdown",
   "id": "630007fd",
   "metadata": {},
   "source": [
    "## Missing Values"
   ]
  },
  {
   "cell_type": "code",
   "execution_count": 4,
   "id": "a3e12bf5",
   "metadata": {},
   "outputs": [],
   "source": [
    "from termcolor import cprint\n",
    "def missing_values(df):\n",
    "    cprint('Missing Value Information Per Column:\\n', 'blue', attrs=['bold'])\n",
    "    missing_count = df.isnull().sum().sort_values()\n",
    "    missing_percent = (df.isnull().sum() / df.shape[0] * 100).sort_values()\n",
    "    missing_values = pd.concat({'Missing_Count': missing_count, 'Missing_Percentage %' : missing_percent}, axis=1)\n",
    "    return missing_values[missing_values['Missing_Count']>0]"
   ]
  },
  {
   "cell_type": "code",
   "execution_count": 5,
   "id": "197eff8a",
   "metadata": {},
   "outputs": [
    {
     "name": "stdout",
     "output_type": "stream",
     "text": [
      "\u001b[1m\u001b[34mMissing Value Information Per Column:\n",
      "\u001b[0m\n"
     ]
    },
    {
     "data": {
      "text/html": [
       "<div>\n",
       "<style scoped>\n",
       "    .dataframe tbody tr th:only-of-type {\n",
       "        vertical-align: middle;\n",
       "    }\n",
       "\n",
       "    .dataframe tbody tr th {\n",
       "        vertical-align: top;\n",
       "    }\n",
       "\n",
       "    .dataframe thead th {\n",
       "        text-align: right;\n",
       "    }\n",
       "</style>\n",
       "<table border=\"1\" class=\"dataframe\">\n",
       "  <thead>\n",
       "    <tr style=\"text-align: right;\">\n",
       "      <th></th>\n",
       "      <th>Missing_Count</th>\n",
       "      <th>Missing_Percentage %</th>\n",
       "    </tr>\n",
       "  </thead>\n",
       "  <tbody>\n",
       "    <tr>\n",
       "      <th>make_model</th>\n",
       "      <td>850</td>\n",
       "      <td>2.883311</td>\n",
       "    </tr>\n",
       "    <tr>\n",
       "      <th>make</th>\n",
       "      <td>850</td>\n",
       "      <td>2.883311</td>\n",
       "    </tr>\n",
       "    <tr>\n",
       "      <th>model</th>\n",
       "      <td>850</td>\n",
       "      <td>2.883311</td>\n",
       "    </tr>\n",
       "    <tr>\n",
       "      <th>location</th>\n",
       "      <td>850</td>\n",
       "      <td>2.883311</td>\n",
       "    </tr>\n",
       "    <tr>\n",
       "      <th>price</th>\n",
       "      <td>850</td>\n",
       "      <td>2.883311</td>\n",
       "    </tr>\n",
       "    <tr>\n",
       "      <th>body_type</th>\n",
       "      <td>850</td>\n",
       "      <td>2.883311</td>\n",
       "    </tr>\n",
       "    <tr>\n",
       "      <th>type</th>\n",
       "      <td>850</td>\n",
       "      <td>2.883311</td>\n",
       "    </tr>\n",
       "    <tr>\n",
       "      <th>seller</th>\n",
       "      <td>850</td>\n",
       "      <td>2.883311</td>\n",
       "    </tr>\n",
       "    <tr>\n",
       "      <th>mileage</th>\n",
       "      <td>851</td>\n",
       "      <td>2.886703</td>\n",
       "    </tr>\n",
       "    <tr>\n",
       "      <th>first_registration_year</th>\n",
       "      <td>852</td>\n",
       "      <td>2.890095</td>\n",
       "    </tr>\n",
       "    <tr>\n",
       "      <th>gearbox</th>\n",
       "      <td>1098</td>\n",
       "      <td>3.724559</td>\n",
       "    </tr>\n",
       "    <tr>\n",
       "      <th>doors</th>\n",
       "      <td>1209</td>\n",
       "      <td>4.101085</td>\n",
       "    </tr>\n",
       "    <tr>\n",
       "      <th>power_hp</th>\n",
       "      <td>1422</td>\n",
       "      <td>4.823609</td>\n",
       "    </tr>\n",
       "    <tr>\n",
       "      <th>engine_size</th>\n",
       "      <td>2253</td>\n",
       "      <td>7.642469</td>\n",
       "    </tr>\n",
       "    <tr>\n",
       "      <th>colour</th>\n",
       "      <td>2574</td>\n",
       "      <td>8.731343</td>\n",
       "    </tr>\n",
       "    <tr>\n",
       "      <th>fuel_type</th>\n",
       "      <td>2637</td>\n",
       "      <td>8.945047</td>\n",
       "    </tr>\n",
       "    <tr>\n",
       "      <th>seats</th>\n",
       "      <td>3975</td>\n",
       "      <td>13.483718</td>\n",
       "    </tr>\n",
       "    <tr>\n",
       "      <th>comfort_convenience</th>\n",
       "      <td>4047</td>\n",
       "      <td>13.727951</td>\n",
       "    </tr>\n",
       "    <tr>\n",
       "      <th>safety_security</th>\n",
       "      <td>4065</td>\n",
       "      <td>13.789009</td>\n",
       "    </tr>\n",
       "    <tr>\n",
       "      <th>entertainment_media</th>\n",
       "      <td>5836</td>\n",
       "      <td>19.796472</td>\n",
       "    </tr>\n",
       "    <tr>\n",
       "      <th>extras</th>\n",
       "      <td>6000</td>\n",
       "      <td>20.352782</td>\n",
       "    </tr>\n",
       "    <tr>\n",
       "      <th>fuel_consumption</th>\n",
       "      <td>6095</td>\n",
       "      <td>20.675034</td>\n",
       "    </tr>\n",
       "    <tr>\n",
       "      <th>manufacturer_colour</th>\n",
       "      <td>7693</td>\n",
       "      <td>26.095658</td>\n",
       "    </tr>\n",
       "    <tr>\n",
       "      <th>gears</th>\n",
       "      <td>10526</td>\n",
       "      <td>35.705563</td>\n",
       "    </tr>\n",
       "    <tr>\n",
       "      <th>cylinders</th>\n",
       "      <td>10628</td>\n",
       "      <td>36.051560</td>\n",
       "    </tr>\n",
       "    <tr>\n",
       "      <th>upholstery</th>\n",
       "      <td>10870</td>\n",
       "      <td>36.872456</td>\n",
       "    </tr>\n",
       "    <tr>\n",
       "      <th>CO2_emissions</th>\n",
       "      <td>10886</td>\n",
       "      <td>36.926730</td>\n",
       "    </tr>\n",
       "    <tr>\n",
       "      <th>emission_class</th>\n",
       "      <td>11621</td>\n",
       "      <td>39.419946</td>\n",
       "    </tr>\n",
       "    <tr>\n",
       "      <th>empty_weight</th>\n",
       "      <td>11722</td>\n",
       "      <td>39.762551</td>\n",
       "    </tr>\n",
       "    <tr>\n",
       "      <th>drivetrain</th>\n",
       "      <td>12587</td>\n",
       "      <td>42.696744</td>\n",
       "    </tr>\n",
       "    <tr>\n",
       "      <th>country_version</th>\n",
       "      <td>12591</td>\n",
       "      <td>42.710312</td>\n",
       "    </tr>\n",
       "    <tr>\n",
       "      <th>warranty</th>\n",
       "      <td>13696</td>\n",
       "      <td>46.458616</td>\n",
       "    </tr>\n",
       "    <tr>\n",
       "      <th>paint</th>\n",
       "      <td>14985</td>\n",
       "      <td>50.831072</td>\n",
       "    </tr>\n",
       "    <tr>\n",
       "      <th>previous_owner</th>\n",
       "      <td>15465</td>\n",
       "      <td>52.459294</td>\n",
       "    </tr>\n",
       "    <tr>\n",
       "      <th>full_service_history</th>\n",
       "      <td>16915</td>\n",
       "      <td>57.377883</td>\n",
       "    </tr>\n",
       "    <tr>\n",
       "      <th>nonsmoker_vehicle</th>\n",
       "      <td>17886</td>\n",
       "      <td>60.671642</td>\n",
       "    </tr>\n",
       "    <tr>\n",
       "      <th>emissions_sticker</th>\n",
       "      <td>20066</td>\n",
       "      <td>68.066486</td>\n",
       "    </tr>\n",
       "    <tr>\n",
       "      <th>energy_efficiency_class</th>\n",
       "      <td>21676</td>\n",
       "      <td>73.527815</td>\n",
       "    </tr>\n",
       "    <tr>\n",
       "      <th>CO2_efficiency</th>\n",
       "      <td>21676</td>\n",
       "      <td>73.527815</td>\n",
       "    </tr>\n",
       "    <tr>\n",
       "      <th>production_date</th>\n",
       "      <td>23572</td>\n",
       "      <td>79.959294</td>\n",
       "    </tr>\n",
       "    <tr>\n",
       "      <th>other_fuel_types</th>\n",
       "      <td>27167</td>\n",
       "      <td>92.154003</td>\n",
       "    </tr>\n",
       "    <tr>\n",
       "      <th>power_consumption</th>\n",
       "      <td>28965</td>\n",
       "      <td>98.253053</td>\n",
       "    </tr>\n",
       "    <tr>\n",
       "      <th>taxi_or_rentalcar</th>\n",
       "      <td>29058</td>\n",
       "      <td>98.568521</td>\n",
       "    </tr>\n",
       "    <tr>\n",
       "      <th>fuel_consumption(WLTP)</th>\n",
       "      <td>29380</td>\n",
       "      <td>99.660787</td>\n",
       "    </tr>\n",
       "    <tr>\n",
       "      <th>electric_range(WLTP)</th>\n",
       "      <td>29464</td>\n",
       "      <td>99.945726</td>\n",
       "    </tr>\n",
       "    <tr>\n",
       "      <th>power_consumption(WLTP)</th>\n",
       "      <td>29464</td>\n",
       "      <td>99.945726</td>\n",
       "    </tr>\n",
       "    <tr>\n",
       "      <th>battery_ownership</th>\n",
       "      <td>29473</td>\n",
       "      <td>99.976255</td>\n",
       "    </tr>\n",
       "  </tbody>\n",
       "</table>\n",
       "</div>"
      ],
      "text/plain": [
       "                         Missing_Count  Missing_Percentage %\n",
       "make_model                         850              2.883311\n",
       "make                               850              2.883311\n",
       "model                              850              2.883311\n",
       "location                           850              2.883311\n",
       "price                              850              2.883311\n",
       "body_type                          850              2.883311\n",
       "type                               850              2.883311\n",
       "seller                             850              2.883311\n",
       "mileage                            851              2.886703\n",
       "first_registration_year            852              2.890095\n",
       "gearbox                           1098              3.724559\n",
       "doors                             1209              4.101085\n",
       "power_hp                          1422              4.823609\n",
       "engine_size                       2253              7.642469\n",
       "colour                            2574              8.731343\n",
       "fuel_type                         2637              8.945047\n",
       "seats                             3975             13.483718\n",
       "comfort_convenience               4047             13.727951\n",
       "safety_security                   4065             13.789009\n",
       "entertainment_media               5836             19.796472\n",
       "extras                            6000             20.352782\n",
       "fuel_consumption                  6095             20.675034\n",
       "manufacturer_colour               7693             26.095658\n",
       "gears                            10526             35.705563\n",
       "cylinders                        10628             36.051560\n",
       "upholstery                       10870             36.872456\n",
       "CO2_emissions                    10886             36.926730\n",
       "emission_class                   11621             39.419946\n",
       "empty_weight                     11722             39.762551\n",
       "drivetrain                       12587             42.696744\n",
       "country_version                  12591             42.710312\n",
       "warranty                         13696             46.458616\n",
       "paint                            14985             50.831072\n",
       "previous_owner                   15465             52.459294\n",
       "full_service_history             16915             57.377883\n",
       "nonsmoker_vehicle                17886             60.671642\n",
       "emissions_sticker                20066             68.066486\n",
       "energy_efficiency_class          21676             73.527815\n",
       "CO2_efficiency                   21676             73.527815\n",
       "production_date                  23572             79.959294\n",
       "other_fuel_types                 27167             92.154003\n",
       "power_consumption                28965             98.253053\n",
       "taxi_or_rentalcar                29058             98.568521\n",
       "fuel_consumption(WLTP)           29380             99.660787\n",
       "electric_range(WLTP)             29464             99.945726\n",
       "power_consumption(WLTP)          29464             99.945726\n",
       "battery_ownership                29473             99.976255"
      ]
     },
     "execution_count": 5,
     "metadata": {},
     "output_type": "execute_result"
    }
   ],
   "source": [
    "missing_values(df)"
   ]
  },
  {
   "cell_type": "code",
   "execution_count": 6,
   "id": "3feb315f",
   "metadata": {},
   "outputs": [],
   "source": [
    "def show_nulls(data):\n",
    "    '''\n",
    "    This function plots missing values for each column by observation in the dataset.\n",
    "    '''\n",
    "    plt.figure(figsize=(10, 5))\n",
    "    sns.displot(data=data.isnull().melt(value_name=\"missing\"),\n",
    "                y=\"variable\",\n",
    "                hue=\"missing\",\n",
    "                multiple=\"fill\",\n",
    "                height=9.25)\n",
    "    plt.axvline(0.9, color=\"r\")\n",
    "    plt.show()"
   ]
  },
  {
   "cell_type": "code",
   "execution_count": 7,
   "id": "8bb51f62",
   "metadata": {},
   "outputs": [
    {
     "name": "stderr",
     "output_type": "stream",
     "text": [
      "C:\\Users\\mathe\\anaconda3\\lib\\site-packages\\seaborn\\axisgrid.py:118: UserWarning: The figure layout has changed to tight\n",
      "  self._figure.tight_layout(*args, **kwargs)\n"
     ]
    },
    {
     "data": {
      "text/plain": [
       "<Figure size 1000x500 with 0 Axes>"
      ]
     },
     "metadata": {},
     "output_type": "display_data"
    },
    {
     "data": {
      "image/png": "[encoded data removed]",
      "text/plain": [
       "<Figure size 1009.88x925 with 1 Axes>"
      ]
     },
     "metadata": {},
     "output_type": "display_data"
    }
   ],
   "source": [
    "show_nulls(df)"
   ]
  },
  {
   "cell_type": "markdown",
   "id": "592e84ee",
   "metadata": {},
   "source": [
    "#### make_model"
   ]
  },
  {
   "cell_type": "code",
   "execution_count": 8,
   "id": "4e462674",
   "metadata": {},
   "outputs": [
    {
     "data": {
      "text/plain": [
       "850"
      ]
     },
     "execution_count": 8,
     "metadata": {},
     "output_type": "execute_result"
    }
   ],
   "source": [
    "df.make_model.isnull().sum()"
   ]
  },
  {
   "cell_type": "code",
   "execution_count": 9,
   "id": "8945b41b",
   "metadata": {},
   "outputs": [
    {
     "data": {
      "text/html": [
       "<div>\n",
       "<style scoped>\n",
       "    .dataframe tbody tr th:only-of-type {\n",
       "        vertical-align: middle;\n",
       "    }\n",
       "\n",
       "    .dataframe tbody tr th {\n",
       "        vertical-align: top;\n",
       "    }\n",
       "\n",
       "    .dataframe thead th {\n",
       "        text-align: right;\n",
       "    }\n",
       "</style>\n",
       "<table border=\"1\" class=\"dataframe\">\n",
       "  <thead>\n",
       "    <tr style=\"text-align: right;\">\n",
       "      <th></th>\n",
       "      <th>make_model</th>\n",
       "      <th>make</th>\n",
       "      <th>model</th>\n",
       "      <th>location</th>\n",
       "      <th>price</th>\n",
       "      <th>body_type</th>\n",
       "      <th>type</th>\n",
       "      <th>doors</th>\n",
       "      <th>country_version</th>\n",
       "      <th>warranty</th>\n",
       "      <th>mileage</th>\n",
       "      <th>gearbox</th>\n",
       "      <th>fuel_type</th>\n",
       "      <th>colour</th>\n",
       "      <th>paint</th>\n",
       "      <th>seller</th>\n",
       "      <th>seats</th>\n",
       "      <th>engine_size</th>\n",
       "      <th>gears</th>\n",
       "      <th>CO2_emissions</th>\n",
       "      <th>manufacturer_colour</th>\n",
       "      <th>drivetrain</th>\n",
       "      <th>cylinders</th>\n",
       "      <th>fuel_consumption</th>\n",
       "      <th>comfort_convenience</th>\n",
       "      <th>entertainment_media</th>\n",
       "      <th>safety_security</th>\n",
       "      <th>extras</th>\n",
       "      <th>empty_weight</th>\n",
       "      <th>full_service_history</th>\n",
       "      <th>nonsmoker_vehicle</th>\n",
       "      <th>emission_class</th>\n",
       "      <th>emissions_sticker</th>\n",
       "      <th>upholstery</th>\n",
       "      <th>production_date</th>\n",
       "      <th>previous_owner</th>\n",
       "      <th>other_fuel_types</th>\n",
       "      <th>power_consumption</th>\n",
       "      <th>energy_efficiency_class</th>\n",
       "      <th>CO2_efficiency</th>\n",
       "      <th>fuel_consumption(WLTP)</th>\n",
       "      <th>taxi_or_rentalcar</th>\n",
       "      <th>electric_range(WLTP)</th>\n",
       "      <th>power_consumption(WLTP)</th>\n",
       "      <th>battery_ownership</th>\n",
       "      <th>first_registration_year</th>\n",
       "      <th>power_hp</th>\n",
       "    </tr>\n",
       "  </thead>\n",
       "  <tbody>\n",
       "    <tr>\n",
       "      <th>1785</th>\n",
       "      <td>NaN</td>\n",
       "      <td>NaN</td>\n",
       "      <td>NaN</td>\n",
       "      <td>NaN</td>\n",
       "      <td>NaN</td>\n",
       "      <td>NaN</td>\n",
       "      <td>NaN</td>\n",
       "      <td>NaN</td>\n",
       "      <td>NaN</td>\n",
       "      <td>NaN</td>\n",
       "      <td>NaN</td>\n",
       "      <td>NaN</td>\n",
       "      <td>NaN</td>\n",
       "      <td>NaN</td>\n",
       "      <td>NaN</td>\n",
       "      <td>NaN</td>\n",
       "      <td>NaN</td>\n",
       "      <td>NaN</td>\n",
       "      <td>NaN</td>\n",
       "      <td>NaN</td>\n",
       "      <td>NaN</td>\n",
       "      <td>NaN</td>\n",
       "      <td>NaN</td>\n",
       "      <td>NaN</td>\n",
       "      <td>NaN</td>\n",
       "      <td>NaN</td>\n",
       "      <td>NaN</td>\n",
       "      <td>NaN</td>\n",
       "      <td>NaN</td>\n",
       "      <td>NaN</td>\n",
       "      <td>NaN</td>\n",
       "      <td>NaN</td>\n",
       "      <td>NaN</td>\n",
       "      <td>NaN</td>\n",
       "      <td>NaN</td>\n",
       "      <td>NaN</td>\n",
       "      <td>NaN</td>\n",
       "      <td>NaN</td>\n",
       "      <td>NaN</td>\n",
       "      <td>NaN</td>\n",
       "      <td>NaN</td>\n",
       "      <td>NaN</td>\n",
       "      <td>NaN</td>\n",
       "      <td>NaN</td>\n",
       "      <td>NaN</td>\n",
       "      <td>NaN</td>\n",
       "      <td>NaN</td>\n",
       "    </tr>\n",
       "    <tr>\n",
       "      <th>1814</th>\n",
       "      <td>NaN</td>\n",
       "      <td>NaN</td>\n",
       "      <td>NaN</td>\n",
       "      <td>NaN</td>\n",
       "      <td>NaN</td>\n",
       "      <td>NaN</td>\n",
       "      <td>NaN</td>\n",
       "      <td>NaN</td>\n",
       "      <td>NaN</td>\n",
       "      <td>NaN</td>\n",
       "      <td>NaN</td>\n",
       "      <td>NaN</td>\n",
       "      <td>NaN</td>\n",
       "      <td>NaN</td>\n",
       "      <td>NaN</td>\n",
       "      <td>NaN</td>\n",
       "      <td>NaN</td>\n",
       "      <td>NaN</td>\n",
       "      <td>NaN</td>\n",
       "      <td>NaN</td>\n",
       "      <td>NaN</td>\n",
       "      <td>NaN</td>\n",
       "      <td>NaN</td>\n",
       "      <td>NaN</td>\n",
       "      <td>NaN</td>\n",
       "      <td>NaN</td>\n",
       "      <td>NaN</td>\n",
       "      <td>NaN</td>\n",
       "      <td>NaN</td>\n",
       "      <td>NaN</td>\n",
       "      <td>NaN</td>\n",
       "      <td>NaN</td>\n",
       "      <td>NaN</td>\n",
       "      <td>NaN</td>\n",
       "      <td>NaN</td>\n",
       "      <td>NaN</td>\n",
       "      <td>NaN</td>\n",
       "      <td>NaN</td>\n",
       "      <td>NaN</td>\n",
       "      <td>NaN</td>\n",
       "      <td>NaN</td>\n",
       "      <td>NaN</td>\n",
       "      <td>NaN</td>\n",
       "      <td>NaN</td>\n",
       "      <td>NaN</td>\n",
       "      <td>NaN</td>\n",
       "      <td>NaN</td>\n",
       "    </tr>\n",
       "    <tr>\n",
       "      <th>2700</th>\n",
       "      <td>NaN</td>\n",
       "      <td>NaN</td>\n",
       "      <td>NaN</td>\n",
       "      <td>NaN</td>\n",
       "      <td>NaN</td>\n",
       "      <td>NaN</td>\n",
       "      <td>NaN</td>\n",
       "      <td>NaN</td>\n",
       "      <td>NaN</td>\n",
       "      <td>NaN</td>\n",
       "      <td>NaN</td>\n",
       "      <td>NaN</td>\n",
       "      <td>NaN</td>\n",
       "      <td>NaN</td>\n",
       "      <td>NaN</td>\n",
       "      <td>NaN</td>\n",
       "      <td>NaN</td>\n",
       "      <td>NaN</td>\n",
       "      <td>NaN</td>\n",
       "      <td>NaN</td>\n",
       "      <td>NaN</td>\n",
       "      <td>NaN</td>\n",
       "      <td>NaN</td>\n",
       "      <td>NaN</td>\n",
       "      <td>NaN</td>\n",
       "      <td>NaN</td>\n",
       "      <td>NaN</td>\n",
       "      <td>NaN</td>\n",
       "      <td>NaN</td>\n",
       "      <td>NaN</td>\n",
       "      <td>NaN</td>\n",
       "      <td>NaN</td>\n",
       "      <td>NaN</td>\n",
       "      <td>NaN</td>\n",
       "      <td>NaN</td>\n",
       "      <td>NaN</td>\n",
       "      <td>NaN</td>\n",
       "      <td>NaN</td>\n",
       "      <td>NaN</td>\n",
       "      <td>NaN</td>\n",
       "      <td>NaN</td>\n",
       "      <td>NaN</td>\n",
       "      <td>NaN</td>\n",
       "      <td>NaN</td>\n",
       "      <td>NaN</td>\n",
       "      <td>NaN</td>\n",
       "      <td>NaN</td>\n",
       "    </tr>\n",
       "    <tr>\n",
       "      <th>3008</th>\n",
       "      <td>NaN</td>\n",
       "      <td>NaN</td>\n",
       "      <td>NaN</td>\n",
       "      <td>NaN</td>\n",
       "      <td>NaN</td>\n",
       "      <td>NaN</td>\n",
       "      <td>NaN</td>\n",
       "      <td>NaN</td>\n",
       "      <td>NaN</td>\n",
       "      <td>NaN</td>\n",
       "      <td>NaN</td>\n",
       "      <td>NaN</td>\n",
       "      <td>NaN</td>\n",
       "      <td>NaN</td>\n",
       "      <td>NaN</td>\n",
       "      <td>NaN</td>\n",
       "      <td>NaN</td>\n",
       "      <td>NaN</td>\n",
       "      <td>NaN</td>\n",
       "      <td>NaN</td>\n",
       "      <td>NaN</td>\n",
       "      <td>NaN</td>\n",
       "      <td>NaN</td>\n",
       "      <td>NaN</td>\n",
       "      <td>NaN</td>\n",
       "      <td>NaN</td>\n",
       "      <td>NaN</td>\n",
       "      <td>NaN</td>\n",
       "      <td>NaN</td>\n",
       "      <td>NaN</td>\n",
       "      <td>NaN</td>\n",
       "      <td>NaN</td>\n",
       "      <td>NaN</td>\n",
       "      <td>NaN</td>\n",
       "      <td>NaN</td>\n",
       "      <td>NaN</td>\n",
       "      <td>NaN</td>\n",
       "      <td>NaN</td>\n",
       "      <td>NaN</td>\n",
       "      <td>NaN</td>\n",
       "      <td>NaN</td>\n",
       "      <td>NaN</td>\n",
       "      <td>NaN</td>\n",
       "      <td>NaN</td>\n",
       "      <td>NaN</td>\n",
       "      <td>NaN</td>\n",
       "      <td>NaN</td>\n",
       "    </tr>\n",
       "    <tr>\n",
       "      <th>3114</th>\n",
       "      <td>NaN</td>\n",
       "      <td>NaN</td>\n",
       "      <td>NaN</td>\n",
       "      <td>NaN</td>\n",
       "      <td>NaN</td>\n",
       "      <td>NaN</td>\n",
       "      <td>NaN</td>\n",
       "      <td>NaN</td>\n",
       "      <td>NaN</td>\n",
       "      <td>NaN</td>\n",
       "      <td>NaN</td>\n",
       "      <td>NaN</td>\n",
       "      <td>NaN</td>\n",
       "      <td>NaN</td>\n",
       "      <td>NaN</td>\n",
       "      <td>NaN</td>\n",
       "      <td>NaN</td>\n",
       "      <td>NaN</td>\n",
       "      <td>NaN</td>\n",
       "      <td>NaN</td>\n",
       "      <td>NaN</td>\n",
       "      <td>NaN</td>\n",
       "      <td>NaN</td>\n",
       "      <td>NaN</td>\n",
       "      <td>NaN</td>\n",
       "      <td>NaN</td>\n",
       "      <td>NaN</td>\n",
       "      <td>NaN</td>\n",
       "      <td>NaN</td>\n",
       "      <td>NaN</td>\n",
       "      <td>NaN</td>\n",
       "      <td>NaN</td>\n",
       "      <td>NaN</td>\n",
       "      <td>NaN</td>\n",
       "      <td>NaN</td>\n",
       "      <td>NaN</td>\n",
       "      <td>NaN</td>\n",
       "      <td>NaN</td>\n",
       "      <td>NaN</td>\n",
       "      <td>NaN</td>\n",
       "      <td>NaN</td>\n",
       "      <td>NaN</td>\n",
       "      <td>NaN</td>\n",
       "      <td>NaN</td>\n",
       "      <td>NaN</td>\n",
       "      <td>NaN</td>\n",
       "      <td>NaN</td>\n",
       "    </tr>\n",
       "    <tr>\n",
       "      <th>...</th>\n",
       "      <td>...</td>\n",
       "      <td>...</td>\n",
       "      <td>...</td>\n",
       "      <td>...</td>\n",
       "      <td>...</td>\n",
       "      <td>...</td>\n",
       "      <td>...</td>\n",
       "      <td>...</td>\n",
       "      <td>...</td>\n",
       "      <td>...</td>\n",
       "      <td>...</td>\n",
       "      <td>...</td>\n",
       "      <td>...</td>\n",
       "      <td>...</td>\n",
       "      <td>...</td>\n",
       "      <td>...</td>\n",
       "      <td>...</td>\n",
       "      <td>...</td>\n",
       "      <td>...</td>\n",
       "      <td>...</td>\n",
       "      <td>...</td>\n",
       "      <td>...</td>\n",
       "      <td>...</td>\n",
       "      <td>...</td>\n",
       "      <td>...</td>\n",
       "      <td>...</td>\n",
       "      <td>...</td>\n",
       "      <td>...</td>\n",
       "      <td>...</td>\n",
       "      <td>...</td>\n",
       "      <td>...</td>\n",
       "      <td>...</td>\n",
       "      <td>...</td>\n",
       "      <td>...</td>\n",
       "      <td>...</td>\n",
       "      <td>...</td>\n",
       "      <td>...</td>\n",
       "      <td>...</td>\n",
       "      <td>...</td>\n",
       "      <td>...</td>\n",
       "      <td>...</td>\n",
       "      <td>...</td>\n",
       "      <td>...</td>\n",
       "      <td>...</td>\n",
       "      <td>...</td>\n",
       "      <td>...</td>\n",
       "      <td>...</td>\n",
       "    </tr>\n",
       "    <tr>\n",
       "      <th>29419</th>\n",
       "      <td>NaN</td>\n",
       "      <td>NaN</td>\n",
       "      <td>NaN</td>\n",
       "      <td>NaN</td>\n",
       "      <td>NaN</td>\n",
       "      <td>NaN</td>\n",
       "      <td>NaN</td>\n",
       "      <td>NaN</td>\n",
       "      <td>NaN</td>\n",
       "      <td>NaN</td>\n",
       "      <td>NaN</td>\n",
       "      <td>NaN</td>\n",
       "      <td>NaN</td>\n",
       "      <td>NaN</td>\n",
       "      <td>NaN</td>\n",
       "      <td>NaN</td>\n",
       "      <td>NaN</td>\n",
       "      <td>NaN</td>\n",
       "      <td>NaN</td>\n",
       "      <td>NaN</td>\n",
       "      <td>NaN</td>\n",
       "      <td>NaN</td>\n",
       "      <td>NaN</td>\n",
       "      <td>NaN</td>\n",
       "      <td>NaN</td>\n",
       "      <td>NaN</td>\n",
       "      <td>NaN</td>\n",
       "      <td>NaN</td>\n",
       "      <td>NaN</td>\n",
       "      <td>NaN</td>\n",
       "      <td>NaN</td>\n",
       "      <td>NaN</td>\n",
       "      <td>NaN</td>\n",
       "      <td>NaN</td>\n",
       "      <td>NaN</td>\n",
       "      <td>NaN</td>\n",
       "      <td>NaN</td>\n",
       "      <td>NaN</td>\n",
       "      <td>NaN</td>\n",
       "      <td>NaN</td>\n",
       "      <td>NaN</td>\n",
       "      <td>NaN</td>\n",
       "      <td>NaN</td>\n",
       "      <td>NaN</td>\n",
       "      <td>NaN</td>\n",
       "      <td>NaN</td>\n",
       "      <td>NaN</td>\n",
       "    </tr>\n",
       "    <tr>\n",
       "      <th>29445</th>\n",
       "      <td>NaN</td>\n",
       "      <td>NaN</td>\n",
       "      <td>NaN</td>\n",
       "      <td>NaN</td>\n",
       "      <td>NaN</td>\n",
       "      <td>NaN</td>\n",
       "      <td>NaN</td>\n",
       "      <td>NaN</td>\n",
       "      <td>NaN</td>\n",
       "      <td>NaN</td>\n",
       "      <td>NaN</td>\n",
       "      <td>NaN</td>\n",
       "      <td>NaN</td>\n",
       "      <td>NaN</td>\n",
       "      <td>NaN</td>\n",
       "      <td>NaN</td>\n",
       "      <td>NaN</td>\n",
       "      <td>NaN</td>\n",
       "      <td>NaN</td>\n",
       "      <td>NaN</td>\n",
       "      <td>NaN</td>\n",
       "      <td>NaN</td>\n",
       "      <td>NaN</td>\n",
       "      <td>NaN</td>\n",
       "      <td>NaN</td>\n",
       "      <td>NaN</td>\n",
       "      <td>NaN</td>\n",
       "      <td>NaN</td>\n",
       "      <td>NaN</td>\n",
       "      <td>NaN</td>\n",
       "      <td>NaN</td>\n",
       "      <td>NaN</td>\n",
       "      <td>NaN</td>\n",
       "      <td>NaN</td>\n",
       "      <td>NaN</td>\n",
       "      <td>NaN</td>\n",
       "      <td>NaN</td>\n",
       "      <td>NaN</td>\n",
       "      <td>NaN</td>\n",
       "      <td>NaN</td>\n",
       "      <td>NaN</td>\n",
       "      <td>NaN</td>\n",
       "      <td>NaN</td>\n",
       "      <td>NaN</td>\n",
       "      <td>NaN</td>\n",
       "      <td>NaN</td>\n",
       "      <td>NaN</td>\n",
       "    </tr>\n",
       "    <tr>\n",
       "      <th>29451</th>\n",
       "      <td>NaN</td>\n",
       "      <td>NaN</td>\n",
       "      <td>NaN</td>\n",
       "      <td>NaN</td>\n",
       "      <td>NaN</td>\n",
       "      <td>NaN</td>\n",
       "      <td>NaN</td>\n",
       "      <td>NaN</td>\n",
       "      <td>NaN</td>\n",
       "      <td>NaN</td>\n",
       "      <td>NaN</td>\n",
       "      <td>NaN</td>\n",
       "      <td>NaN</td>\n",
       "      <td>NaN</td>\n",
       "      <td>NaN</td>\n",
       "      <td>NaN</td>\n",
       "      <td>NaN</td>\n",
       "      <td>NaN</td>\n",
       "      <td>NaN</td>\n",
       "      <td>NaN</td>\n",
       "      <td>NaN</td>\n",
       "      <td>NaN</td>\n",
       "      <td>NaN</td>\n",
       "      <td>NaN</td>\n",
       "      <td>NaN</td>\n",
       "      <td>NaN</td>\n",
       "      <td>NaN</td>\n",
       "      <td>NaN</td>\n",
       "      <td>NaN</td>\n",
       "      <td>NaN</td>\n",
       "      <td>NaN</td>\n",
       "      <td>NaN</td>\n",
       "      <td>NaN</td>\n",
       "      <td>NaN</td>\n",
       "      <td>NaN</td>\n",
       "      <td>NaN</td>\n",
       "      <td>NaN</td>\n",
       "      <td>NaN</td>\n",
       "      <td>NaN</td>\n",
       "      <td>NaN</td>\n",
       "      <td>NaN</td>\n",
       "      <td>NaN</td>\n",
       "      <td>NaN</td>\n",
       "      <td>NaN</td>\n",
       "      <td>NaN</td>\n",
       "      <td>NaN</td>\n",
       "      <td>NaN</td>\n",
       "    </tr>\n",
       "    <tr>\n",
       "      <th>29473</th>\n",
       "      <td>NaN</td>\n",
       "      <td>NaN</td>\n",
       "      <td>NaN</td>\n",
       "      <td>NaN</td>\n",
       "      <td>NaN</td>\n",
       "      <td>NaN</td>\n",
       "      <td>NaN</td>\n",
       "      <td>NaN</td>\n",
       "      <td>NaN</td>\n",
       "      <td>NaN</td>\n",
       "      <td>NaN</td>\n",
       "      <td>NaN</td>\n",
       "      <td>NaN</td>\n",
       "      <td>NaN</td>\n",
       "      <td>NaN</td>\n",
       "      <td>NaN</td>\n",
       "      <td>NaN</td>\n",
       "      <td>NaN</td>\n",
       "      <td>NaN</td>\n",
       "      <td>NaN</td>\n",
       "      <td>NaN</td>\n",
       "      <td>NaN</td>\n",
       "      <td>NaN</td>\n",
       "      <td>NaN</td>\n",
       "      <td>NaN</td>\n",
       "      <td>NaN</td>\n",
       "      <td>NaN</td>\n",
       "      <td>NaN</td>\n",
       "      <td>NaN</td>\n",
       "      <td>NaN</td>\n",
       "      <td>NaN</td>\n",
       "      <td>NaN</td>\n",
       "      <td>NaN</td>\n",
       "      <td>NaN</td>\n",
       "      <td>NaN</td>\n",
       "      <td>NaN</td>\n",
       "      <td>NaN</td>\n",
       "      <td>NaN</td>\n",
       "      <td>NaN</td>\n",
       "      <td>NaN</td>\n",
       "      <td>NaN</td>\n",
       "      <td>NaN</td>\n",
       "      <td>NaN</td>\n",
       "      <td>NaN</td>\n",
       "      <td>NaN</td>\n",
       "      <td>NaN</td>\n",
       "      <td>NaN</td>\n",
       "    </tr>\n",
       "    <tr>\n",
       "      <th>29479</th>\n",
       "      <td>NaN</td>\n",
       "      <td>NaN</td>\n",
       "      <td>NaN</td>\n",
       "      <td>NaN</td>\n",
       "      <td>NaN</td>\n",
       "      <td>NaN</td>\n",
       "      <td>NaN</td>\n",
       "      <td>NaN</td>\n",
       "      <td>NaN</td>\n",
       "      <td>NaN</td>\n",
       "      <td>NaN</td>\n",
       "      <td>NaN</td>\n",
       "      <td>NaN</td>\n",
       "      <td>NaN</td>\n",
       "      <td>NaN</td>\n",
       "      <td>NaN</td>\n",
       "      <td>NaN</td>\n",
       "      <td>NaN</td>\n",
       "      <td>NaN</td>\n",
       "      <td>NaN</td>\n",
       "      <td>NaN</td>\n",
       "      <td>NaN</td>\n",
       "      <td>NaN</td>\n",
       "      <td>NaN</td>\n",
       "      <td>NaN</td>\n",
       "      <td>NaN</td>\n",
       "      <td>NaN</td>\n",
       "      <td>NaN</td>\n",
       "      <td>NaN</td>\n",
       "      <td>NaN</td>\n",
       "      <td>NaN</td>\n",
       "      <td>NaN</td>\n",
       "      <td>NaN</td>\n",
       "      <td>NaN</td>\n",
       "      <td>NaN</td>\n",
       "      <td>NaN</td>\n",
       "      <td>NaN</td>\n",
       "      <td>NaN</td>\n",
       "      <td>NaN</td>\n",
       "      <td>NaN</td>\n",
       "      <td>NaN</td>\n",
       "      <td>NaN</td>\n",
       "      <td>NaN</td>\n",
       "      <td>NaN</td>\n",
       "      <td>NaN</td>\n",
       "      <td>NaN</td>\n",
       "      <td>NaN</td>\n",
       "    </tr>\n",
       "  </tbody>\n",
       "</table>\n",
       "<p>850 rows × 47 columns</p>\n",
       "</div>"
      ],
      "text/plain": [
       "      make_model make model location  price body_type type  doors  \\\n",
       "1785         NaN  NaN   NaN      NaN    NaN       NaN  NaN    NaN   \n",
       "1814         NaN  NaN   NaN      NaN    NaN       NaN  NaN    NaN   \n",
       "2700         NaN  NaN   NaN      NaN    NaN       NaN  NaN    NaN   \n",
       "3008         NaN  NaN   NaN      NaN    NaN       NaN  NaN    NaN   \n",
       "3114         NaN  NaN   NaN      NaN    NaN       NaN  NaN    NaN   \n",
       "...          ...  ...   ...      ...    ...       ...  ...    ...   \n",
       "29419        NaN  NaN   NaN      NaN    NaN       NaN  NaN    NaN   \n",
       "29445        NaN  NaN   NaN      NaN    NaN       NaN  NaN    NaN   \n",
       "29451        NaN  NaN   NaN      NaN    NaN       NaN  NaN    NaN   \n",
       "29473        NaN  NaN   NaN      NaN    NaN       NaN  NaN    NaN   \n",
       "29479        NaN  NaN   NaN      NaN    NaN       NaN  NaN    NaN   \n",
       "\n",
       "      country_version warranty  mileage gearbox fuel_type colour paint seller  \\\n",
       "1785              NaN      NaN      NaN     NaN       NaN    NaN   NaN    NaN   \n",
       "1814              NaN      NaN      NaN     NaN       NaN    NaN   NaN    NaN   \n",
       "2700              NaN      NaN      NaN     NaN       NaN    NaN   NaN    NaN   \n",
       "3008              NaN      NaN      NaN     NaN       NaN    NaN   NaN    NaN   \n",
       "3114              NaN      NaN      NaN     NaN       NaN    NaN   NaN    NaN   \n",
       "...               ...      ...      ...     ...       ...    ...   ...    ...   \n",
       "29419             NaN      NaN      NaN     NaN       NaN    NaN   NaN    NaN   \n",
       "29445             NaN      NaN      NaN     NaN       NaN    NaN   NaN    NaN   \n",
       "29451             NaN      NaN      NaN     NaN       NaN    NaN   NaN    NaN   \n",
       "29473             NaN      NaN      NaN     NaN       NaN    NaN   NaN    NaN   \n",
       "29479             NaN      NaN      NaN     NaN       NaN    NaN   NaN    NaN   \n",
       "\n",
       "       seats  engine_size  gears  CO2_emissions manufacturer_colour  \\\n",
       "1785     NaN          NaN    NaN            NaN                 NaN   \n",
       "1814     NaN          NaN    NaN            NaN                 NaN   \n",
       "2700     NaN          NaN    NaN            NaN                 NaN   \n",
       "3008     NaN          NaN    NaN            NaN                 NaN   \n",
       "3114     NaN          NaN    NaN            NaN                 NaN   \n",
       "...      ...          ...    ...            ...                 ...   \n",
       "29419    NaN          NaN    NaN            NaN                 NaN   \n",
       "29445    NaN          NaN    NaN            NaN                 NaN   \n",
       "29451    NaN          NaN    NaN            NaN                 NaN   \n",
       "29473    NaN          NaN    NaN            NaN                 NaN   \n",
       "29479    NaN          NaN    NaN            NaN                 NaN   \n",
       "\n",
       "      drivetrain  cylinders  fuel_consumption comfort_convenience  \\\n",
       "1785         NaN        NaN               NaN                 NaN   \n",
       "1814         NaN        NaN               NaN                 NaN   \n",
       "2700         NaN        NaN               NaN                 NaN   \n",
       "3008         NaN        NaN               NaN                 NaN   \n",
       "3114         NaN        NaN               NaN                 NaN   \n",
       "...          ...        ...               ...                 ...   \n",
       "29419        NaN        NaN               NaN                 NaN   \n",
       "29445        NaN        NaN               NaN                 NaN   \n",
       "29451        NaN        NaN               NaN                 NaN   \n",
       "29473        NaN        NaN               NaN                 NaN   \n",
       "29479        NaN        NaN               NaN                 NaN   \n",
       "\n",
       "      entertainment_media safety_security extras  empty_weight  \\\n",
       "1785                  NaN             NaN    NaN           NaN   \n",
       "1814                  NaN             NaN    NaN           NaN   \n",
       "2700                  NaN             NaN    NaN           NaN   \n",
       "3008                  NaN             NaN    NaN           NaN   \n",
       "3114                  NaN             NaN    NaN           NaN   \n",
       "...                   ...             ...    ...           ...   \n",
       "29419                 NaN             NaN    NaN           NaN   \n",
       "29445                 NaN             NaN    NaN           NaN   \n",
       "29451                 NaN             NaN    NaN           NaN   \n",
       "29473                 NaN             NaN    NaN           NaN   \n",
       "29479                 NaN             NaN    NaN           NaN   \n",
       "\n",
       "      full_service_history nonsmoker_vehicle emission_class  \\\n",
       "1785                   NaN               NaN            NaN   \n",
       "1814                   NaN               NaN            NaN   \n",
       "2700                   NaN               NaN            NaN   \n",
       "3008                   NaN               NaN            NaN   \n",
       "3114                   NaN               NaN            NaN   \n",
       "...                    ...               ...            ...   \n",
       "29419                  NaN               NaN            NaN   \n",
       "29445                  NaN               NaN            NaN   \n",
       "29451                  NaN               NaN            NaN   \n",
       "29473                  NaN               NaN            NaN   \n",
       "29479                  NaN               NaN            NaN   \n",
       "\n",
       "       emissions_sticker upholstery  production_date  previous_owner  \\\n",
       "1785                 NaN        NaN              NaN             NaN   \n",
       "1814                 NaN        NaN              NaN             NaN   \n",
       "2700                 NaN        NaN              NaN             NaN   \n",
       "3008                 NaN        NaN              NaN             NaN   \n",
       "3114                 NaN        NaN              NaN             NaN   \n",
       "...                  ...        ...              ...             ...   \n",
       "29419                NaN        NaN              NaN             NaN   \n",
       "29445                NaN        NaN              NaN             NaN   \n",
       "29451                NaN        NaN              NaN             NaN   \n",
       "29473                NaN        NaN              NaN             NaN   \n",
       "29479                NaN        NaN              NaN             NaN   \n",
       "\n",
       "      other_fuel_types  power_consumption energy_efficiency_class  \\\n",
       "1785               NaN                NaN                     NaN   \n",
       "1814               NaN                NaN                     NaN   \n",
       "2700               NaN                NaN                     NaN   \n",
       "3008               NaN                NaN                     NaN   \n",
       "3114               NaN                NaN                     NaN   \n",
       "...                ...                ...                     ...   \n",
       "29419              NaN                NaN                     NaN   \n",
       "29445              NaN                NaN                     NaN   \n",
       "29451              NaN                NaN                     NaN   \n",
       "29473              NaN                NaN                     NaN   \n",
       "29479              NaN                NaN                     NaN   \n",
       "\n",
       "      CO2_efficiency  fuel_consumption(WLTP) taxi_or_rentalcar  \\\n",
       "1785             NaN                     NaN               NaN   \n",
       "1814             NaN                     NaN               NaN   \n",
       "2700             NaN                     NaN               NaN   \n",
       "3008             NaN                     NaN               NaN   \n",
       "3114             NaN                     NaN               NaN   \n",
       "...              ...                     ...               ...   \n",
       "29419            NaN                     NaN               NaN   \n",
       "29445            NaN                     NaN               NaN   \n",
       "29451            NaN                     NaN               NaN   \n",
       "29473            NaN                     NaN               NaN   \n",
       "29479            NaN                     NaN               NaN   \n",
       "\n",
       "       electric_range(WLTP)  power_consumption(WLTP) battery_ownership  \\\n",
       "1785                    NaN                      NaN               NaN   \n",
       "1814                    NaN                      NaN               NaN   \n",
       "2700                    NaN                      NaN               NaN   \n",
       "3008                    NaN                      NaN               NaN   \n",
       "3114                    NaN                      NaN               NaN   \n",
       "...                     ...                      ...               ...   \n",
       "29419                   NaN                      NaN               NaN   \n",
       "29445                   NaN                      NaN               NaN   \n",
       "29451                   NaN                      NaN               NaN   \n",
       "29473                   NaN                      NaN               NaN   \n",
       "29479                   NaN                      NaN               NaN   \n",
       "\n",
       "      first_registration_year  power_hp  \n",
       "1785                      NaN       NaN  \n",
       "1814                      NaN       NaN  \n",
       "2700                      NaN       NaN  \n",
       "3008                      NaN       NaN  \n",
       "3114                      NaN       NaN  \n",
       "...                       ...       ...  \n",
       "29419                     NaN       NaN  \n",
       "29445                     NaN       NaN  \n",
       "29451                     NaN       NaN  \n",
       "29473                     NaN       NaN  \n",
       "29479                     NaN       NaN  \n",
       "\n",
       "[850 rows x 47 columns]"
      ]
     },
     "execution_count": 9,
     "metadata": {},
     "output_type": "execute_result"
    }
   ],
   "source": [
    "df[df.isna().all(axis=1)]"
   ]
  },
  {
   "cell_type": "code",
   "execution_count": 10,
   "id": "d7552465",
   "metadata": {},
   "outputs": [
    {
     "data": {
      "text/plain": [
       "False    850\n",
       "Name: count, dtype: int64"
      ]
     },
     "execution_count": 10,
     "metadata": {},
     "output_type": "execute_result"
    }
   ],
   "source": [
    "(df[df.make_model.isnull()]).any(axis=1).value_counts()"
   ]
  },
  {
   "cell_type": "markdown",
   "id": "0f82ec62",
   "metadata": {},
   "source": [
    "##### drop the rows that all features are NaN"
   ]
  },
  {
   "cell_type": "code",
   "execution_count": 11,
   "id": "64909a58",
   "metadata": {},
   "outputs": [],
   "source": [
    "df.dropna(how = \"all\", inplace = True)"
   ]
  },
  {
   "cell_type": "code",
   "execution_count": 12,
   "id": "7dc32233",
   "metadata": {},
   "outputs": [
    {
     "data": {
      "text/plain": [
       "0"
      ]
     },
     "execution_count": 12,
     "metadata": {},
     "output_type": "execute_result"
    }
   ],
   "source": [
    "df.make_model.isnull().sum()"
   ]
  },
  {
   "cell_type": "code",
   "execution_count": null,
   "id": "54c8bc6b",
   "metadata": {},
   "outputs": [],
   "source": []
  },
  {
   "cell_type": "markdown",
   "id": "f82e4f86",
   "metadata": {},
   "source": [
    "#### make"
   ]
  },
  {
   "cell_type": "code",
   "execution_count": 13,
   "id": "e1cd5436",
   "metadata": {},
   "outputs": [
    {
     "data": {
      "text/plain": [
       "0"
      ]
     },
     "execution_count": 13,
     "metadata": {},
     "output_type": "execute_result"
    }
   ],
   "source": [
    "df.make.isnull().sum()"
   ]
  },
  {
   "cell_type": "code",
   "execution_count": null,
   "id": "a848e227",
   "metadata": {},
   "outputs": [],
   "source": []
  },
  {
   "cell_type": "markdown",
   "id": "42d02c90",
   "metadata": {},
   "source": [
    "#### model"
   ]
  },
  {
   "cell_type": "code",
   "execution_count": 14,
   "id": "9238ca8d",
   "metadata": {},
   "outputs": [
    {
     "data": {
      "text/plain": [
       "0"
      ]
     },
     "execution_count": 14,
     "metadata": {},
     "output_type": "execute_result"
    }
   ],
   "source": [
    "df.model.isnull().sum()"
   ]
  },
  {
   "cell_type": "code",
   "execution_count": null,
   "id": "458bd2a1",
   "metadata": {},
   "outputs": [],
   "source": []
  },
  {
   "cell_type": "markdown",
   "id": "c291a6d1",
   "metadata": {},
   "source": [
    "#### location"
   ]
  },
  {
   "cell_type": "code",
   "execution_count": 15,
   "id": "f849671f",
   "metadata": {},
   "outputs": [
    {
     "data": {
      "text/plain": [
       "0"
      ]
     },
     "execution_count": 15,
     "metadata": {},
     "output_type": "execute_result"
    }
   ],
   "source": [
    "df.location.isnull().sum()"
   ]
  },
  {
   "cell_type": "code",
   "execution_count": null,
   "id": "0da74fe4",
   "metadata": {},
   "outputs": [],
   "source": []
  },
  {
   "cell_type": "markdown",
   "id": "5a0a6f90",
   "metadata": {},
   "source": [
    "#### price"
   ]
  },
  {
   "cell_type": "code",
   "execution_count": 16,
   "id": "89d6c81d",
   "metadata": {
    "scrolled": true
   },
   "outputs": [
    {
     "data": {
      "text/plain": [
       "0"
      ]
     },
     "execution_count": 16,
     "metadata": {},
     "output_type": "execute_result"
    }
   ],
   "source": [
    "df.price.isnull().sum()"
   ]
  },
  {
   "cell_type": "code",
   "execution_count": null,
   "id": "6da891bc",
   "metadata": {},
   "outputs": [],
   "source": []
  },
  {
   "cell_type": "markdown",
   "id": "bf7abd5e",
   "metadata": {},
   "source": [
    "#### body_type"
   ]
  },
  {
   "cell_type": "code",
   "execution_count": 17,
   "id": "27956a09",
   "metadata": {},
   "outputs": [
    {
     "data": {
      "text/plain": [
       "0"
      ]
     },
     "execution_count": 17,
     "metadata": {},
     "output_type": "execute_result"
    }
   ],
   "source": [
    "df.body_type.isnull().sum()"
   ]
  },
  {
   "cell_type": "code",
   "execution_count": null,
   "id": "67a86930",
   "metadata": {},
   "outputs": [],
   "source": []
  },
  {
   "cell_type": "markdown",
   "id": "7c779422",
   "metadata": {},
   "source": [
    "#### type"
   ]
  },
  {
   "cell_type": "code",
   "execution_count": 18,
   "id": "f4002e5f",
   "metadata": {
    "scrolled": true
   },
   "outputs": [
    {
     "data": {
      "text/plain": [
       "0"
      ]
     },
     "execution_count": 18,
     "metadata": {},
     "output_type": "execute_result"
    }
   ],
   "source": [
    "df.type.isnull().sum()"
   ]
  },
  {
   "cell_type": "code",
   "execution_count": null,
   "id": "e1505b33",
   "metadata": {},
   "outputs": [],
   "source": []
  },
  {
   "cell_type": "markdown",
   "id": "0434c86b",
   "metadata": {},
   "source": [
    "#### doors"
   ]
  },
  {
   "cell_type": "code",
   "execution_count": 19,
   "id": "7bc63c8b",
   "metadata": {},
   "outputs": [
    {
     "data": {
      "text/plain": [
       "359"
      ]
     },
     "execution_count": 19,
     "metadata": {},
     "output_type": "execute_result"
    }
   ],
   "source": [
    "df.doors.isnull().sum()"
   ]
  },
  {
   "cell_type": "code",
   "execution_count": 20,
   "id": "d9eeac7f",
   "metadata": {},
   "outputs": [],
   "source": [
    "for group in list(df['make_model'].unique()):\n",
    "    cond = df['make_model'] == group\n",
    "    mode = list(df[cond]['doors'].mode())\n",
    "    if mode != []:\n",
    "        df.loc[cond, 'doors'] = df.loc[cond, 'doors'].fillna(df[cond]['doors'].mode()[0])\n",
    "    else:\n",
    "        df.loc[cond, 'doors'] = df.loc[cond, 'doors'].fillna(df['doors'].mode()[0])"
   ]
  },
  {
   "cell_type": "code",
   "execution_count": 21,
   "id": "2b5b47b1",
   "metadata": {},
   "outputs": [
    {
     "data": {
      "text/plain": [
       "0"
      ]
     },
     "execution_count": 21,
     "metadata": {},
     "output_type": "execute_result"
    }
   ],
   "source": [
    "df.doors.isnull().sum()"
   ]
  },
  {
   "cell_type": "markdown",
   "id": "b23a4d5e",
   "metadata": {},
   "source": [
    "#### country_version"
   ]
  },
  {
   "cell_type": "code",
   "execution_count": 22,
   "id": "78539e03",
   "metadata": {
    "scrolled": true
   },
   "outputs": [
    {
     "data": {
      "text/plain": [
       "11741"
      ]
     },
     "execution_count": 22,
     "metadata": {},
     "output_type": "execute_result"
    }
   ],
   "source": [
    "df.country_version.isnull().sum()"
   ]
  },
  {
   "cell_type": "code",
   "execution_count": 23,
   "id": "1dd67fba",
   "metadata": {},
   "outputs": [],
   "source": [
    "for group in list(df['make_model'].unique()):\n",
    "    cond = df['make_model'] == group\n",
    "    mode = list(df[cond]['country_version'].mode())\n",
    "    if mode != []:\n",
    "        df.loc[cond, 'country_version'] = df.loc[cond, 'country_version'].fillna(df[cond]['country_version'].mode()[0])\n",
    "    else:\n",
    "        df.loc[cond, 'country_version'] = df.loc[cond, 'country_version'].fillna(df['country_version'].mode()[0])"
   ]
  },
  {
   "cell_type": "markdown",
   "id": "a0910e98",
   "metadata": {},
   "source": [
    "#### warranty\n",
    "**Important:** There is 'Yes'\n",
    "null No=0"
   ]
  },
  {
   "cell_type": "code",
   "execution_count": 24,
   "id": "8834e5a0",
   "metadata": {
    "scrolled": false
   },
   "outputs": [
    {
     "data": {
      "text/plain": [
       "warranty\n",
       "NaN    12846\n",
       "12      9545\n",
       "Yes     2319\n",
       "24      1515\n",
       "60       968\n",
       "       ...  \n",
       "55         1\n",
       "99         1\n",
       "122        1\n",
       "44         1\n",
       "4          1\n",
       "Name: count, Length: 66, dtype: int64"
      ]
     },
     "execution_count": 24,
     "metadata": {},
     "output_type": "execute_result"
    }
   ],
   "source": [
    "df.warranty.value_counts(dropna=False)"
   ]
  },
  {
   "cell_type": "code",
   "execution_count": 25,
   "id": "f9af0824",
   "metadata": {},
   "outputs": [],
   "source": [
    "df.warranty = df.warranty.apply(lambda x: 'No' if pd.isna(x) or x == 0 else 'Yes')"
   ]
  },
  {
   "cell_type": "markdown",
   "id": "e3357ea3",
   "metadata": {},
   "source": [
    "#### mileage"
   ]
  },
  {
   "cell_type": "code",
   "execution_count": 26,
   "id": "59907b6b",
   "metadata": {},
   "outputs": [
    {
     "data": {
      "text/plain": [
       "1"
      ]
     },
     "execution_count": 26,
     "metadata": {},
     "output_type": "execute_result"
    }
   ],
   "source": [
    "df.mileage.isnull().sum()"
   ]
  },
  {
   "cell_type": "code",
   "execution_count": 27,
   "id": "fd27afe2",
   "metadata": {},
   "outputs": [],
   "source": [
    "for group in list(df['make_model'].unique()):\n",
    "    cond = df['make_model'] == group\n",
    "    mode = list(df[cond]['country_version'].mode())\n",
    "    if mode != []:\n",
    "        df.loc[cond, 'mileage'] = df.loc[cond, 'mileage'].fillna(df[cond]['mileage'].mode()[0])\n",
    "    else:\n",
    "        df.loc[cond, 'mileage'] = df.loc[cond, 'mileage'].fillna(df['mileage'].mode()[0])"
   ]
  },
  {
   "cell_type": "markdown",
   "id": "4c0b5c00",
   "metadata": {},
   "source": [
    "#### first_registration"
   ]
  },
  {
   "cell_type": "code",
   "execution_count": 28,
   "id": "738148ae",
   "metadata": {},
   "outputs": [
    {
     "data": {
      "text/plain": [
       "array(['2016-01-01', '2022-01-01', '2020-01-01', '2015-01-01',\n",
       "       '2005-01-01', '2018-01-01', '2019-01-01', '2013-01-01',\n",
       "       '2010-01-01', '2021-01-01', '2014-01-01', '2017-01-01',\n",
       "       '2011-01-01', '2006-01-01', '2012-01-01', '2008-01-01',\n",
       "       '1986-01-01', '1985-01-01', '2007-01-01', '2004-01-01',\n",
       "       '2009-01-01', '1998-01-01', '1993-01-01', '1991-01-01',\n",
       "       '1966-01-01', '2002-01-01', '1983-01-01', '1988-01-01',\n",
       "       '1987-01-01', '1999-01-01', '1979-01-01', '1984-01-01',\n",
       "       '2003-01-01', '2000-01-01', '1995-01-01', '1977-01-01',\n",
       "       '1963-01-01', '1997-01-01', '1992-01-01', '1981-01-01', nan,\n",
       "       '1994-01-01', '2001-01-01', '1957-01-01', '1996-01-01',\n",
       "       '1973-01-01', '1952-01-01', '1962-01-01', '1958-01-01',\n",
       "       '1978-01-01', '1972-01-01', '1990-01-01', '1969-01-01',\n",
       "       '1970-01-01', '1971-01-01', '1964-01-01', '1976-01-01',\n",
       "       '1968-01-01', '1982-01-01', '1980-01-01', '1967-01-01',\n",
       "       '1950-01-01', '1975-01-01', '1989-01-01', '1961-01-01',\n",
       "       '1974-01-01', '2202-01-01', '1930-01-01', '1956-01-01',\n",
       "       '1946-01-01', '1960-01-01', '1965-01-01', '2025-01-01',\n",
       "       '1933-01-01', '1954-01-01', '1959-01-01', '2023-01-01',\n",
       "       '1929-01-01', '1955-01-01', '1932-01-01', '1937-01-01',\n",
       "       '1928-01-01', '1900-01-01', '1953-01-01'], dtype=object)"
      ]
     },
     "execution_count": 28,
     "metadata": {},
     "output_type": "execute_result"
    }
   ],
   "source": [
    "df.first_registration_year.unique()"
   ]
  },
  {
   "cell_type": "code",
   "execution_count": 29,
   "id": "2d5b9720",
   "metadata": {},
   "outputs": [],
   "source": [
    "fixed_date = pd.to_datetime('2022-01-01')"
   ]
  },
  {
   "cell_type": "code",
   "execution_count": 30,
   "id": "0053c436",
   "metadata": {},
   "outputs": [],
   "source": [
    "df['first_registration_year'] = pd.to_datetime(df['first_registration_year'], format='%Y-%m-%d')\n",
    "\n",
    "# Calculate the age of the vehicle\n",
    "df['age'] = fixed_date.year - df['first_registration_year'].dt.year"
   ]
  },
  {
   "cell_type": "code",
   "execution_count": 31,
   "id": "e7c70d58",
   "metadata": {
    "scrolled": true
   },
   "outputs": [
    {
     "data": {
      "text/plain": [
       "age\n",
       " 3.0      3667\n",
       " 4.0      3492\n",
       " 0.0      3086\n",
       " 1.0      2870\n",
       " 2.0      2473\n",
       "          ... \n",
       "-1.0         1\n",
       " 93.0        1\n",
       " 72.0        1\n",
       " 94.0        1\n",
       "-180.0       1\n",
       "Name: count, Length: 84, dtype: int64"
      ]
     },
     "execution_count": 31,
     "metadata": {},
     "output_type": "execute_result"
    }
   ],
   "source": [
    "df['age'].value_counts(dropna=False)"
   ]
  },
  {
   "cell_type": "code",
   "execution_count": 32,
   "id": "0b895373",
   "metadata": {
    "scrolled": true
   },
   "outputs": [
    {
     "data": {
      "text/plain": [
       "2"
      ]
     },
     "execution_count": 32,
     "metadata": {},
     "output_type": "execute_result"
    }
   ],
   "source": [
    "df['age'].isnull().sum()"
   ]
  },
  {
   "cell_type": "code",
   "execution_count": 33,
   "id": "df4c0436",
   "metadata": {},
   "outputs": [],
   "source": [
    "for group in list(df['make_model'].unique()):\n",
    "    cond = df['make_model'] == group\n",
    "    mode = list(df[cond]['age'].mode())\n",
    "    if mode != []:\n",
    "        df.loc[cond, 'age'] = df.loc[cond, 'age'].fillna(df[cond]['age'].mode()[0])\n",
    "    else:\n",
    "        df.loc[cond, 'age'] = df.loc[cond, 'age'].fillna(df['age'].mode()[0])"
   ]
  },
  {
   "cell_type": "code",
   "execution_count": null,
   "id": "96befd15",
   "metadata": {},
   "outputs": [],
   "source": []
  },
  {
   "cell_type": "code",
   "execution_count": 34,
   "id": "f4e2c138",
   "metadata": {},
   "outputs": [],
   "source": [
    "df.drop('first_registration_year', axis=1, inplace=True)"
   ]
  },
  {
   "cell_type": "markdown",
   "id": "731178f8",
   "metadata": {},
   "source": [
    "#### gearbox"
   ]
  },
  {
   "cell_type": "code",
   "execution_count": 35,
   "id": "9e55777d",
   "metadata": {},
   "outputs": [
    {
     "data": {
      "text/plain": [
       "248"
      ]
     },
     "execution_count": 35,
     "metadata": {},
     "output_type": "execute_result"
    }
   ],
   "source": [
    "df.gearbox.isnull().sum()"
   ]
  },
  {
   "cell_type": "code",
   "execution_count": 36,
   "id": "f069a168",
   "metadata": {},
   "outputs": [],
   "source": [
    "for group in list(df['make_model'].unique()):\n",
    "    cond = df['make_model'] == group\n",
    "    mode = list(df[cond]['gearbox'].mode())\n",
    "    if mode != []:\n",
    "        df.loc[cond, 'gearbox'] = df.loc[cond, 'gearbox'].fillna(df[cond]['gearbox'].mode()[0])\n",
    "    else:\n",
    "        df.loc[cond, 'gearbox'] = df.loc[cond, 'gearbox'].fillna(df['gearbox'].mode()[0])"
   ]
  },
  {
   "cell_type": "markdown",
   "id": "75abf696",
   "metadata": {},
   "source": [
    "#### fuel_type"
   ]
  },
  {
   "cell_type": "code",
   "execution_count": 37,
   "id": "34fb94b5",
   "metadata": {},
   "outputs": [
    {
     "data": {
      "text/plain": [
       "fuel_type\n",
       "Gasoline    4\n",
       "Name: count, dtype: int64"
      ]
     },
     "execution_count": 37,
     "metadata": {},
     "output_type": "execute_result"
    }
   ],
   "source": [
    "df[df.make_model=='Volvo 960'].fuel_type.value_counts()"
   ]
  },
  {
   "cell_type": "code",
   "execution_count": 38,
   "id": "f9aa64f6",
   "metadata": {},
   "outputs": [
    {
     "data": {
      "text/plain": [
       "1787"
      ]
     },
     "execution_count": 38,
     "metadata": {},
     "output_type": "execute_result"
    }
   ],
   "source": [
    "df.fuel_type.isnull().sum()"
   ]
  },
  {
   "cell_type": "code",
   "execution_count": 39,
   "id": "05883624",
   "metadata": {
    "scrolled": true
   },
   "outputs": [
    {
     "data": {
      "text/plain": [
       "other_fuel_types\n",
       "Electricity    1767\n",
       "Hydogen          10\n",
       "Name: count, dtype: int64"
      ]
     },
     "execution_count": 39,
     "metadata": {},
     "output_type": "execute_result"
    }
   ],
   "source": [
    "df[df.fuel_type.isnull()]['other_fuel_types'].value_counts()"
   ]
  },
  {
   "cell_type": "code",
   "execution_count": 40,
   "id": "b3ac2b41",
   "metadata": {},
   "outputs": [],
   "source": [
    "df['fuel_type'] = df['fuel_type'].fillna(df['other_fuel_types'])"
   ]
  },
  {
   "cell_type": "code",
   "execution_count": 41,
   "id": "7b0faa54",
   "metadata": {},
   "outputs": [],
   "source": [
    "df['fuel_type'] = df.fuel_type.str.replace('Hydogen', 'Hydrogen')"
   ]
  },
  {
   "cell_type": "code",
   "execution_count": 42,
   "id": "de1bb6d7",
   "metadata": {},
   "outputs": [],
   "source": [
    "for group in list(df['make_model'].unique()):\n",
    "    cond = df['make_model'] == group\n",
    "    mode = list(df[cond]['fuel_type'].mode())\n",
    "    if mode != []:\n",
    "        df.loc[cond, 'fuel_type'] = df.loc[cond, 'fuel_type'].fillna(df[cond]['fuel_type'].mode()[0])\n",
    "    else:\n",
    "        df.loc[cond, 'fuel_type'] = df.loc[cond, 'fuel_type'].fillna(df['fuel_type'].mode()[0])"
   ]
  },
  {
   "cell_type": "code",
   "execution_count": 43,
   "id": "3b5f03a1",
   "metadata": {},
   "outputs": [],
   "source": [
    "diesel = ['Diesel', 'Diesel (Particle filter)']\n",
    "\n",
    "benzine = ['Gasoline', 'Super 95', 'Regular/Benzine 91', 'Super E10 95', 'Regular/Benzine 91 (Particle filter)', \n",
    "           'Regular/Benzine 91 (Particle filter)','Super 95 (Particle filter)', 'Super E10 95 (Particle filter)',\n",
    "           'Regular/Benzine E10 91','Others', 'Gasoline (Particle filter)', 'Super Plus 98', 'Super Plus E10 98',\n",
    "          'Super Plus E10 98 (Particle filter)', 'Others (Particle filter)', 'Super Plus 98 (Particle filter)',\n",
    "          'Regular/Benzine E10 91 (Particle filter)', 'Ethanol','Super 95 (Particle filter) / Super E10 95 / Ethanol',\n",
    "          ]\n",
    "\n",
    "lpg_cng = ['Liquid petroleum gas (LPG)', 'LPG', 'CNG', 'Domestic gas H', 'Domestic gas L', 'CNG (Particle filter)', \n",
    "       'LPG (Particle filter)', 'Domestic gas L (Particle filter)', 'Liquid petroleum gas (LPG) (Particle filter)',\n",
    "       'Biogas','Liquid petroleum gas (LPG) (Particle filter) / Super 95 / Super E10 95',\n",
    "              'Liquid petroleum gas (LPG) / Super 95 / Super Plus 98 / Super Plus E10 98 / Super E10 95',\n",
    "              'Liquid petroleum gas (LPG) / Super 95 / Super E10 95', 'Liquid petroleum gas (LPG) / Super 95',\n",
    "              'Liquid petroleum gas (LPG) / Super 95 / Super E10 95 / Super Plus 98',\n",
    "              'Liquid petroleum gas (LPG) / Super 95 / Super Plus 98',\n",
    "              'Liquid petroleum gas (LPG) / Super E10 95 / Super Plus E10 98 / Super Plus 98 / Super 95',\n",
    "              'Liquid petroleum gas (LPG) / Super E10 95', 'Super 95 / Super Plus 98 / Liquid petroleum gas (LPG)',\n",
    "              'Domestic gas L / Super 95 / Domestic gas H',\n",
    "              'Domestic gas H / Super E10 95 / Super Plus E10 98 / Super 95 / Super Plus 98 / Domestic gas L',\n",
    "              'Liquid petroleum gas (LPG) / Super E10 95 / Regular/Benzine 91 / Super 95 / Super Plus 98 / Biogas',\n",
    "              'Super 95 / Liquid petroleum gas (LPG)']\n",
    "electric = ['Electric (Particle filter)', 'Electric', 'Electricity']"
   ]
  },
  {
   "cell_type": "code",
   "execution_count": 44,
   "id": "273042ec",
   "metadata": {},
   "outputs": [],
   "source": [
    "def fuel_category(x):\n",
    "    if x in diesel:\n",
    "        return 'diesel'\n",
    "    elif x in benzine:\n",
    "        return 'benzine'\n",
    "    elif x in lpg_cng:\n",
    "        return 'lpg/cng'\n",
    "    elif x in electric:\n",
    "        return 'electric'\n",
    "    else:\n",
    "        return x"
   ]
  },
  {
   "cell_type": "code",
   "execution_count": 45,
   "id": "61e5a3fa",
   "metadata": {},
   "outputs": [],
   "source": [
    "df['fuel_type'] = df['fuel_type'].apply(fuel_category)"
   ]
  },
  {
   "cell_type": "code",
   "execution_count": 46,
   "id": "5327ae7d",
   "metadata": {},
   "outputs": [
    {
     "data": {
      "text/plain": [
       "fuel_type\n",
       "benzine     17552\n",
       "diesel       8730\n",
       "electric     1957\n",
       "lpg/cng       378\n",
       "Hydrogen       13\n",
       "Name: count, dtype: int64"
      ]
     },
     "execution_count": 46,
     "metadata": {},
     "output_type": "execute_result"
    }
   ],
   "source": [
    "df['fuel_type'].value_counts(dropna=False)"
   ]
  },
  {
   "cell_type": "markdown",
   "id": "75ef0c0c",
   "metadata": {},
   "source": [
    "#### colour"
   ]
  },
  {
   "cell_type": "code",
   "execution_count": 47,
   "id": "c333649b",
   "metadata": {},
   "outputs": [
    {
     "data": {
      "text/plain": [
       "1724"
      ]
     },
     "execution_count": 47,
     "metadata": {},
     "output_type": "execute_result"
    }
   ],
   "source": [
    "df.colour.isnull().sum()"
   ]
  },
  {
   "cell_type": "raw",
   "id": "d6305ac5",
   "metadata": {},
   "source": [
    "pd.set_option('display.max_rows', None)"
   ]
  },
  {
   "cell_type": "raw",
   "id": "ed8be689",
   "metadata": {},
   "source": [
    "pd.reset_option('display.max_rows')"
   ]
  },
  {
   "cell_type": "code",
   "execution_count": 48,
   "id": "770eb2c3",
   "metadata": {},
   "outputs": [],
   "source": [
    "color_translations = {\n",
    "    'Blau': 'Blue',\n",
    "    'Rot': 'Red',\n",
    "    'Grün': 'Green',\n",
    "    'Silber': 'Silver',\n",
    "    'Schwarz': 'Black',\n",
    "    'Weiß': 'White',\n",
    "    'Grau': 'Grey',\n",
    "    'Braun': 'Brown',\n",
    "    'Beige': 'Beige',\n",
    "    'Orange': 'Orange',\n",
    "    'Blu': 'Blue',\n",
    "    'Rosso': 'Red',\n",
    "    'Verde': 'Green',\n",
    "    'Argento': 'Silver',\n",
    "    'Nero': 'Black',\n",
    "    'Bianco': 'White',\n",
    "    'Grigio': 'Grey',\n",
    "    'Marrone': 'Brown',\n",
    "    'Beige': 'Beige',\n",
    "    'Arancione': 'Orange',\n",
    "    'Blauw': 'Blue',\n",
    "    'Rood': 'Red',\n",
    "    'Groen': 'Green',\n",
    "    'Zilver': 'Silver',\n",
    "    'Zwart': 'Black',\n",
    "    'Wit': 'White',\n",
    "    'Grijs': 'Grey',\n",
    "    'Bruin': 'Brown',\n",
    "    'Beige': 'Beige',\n",
    "    'Oranje': 'Orange',\n",
    "    'Bleu': 'Blue',\n",
    "    'Rouge': 'Red',\n",
    "    'Vert': 'Green',\n",
    "    'Argent': 'Silver',\n",
    "    'Noir': 'Black',\n",
    "    'Blanc': 'White',\n",
    "    'Gris': 'Gray',\n",
    "    'Marron': 'Brown',\n",
    "    'Beige': 'Beige',\n",
    "    'Orange': 'Orange',\n",
    "    'Azul': 'Blue',\n",
    "    'Rojo': 'Red',\n",
    "    'Verde': 'Green',\n",
    "    'Plata': 'Silver',\n",
    "    'Negro': 'Black',\n",
    "    'Blanco': 'White',\n",
    "    'Gris': 'Grey',\n",
    "    'Marrón': 'Brown',\n",
    "    'Beige': 'Beige',\n",
    "    'Naranja': 'Orange',\n",
    "    'Blue': 'Blue',\n",
    "    'Red': 'Red',\n",
    "    'Green': 'Green',\n",
    "    'Silver': 'Silver',\n",
    "    'Black': 'Black',\n",
    "    'White': 'White',\n",
    "    'Gray': 'Grey',\n",
    "    'Grey': 'Grey',\n",
    "    'Brown': 'Brown',\n",
    "    'Beige': 'Beige',\n",
    "    'Orange': 'Orange',\n",
    "}\n",
    "def translate_color(x):\n",
    "    if isinstance(x, str):\n",
    "        for color, translation in color_translations.items():\n",
    "            if color in x:\n",
    "                return translation\n",
    "    return None"
   ]
  },
  {
   "cell_type": "code",
   "execution_count": 49,
   "id": "ae34556e",
   "metadata": {},
   "outputs": [
    {
     "data": {
      "text/plain": [
       "translated_color\n",
       "None      15564\n",
       "Black      3163\n",
       "Grey       3152\n",
       "White      2638\n",
       "Blue       1765\n",
       "Red        1123\n",
       "Silver      540\n",
       "Brown       237\n",
       "Green       166\n",
       "Orange      149\n",
       "Beige       133\n",
       "Name: count, dtype: int64"
      ]
     },
     "execution_count": 49,
     "metadata": {},
     "output_type": "execute_result"
    }
   ],
   "source": [
    "# Apply the custom function to create a new column 'translated_color'\n",
    "df['translated_color'] = df['manufacturer_colour'].apply(translate_color)\n",
    "# Check the updated DataFrame\n",
    "df['translated_color'].value_counts(dropna=False)"
   ]
  },
  {
   "cell_type": "code",
   "execution_count": 50,
   "id": "acf268ee",
   "metadata": {},
   "outputs": [
    {
     "data": {
      "text/plain": [
       "colour\n",
       "Black     6473\n",
       "Grey      5998\n",
       "White     5185\n",
       "Blue      3478\n",
       "Red       2242\n",
       "NaN       1724\n",
       "Silver    1622\n",
       "Green      450\n",
       "Brown      437\n",
       "Orange     288\n",
       "Beige      278\n",
       "Yellow     230\n",
       "Violet      98\n",
       "Bronze      65\n",
       "Gold        62\n",
       "Name: count, dtype: int64"
      ]
     },
     "execution_count": 50,
     "metadata": {},
     "output_type": "execute_result"
    }
   ],
   "source": [
    "df['colour'].value_counts(dropna=False)"
   ]
  },
  {
   "cell_type": "code",
   "execution_count": 51,
   "id": "700a5e23",
   "metadata": {},
   "outputs": [],
   "source": [
    "df['colour'] = df['colour'].fillna(df['translated_color'])"
   ]
  },
  {
   "cell_type": "code",
   "execution_count": 52,
   "id": "37eaf4d8",
   "metadata": {},
   "outputs": [],
   "source": [
    "df.drop('translated_color',axis=1, inplace=True)"
   ]
  },
  {
   "cell_type": "code",
   "execution_count": 53,
   "id": "9de6cd35",
   "metadata": {},
   "outputs": [],
   "source": [
    "for group in list(df['make_model'].unique()):\n",
    "    cond = df['make_model'] == group\n",
    "    mode = list(df[cond]['colour'].mode())\n",
    "    if mode != []:\n",
    "        df.loc[cond, 'colour'] = df.loc[cond, 'colour'].fillna(df[cond]['colour'].mode()[0])\n",
    "    else:\n",
    "        df.loc[cond, 'colour'] = df.loc[cond, 'colour'].fillna(df['colour'].mode()[0])"
   ]
  },
  {
   "cell_type": "code",
   "execution_count": 54,
   "id": "086f6de6",
   "metadata": {},
   "outputs": [
    {
     "data": {
      "text/plain": [
       "0"
      ]
     },
     "execution_count": 54,
     "metadata": {},
     "output_type": "execute_result"
    }
   ],
   "source": [
    "df['colour'].isnull().sum()"
   ]
  },
  {
   "cell_type": "code",
   "execution_count": null,
   "id": "a6fec2ee",
   "metadata": {},
   "outputs": [],
   "source": []
  },
  {
   "cell_type": "markdown",
   "id": "81e15907",
   "metadata": {},
   "source": [
    "#### paint"
   ]
  },
  {
   "cell_type": "code",
   "execution_count": 55,
   "id": "8da84a49",
   "metadata": {},
   "outputs": [
    {
     "data": {
      "text/plain": [
       "14135"
      ]
     },
     "execution_count": 55,
     "metadata": {},
     "output_type": "execute_result"
    }
   ],
   "source": [
    "df.paint.isnull().sum()"
   ]
  },
  {
   "cell_type": "code",
   "execution_count": 56,
   "id": "6fa61448",
   "metadata": {},
   "outputs": [
    {
     "data": {
      "text/plain": [
       "paint\n",
       "Metallic     14494\n",
       "NaN          14135\n",
       "Uni/basic        1\n",
       "Name: count, dtype: int64"
      ]
     },
     "execution_count": 56,
     "metadata": {},
     "output_type": "execute_result"
    }
   ],
   "source": [
    "df.paint.value_counts(dropna=False)"
   ]
  },
  {
   "cell_type": "code",
   "execution_count": 57,
   "id": "0503e2b7",
   "metadata": {},
   "outputs": [
    {
     "data": {
      "text/plain": [
       "manufacturer_colour\n",
       "Blanco             1234\n",
       "Gris                655\n",
       "Azul                551\n",
       "Negro               542\n",
       "Rojo                380\n",
       "                   ... \n",
       "Alor blau             1\n",
       "Magnetic-Grau         1\n",
       "Midnight schwar       1\n",
       "Blau Med              1\n",
       "DEMIN BLUE            1\n",
       "Name: count, Length: 1931, dtype: int64"
      ]
     },
     "execution_count": 57,
     "metadata": {},
     "output_type": "execute_result"
    }
   ],
   "source": [
    "df[df.paint.isnull()]['manufacturer_colour'].value_counts()"
   ]
  },
  {
   "cell_type": "code",
   "execution_count": 58,
   "id": "c83b4b90",
   "metadata": {},
   "outputs": [],
   "source": [
    "df['manufacturer_colour'] = df['manufacturer_colour'].str.lower()\n",
    "\n",
    "def fill_paint(row):\n",
    "    if pd.notna(row['manufacturer_colour']) and 'metallic' in row['manufacturer_colour']:\n",
    "        return 'Metallic'\n",
    "    else:\n",
    "        return 'Nonmetallic'\n",
    "\n",
    "\n",
    "df['paint'].fillna(df.apply(fill_paint, axis=1), inplace=True)\n",
    "\n",
    "\n",
    "df['paint'] = df['paint'].str.title()"
   ]
  },
  {
   "cell_type": "code",
   "execution_count": 59,
   "id": "3ba62247",
   "metadata": {},
   "outputs": [
    {
     "data": {
      "text/plain": [
       "paint\n",
       "Metallic       14604\n",
       "Nonmetallic    14025\n",
       "Uni/Basic          1\n",
       "Name: count, dtype: int64"
      ]
     },
     "execution_count": 59,
     "metadata": {},
     "output_type": "execute_result"
    }
   ],
   "source": [
    "df.paint.value_counts(dropna=False)"
   ]
  },
  {
   "cell_type": "code",
   "execution_count": null,
   "id": "6b84ff46",
   "metadata": {},
   "outputs": [],
   "source": []
  },
  {
   "cell_type": "markdown",
   "id": "cab90fcc",
   "metadata": {},
   "source": [
    "#### seller"
   ]
  },
  {
   "cell_type": "code",
   "execution_count": 60,
   "id": "708d04ea",
   "metadata": {},
   "outputs": [
    {
     "data": {
      "text/plain": [
       "0"
      ]
     },
     "execution_count": 60,
     "metadata": {},
     "output_type": "execute_result"
    }
   ],
   "source": [
    "df.seller.isnull().sum()"
   ]
  },
  {
   "cell_type": "markdown",
   "id": "09649218",
   "metadata": {},
   "source": [
    "#### seats"
   ]
  },
  {
   "cell_type": "code",
   "execution_count": 61,
   "id": "967f1542",
   "metadata": {},
   "outputs": [
    {
     "data": {
      "text/plain": [
       "3125"
      ]
     },
     "execution_count": 61,
     "metadata": {},
     "output_type": "execute_result"
    }
   ],
   "source": [
    "df.seats.isnull().sum()"
   ]
  },
  {
   "cell_type": "code",
   "execution_count": 62,
   "id": "e9692b6e",
   "metadata": {},
   "outputs": [],
   "source": [
    "for group in list(df['make_model'].unique()):\n",
    "    cond = df['make_model'] == group\n",
    "    mode = list(df[cond]['seats'].mode())\n",
    "    if mode != []:\n",
    "        df.loc[cond, 'seats'] = df.loc[cond, 'seats'].fillna(df[cond]['seats'].mode()[0])\n",
    "    else:\n",
    "        df.loc[cond, 'seats'] = df.loc[cond, 'seats'].fillna(df['seats'].mode()[0])"
   ]
  },
  {
   "cell_type": "markdown",
   "id": "148e23c7",
   "metadata": {},
   "source": [
    "#### power"
   ]
  },
  {
   "cell_type": "code",
   "execution_count": 63,
   "id": "fd714b31",
   "metadata": {
    "scrolled": true
   },
   "outputs": [
    {
     "data": {
      "text/plain": [
       "572"
      ]
     },
     "execution_count": 63,
     "metadata": {},
     "output_type": "execute_result"
    }
   ],
   "source": [
    "df.power_hp.isnull().sum()"
   ]
  },
  {
   "cell_type": "code",
   "execution_count": 64,
   "id": "618f40eb",
   "metadata": {},
   "outputs": [],
   "source": [
    "for group in list(df['make_model'].unique()):\n",
    "    cond = df['make_model'] == group\n",
    "    mode = list(df[cond]['power_hp'].mode())\n",
    "    if mode != []:\n",
    "        df.loc[cond, 'power_hp'] = df.loc[cond, 'power_hp'].fillna(df[cond]['power_hp'].mode()[0])\n",
    "    else:\n",
    "        df.loc[cond, 'power_hp'] = df.loc[cond, 'power_hp'].fillna(df['power_hp'].mode()[0])"
   ]
  },
  {
   "cell_type": "markdown",
   "id": "55187620",
   "metadata": {},
   "source": [
    "#### engine_size"
   ]
  },
  {
   "cell_type": "code",
   "execution_count": 65,
   "id": "6d770ec2",
   "metadata": {
    "scrolled": true
   },
   "outputs": [
    {
     "data": {
      "text/plain": [
       "1403"
      ]
     },
     "execution_count": 65,
     "metadata": {},
     "output_type": "execute_result"
    }
   ],
   "source": [
    "df.engine_size.isnull().sum()"
   ]
  },
  {
   "cell_type": "code",
   "execution_count": 66,
   "id": "7291b3b3",
   "metadata": {},
   "outputs": [],
   "source": [
    "for group in list(df['make_model'].unique()):\n",
    "    cond = df['make_model'] == group\n",
    "    mode = list(df[cond]['engine_size'].mode())\n",
    "    if mode != []:\n",
    "        df.loc[cond, 'engine_size'] = df.loc[cond, 'engine_size'].fillna(df[cond]['engine_size'].mode()[0])\n",
    "    else:\n",
    "        df.loc[cond, 'engine_size'] = df.loc[cond, 'engine_size'].fillna(df['engine_size'].mode()[0])"
   ]
  },
  {
   "cell_type": "markdown",
   "id": "23099e49",
   "metadata": {},
   "source": [
    "#### gears"
   ]
  },
  {
   "cell_type": "code",
   "execution_count": 67,
   "id": "2b91f822",
   "metadata": {
    "scrolled": false
   },
   "outputs": [
    {
     "data": {
      "text/plain": [
       "9676"
      ]
     },
     "execution_count": 67,
     "metadata": {},
     "output_type": "execute_result"
    }
   ],
   "source": [
    "df.gears.isnull().sum()"
   ]
  },
  {
   "cell_type": "raw",
   "id": "2786d7fe",
   "metadata": {},
   "source": [
    "df['gears'].fillna(df.groupby([\"make_model\", \"body_type\", \"fuel_type\"])[\"gears\"].transform('median'), inplace=True)\n",
    "df['gears'].fillna(df.groupby([\"make_model\", \"body_type\"])[\"gears\"].transform('median'), inplace=True)\n",
    "df['gears'].fillna(df.groupby(\"make_model\")[\"gears\"].transform('median'), inplace=True)\n",
    "df['gears'].fillna(df[\"gears\"].median(), inplace = True)"
   ]
  },
  {
   "cell_type": "code",
   "execution_count": 68,
   "id": "6115deb0",
   "metadata": {},
   "outputs": [],
   "source": [
    "for group in list(df['make_model'].unique()):\n",
    "    cond = df['make_model'] == group\n",
    "    mode = list(df[cond]['gears'].mode())\n",
    "    if mode != []:\n",
    "        df.loc[cond, 'gears'] = df.loc[cond, 'gears'].fillna(df[cond]['gears'].mode()[0])\n",
    "    else:\n",
    "        df.loc[cond, 'gears'] = df.loc[cond, 'gears'].fillna(df['gears'].mode()[0])"
   ]
  },
  {
   "cell_type": "markdown",
   "id": "3d3d3e3d",
   "metadata": {},
   "source": [
    "#### CO2_emissions"
   ]
  },
  {
   "cell_type": "code",
   "execution_count": 69,
   "id": "9ac3604f",
   "metadata": {
    "scrolled": false
   },
   "outputs": [
    {
     "data": {
      "text/plain": [
       "10036"
      ]
     },
     "execution_count": 69,
     "metadata": {},
     "output_type": "execute_result"
    }
   ],
   "source": [
    "df.CO2_emissions.isnull().sum()"
   ]
  },
  {
   "cell_type": "code",
   "execution_count": 70,
   "id": "4cbf1667",
   "metadata": {},
   "outputs": [],
   "source": [
    "df['CO2_emissions'].fillna(df.groupby([\"make_model\", \"body_type\", \"fuel_type\"])[\"CO2_emissions\"].transform(\"median\"), inplace=True)"
   ]
  },
  {
   "cell_type": "code",
   "execution_count": 71,
   "id": "0acc095b",
   "metadata": {},
   "outputs": [],
   "source": [
    "df['CO2_emissions'].fillna(df.groupby([\"make_model\", \"body_type\"])[\"CO2_emissions\"].transform(\"median\"), inplace=True)"
   ]
  },
  {
   "cell_type": "code",
   "execution_count": 72,
   "id": "ad047729",
   "metadata": {},
   "outputs": [],
   "source": [
    "df['CO2_emissions'].fillna(df.groupby(\"make_model\")[\"CO2_emissions\"].transform(\"median\"), inplace=True)"
   ]
  },
  {
   "cell_type": "code",
   "execution_count": 73,
   "id": "215d423a",
   "metadata": {},
   "outputs": [],
   "source": [
    "df['CO2_emissions'].fillna(df[\"CO2_emissions\"].median(), inplace = True)"
   ]
  },
  {
   "cell_type": "raw",
   "id": "b364360f",
   "metadata": {},
   "source": [
    "for group in list(df['make_model'].unique()):\n",
    "    cond = df['make_model'] == group\n",
    "    mode = list(df[cond]['CO2_emissions'].mode())\n",
    "    if mode != []:\n",
    "        df.loc[cond, 'CO2_emissions'] = df.loc[cond, 'CO2_emissions'].fillna(df[cond]['CO2_emissions'].mode()[0])\n",
    "    else:\n",
    "        df.loc[cond, 'CO2_emissions'] = df.loc[cond, 'CO2_emissions'].fillna(df['CO2_emissions'].mode()[0])"
   ]
  },
  {
   "cell_type": "markdown",
   "id": "3e3fb98a",
   "metadata": {},
   "source": [
    "#### drivetrain"
   ]
  },
  {
   "cell_type": "code",
   "execution_count": 74,
   "id": "886612c0",
   "metadata": {},
   "outputs": [
    {
     "data": {
      "text/plain": [
       "11737"
      ]
     },
     "execution_count": 74,
     "metadata": {},
     "output_type": "execute_result"
    }
   ],
   "source": [
    "df.drivetrain.isnull().sum()"
   ]
  },
  {
   "cell_type": "code",
   "execution_count": 75,
   "id": "289aa591",
   "metadata": {},
   "outputs": [],
   "source": [
    "for group in list(df['make_model'].unique()):\n",
    "    cond = df['make_model'] == group\n",
    "    mode = list(df[cond]['drivetrain'].mode())\n",
    "    if mode != []:\n",
    "        df.loc[cond, 'drivetrain'] = df.loc[cond, 'drivetrain'].fillna(df[cond]['drivetrain'].mode()[0])\n",
    "    else:\n",
    "        df.loc[cond, 'drivetrain'] = df.loc[cond, 'drivetrain'].fillna(df['drivetrain'].mode()[0])"
   ]
  },
  {
   "cell_type": "markdown",
   "id": "acad0ef3",
   "metadata": {},
   "source": [
    "#### cylinders"
   ]
  },
  {
   "cell_type": "code",
   "execution_count": 76,
   "id": "3e253bee",
   "metadata": {},
   "outputs": [
    {
     "data": {
      "text/plain": [
       "9778"
      ]
     },
     "execution_count": 76,
     "metadata": {},
     "output_type": "execute_result"
    }
   ],
   "source": [
    "df.cylinders.isnull().sum()"
   ]
  },
  {
   "cell_type": "code",
   "execution_count": 77,
   "id": "d51b12b4",
   "metadata": {},
   "outputs": [],
   "source": [
    "for group in list(df['make_model'].unique()):\n",
    "    cond = df['make_model'] == group\n",
    "    mode = list(df[cond]['cylinders'].mode())\n",
    "    if mode != []:\n",
    "        df.loc[cond, 'cylinders'] = df.loc[cond, 'cylinders'].fillna(df[cond]['cylinders'].mode()[0])\n",
    "    else:\n",
    "        df.loc[cond, 'cylinders'] = df.loc[cond, 'cylinders'].fillna(df['cylinders'].mode()[0])"
   ]
  },
  {
   "cell_type": "markdown",
   "id": "19850e47",
   "metadata": {},
   "source": [
    "#### manufacturer_colour"
   ]
  },
  {
   "cell_type": "code",
   "execution_count": 78,
   "id": "619d3b7a",
   "metadata": {
    "scrolled": false
   },
   "outputs": [
    {
     "data": {
      "text/plain": [
       "6843"
      ]
     },
     "execution_count": 78,
     "metadata": {},
     "output_type": "execute_result"
    }
   ],
   "source": [
    "df.manufacturer_colour.isnull().sum()"
   ]
  },
  {
   "cell_type": "code",
   "execution_count": 79,
   "id": "d169c3cf",
   "metadata": {},
   "outputs": [],
   "source": [
    "df.drop('manufacturer_colour',axis=1, inplace=True)"
   ]
  },
  {
   "cell_type": "markdown",
   "id": "9fb1d1a3",
   "metadata": {},
   "source": [
    "#### fuel_consumption"
   ]
  },
  {
   "cell_type": "code",
   "execution_count": 80,
   "id": "a46ae77b",
   "metadata": {
    "scrolled": false
   },
   "outputs": [
    {
     "data": {
      "text/plain": [
       "5245"
      ]
     },
     "execution_count": 80,
     "metadata": {},
     "output_type": "execute_result"
    }
   ],
   "source": [
    "df.fuel_consumption.isnull().sum()"
   ]
  },
  {
   "cell_type": "code",
   "execution_count": 81,
   "id": "66c41baa",
   "metadata": {
    "scrolled": true
   },
   "outputs": [
    {
     "data": {
      "text/html": [
       "<div>\n",
       "<style scoped>\n",
       "    .dataframe tbody tr th:only-of-type {\n",
       "        vertical-align: middle;\n",
       "    }\n",
       "\n",
       "    .dataframe tbody tr th {\n",
       "        vertical-align: top;\n",
       "    }\n",
       "\n",
       "    .dataframe thead th {\n",
       "        text-align: right;\n",
       "    }\n",
       "</style>\n",
       "<table border=\"1\" class=\"dataframe\">\n",
       "  <thead>\n",
       "    <tr style=\"text-align: right;\">\n",
       "      <th></th>\n",
       "      <th>make_model</th>\n",
       "      <th>make</th>\n",
       "      <th>model</th>\n",
       "      <th>location</th>\n",
       "      <th>price</th>\n",
       "      <th>body_type</th>\n",
       "      <th>type</th>\n",
       "      <th>doors</th>\n",
       "      <th>country_version</th>\n",
       "      <th>warranty</th>\n",
       "      <th>mileage</th>\n",
       "      <th>gearbox</th>\n",
       "      <th>fuel_type</th>\n",
       "      <th>colour</th>\n",
       "      <th>paint</th>\n",
       "      <th>seller</th>\n",
       "      <th>seats</th>\n",
       "      <th>engine_size</th>\n",
       "      <th>gears</th>\n",
       "      <th>CO2_emissions</th>\n",
       "      <th>drivetrain</th>\n",
       "      <th>cylinders</th>\n",
       "      <th>fuel_consumption</th>\n",
       "      <th>comfort_convenience</th>\n",
       "      <th>entertainment_media</th>\n",
       "      <th>safety_security</th>\n",
       "      <th>extras</th>\n",
       "      <th>empty_weight</th>\n",
       "      <th>full_service_history</th>\n",
       "      <th>nonsmoker_vehicle</th>\n",
       "      <th>emission_class</th>\n",
       "      <th>emissions_sticker</th>\n",
       "      <th>upholstery</th>\n",
       "      <th>production_date</th>\n",
       "      <th>previous_owner</th>\n",
       "      <th>other_fuel_types</th>\n",
       "      <th>power_consumption</th>\n",
       "      <th>energy_efficiency_class</th>\n",
       "      <th>CO2_efficiency</th>\n",
       "      <th>fuel_consumption(WLTP)</th>\n",
       "      <th>taxi_or_rentalcar</th>\n",
       "      <th>electric_range(WLTP)</th>\n",
       "      <th>power_consumption(WLTP)</th>\n",
       "      <th>battery_ownership</th>\n",
       "      <th>power_hp</th>\n",
       "      <th>age</th>\n",
       "    </tr>\n",
       "  </thead>\n",
       "  <tbody>\n",
       "    <tr>\n",
       "      <th>0</th>\n",
       "      <td>Mercedes-Benz A 160</td>\n",
       "      <td>Mercedes-Benz</td>\n",
       "      <td>A 160</td>\n",
       "      <td>ES</td>\n",
       "      <td>16950.0</td>\n",
       "      <td>Compact</td>\n",
       "      <td>Used</td>\n",
       "      <td>5.0</td>\n",
       "      <td>Spain</td>\n",
       "      <td>Yes</td>\n",
       "      <td>120200.0</td>\n",
       "      <td>Manual</td>\n",
       "      <td>diesel</td>\n",
       "      <td>Black</td>\n",
       "      <td>Metallic</td>\n",
       "      <td>Dealer</td>\n",
       "      <td>5.0</td>\n",
       "      <td>1595.0</td>\n",
       "      <td>5.0</td>\n",
       "      <td>98.0</td>\n",
       "      <td>Front</td>\n",
       "      <td>4.0</td>\n",
       "      <td>NaN</td>\n",
       "      <td>NaN</td>\n",
       "      <td>NaN</td>\n",
       "      <td>NaN</td>\n",
       "      <td>NaN</td>\n",
       "      <td>NaN</td>\n",
       "      <td>NaN</td>\n",
       "      <td>NaN</td>\n",
       "      <td>NaN</td>\n",
       "      <td>NaN</td>\n",
       "      <td>NaN</td>\n",
       "      <td>NaN</td>\n",
       "      <td>NaN</td>\n",
       "      <td>NaN</td>\n",
       "      <td>NaN</td>\n",
       "      <td>NaN</td>\n",
       "      <td>NaN</td>\n",
       "      <td>NaN</td>\n",
       "      <td>NaN</td>\n",
       "      <td>NaN</td>\n",
       "      <td>NaN</td>\n",
       "      <td>NaN</td>\n",
       "      <td>102.0</td>\n",
       "      <td>6.0</td>\n",
       "    </tr>\n",
       "    <tr>\n",
       "      <th>1</th>\n",
       "      <td>Mercedes-Benz EQE 350</td>\n",
       "      <td>Mercedes-Benz</td>\n",
       "      <td>EQE 350</td>\n",
       "      <td>ES</td>\n",
       "      <td>80900.0</td>\n",
       "      <td>Compact</td>\n",
       "      <td>Pre-registered</td>\n",
       "      <td>4.0</td>\n",
       "      <td>Spain</td>\n",
       "      <td>Yes</td>\n",
       "      <td>5000.0</td>\n",
       "      <td>Automatic</td>\n",
       "      <td>electric</td>\n",
       "      <td>Black</td>\n",
       "      <td>Nonmetallic</td>\n",
       "      <td>Dealer</td>\n",
       "      <td>5.0</td>\n",
       "      <td>1.0</td>\n",
       "      <td>9.0</td>\n",
       "      <td>0.0</td>\n",
       "      <td>4WD</td>\n",
       "      <td>4.0</td>\n",
       "      <td>NaN</td>\n",
       "      <td>NaN</td>\n",
       "      <td>NaN</td>\n",
       "      <td>NaN</td>\n",
       "      <td>NaN</td>\n",
       "      <td>NaN</td>\n",
       "      <td>NaN</td>\n",
       "      <td>NaN</td>\n",
       "      <td>NaN</td>\n",
       "      <td>NaN</td>\n",
       "      <td>NaN</td>\n",
       "      <td>NaN</td>\n",
       "      <td>NaN</td>\n",
       "      <td>NaN</td>\n",
       "      <td>NaN</td>\n",
       "      <td>NaN</td>\n",
       "      <td>NaN</td>\n",
       "      <td>NaN</td>\n",
       "      <td>NaN</td>\n",
       "      <td>NaN</td>\n",
       "      <td>NaN</td>\n",
       "      <td>NaN</td>\n",
       "      <td>292.0</td>\n",
       "      <td>0.0</td>\n",
       "    </tr>\n",
       "  </tbody>\n",
       "</table>\n",
       "</div>"
      ],
      "text/plain": [
       "              make_model           make      model location    price  \\\n",
       "0    Mercedes-Benz A 160  Mercedes-Benz     A 160        ES  16950.0   \n",
       "1  Mercedes-Benz EQE 350  Mercedes-Benz   EQE 350        ES  80900.0   \n",
       "\n",
       "  body_type             type  doors country_version warranty   mileage  \\\n",
       "0   Compact             Used    5.0           Spain      Yes  120200.0   \n",
       "1   Compact   Pre-registered    4.0           Spain      Yes    5000.0   \n",
       "\n",
       "     gearbox fuel_type colour        paint  seller  seats  engine_size  gears  \\\n",
       "0     Manual    diesel  Black     Metallic  Dealer    5.0       1595.0    5.0   \n",
       "1  Automatic  electric  Black  Nonmetallic  Dealer    5.0          1.0    9.0   \n",
       "\n",
       "   CO2_emissions drivetrain  cylinders  fuel_consumption comfort_convenience  \\\n",
       "0           98.0      Front        4.0               NaN                 NaN   \n",
       "1            0.0        4WD        4.0               NaN                 NaN   \n",
       "\n",
       "  entertainment_media safety_security extras  empty_weight  \\\n",
       "0                 NaN             NaN    NaN           NaN   \n",
       "1                 NaN             NaN    NaN           NaN   \n",
       "\n",
       "  full_service_history nonsmoker_vehicle emission_class  emissions_sticker  \\\n",
       "0                  NaN               NaN            NaN                NaN   \n",
       "1                  NaN               NaN            NaN                NaN   \n",
       "\n",
       "  upholstery  production_date  previous_owner other_fuel_types  \\\n",
       "0        NaN              NaN             NaN              NaN   \n",
       "1        NaN              NaN             NaN              NaN   \n",
       "\n",
       "   power_consumption energy_efficiency_class CO2_efficiency  \\\n",
       "0                NaN                     NaN            NaN   \n",
       "1                NaN                     NaN            NaN   \n",
       "\n",
       "   fuel_consumption(WLTP) taxi_or_rentalcar  electric_range(WLTP)  \\\n",
       "0                     NaN               NaN                   NaN   \n",
       "1                     NaN               NaN                   NaN   \n",
       "\n",
       "   power_consumption(WLTP) battery_ownership  power_hp  age  \n",
       "0                      NaN               NaN     102.0  6.0  \n",
       "1                      NaN               NaN     292.0  0.0  "
      ]
     },
     "execution_count": 81,
     "metadata": {},
     "output_type": "execute_result"
    }
   ],
   "source": [
    "df[df.fuel_consumption.isnull()].head(2)"
   ]
  },
  {
   "cell_type": "code",
   "execution_count": 82,
   "id": "c73b0fc8",
   "metadata": {},
   "outputs": [],
   "source": [
    "df['fuel_consumption'] = df['fuel_consumption'].fillna(df['fuel_consumption(WLTP)'])"
   ]
  },
  {
   "cell_type": "code",
   "execution_count": 83,
   "id": "794e4c05",
   "metadata": {},
   "outputs": [
    {
     "data": {
      "text/plain": [
       "5145"
      ]
     },
     "execution_count": 83,
     "metadata": {},
     "output_type": "execute_result"
    }
   ],
   "source": [
    "df.fuel_consumption.isnull().sum()"
   ]
  },
  {
   "cell_type": "code",
   "execution_count": 84,
   "id": "26111f87",
   "metadata": {},
   "outputs": [],
   "source": [
    "for group in list(df['make_model'].unique()):\n",
    "    cond = df['make_model'] == group\n",
    "    mode = list(df[cond]['fuel_consumption'].mode())\n",
    "    if mode != []:\n",
    "        df.loc[cond, 'fuel_consumption'] = df.loc[cond, 'fuel_consumption'].fillna(df[cond]['fuel_consumption'].mode()[0])\n",
    "    else:\n",
    "        df.loc[cond, 'fuel_consumption'] = df.loc[cond, 'fuel_consumption'].fillna(df['fuel_consumption'].mode()[0])"
   ]
  },
  {
   "cell_type": "markdown",
   "id": "97f10188",
   "metadata": {},
   "source": [
    "#### comfort_convenience"
   ]
  },
  {
   "cell_type": "code",
   "execution_count": 85,
   "id": "8e47757b",
   "metadata": {
    "scrolled": true
   },
   "outputs": [
    {
     "data": {
      "text/plain": [
       "3197"
      ]
     },
     "execution_count": 85,
     "metadata": {},
     "output_type": "execute_result"
    }
   ],
   "source": [
    "df.comfort_convenience.isnull().sum()"
   ]
  },
  {
   "cell_type": "code",
   "execution_count": 86,
   "id": "d5efe946",
   "metadata": {},
   "outputs": [],
   "source": [
    "for group in list(df['make_model'].unique()):\n",
    "    cond = df['make_model'] == group\n",
    "    mode = list(df[cond]['comfort_convenience'].mode())\n",
    "    if mode != []:\n",
    "        df.loc[cond, 'comfort_convenience'] = df.loc[cond, 'comfort_convenience'].fillna(df[cond]['comfort_convenience'].mode()[0])\n",
    "    else:\n",
    "        df.loc[cond, 'comfort_convenience'] = df.loc[cond, 'comfort_convenience'].fillna(df['comfort_convenience'].mode()[0])"
   ]
  },
  {
   "cell_type": "code",
   "execution_count": 87,
   "id": "d3132676",
   "metadata": {},
   "outputs": [
    {
     "data": {
      "text/plain": [
       "13456    ['Air conditioning, Armrest, Automatic climate...\n",
       "10578    ['Air conditioning, Power windows, Tinted wind...\n",
       "28844    ['Cruise control, Electric tailgate, Electrica...\n",
       "12213    ['Air conditioning, Electrical side mirrors, H...\n",
       "909                     ['Cruise control, Tinted windows']\n",
       "Name: comfort_convenience, dtype: object"
      ]
     },
     "execution_count": 87,
     "metadata": {},
     "output_type": "execute_result"
    }
   ],
   "source": [
    "df.comfort_convenience.sample(5)"
   ]
  },
  {
   "cell_type": "code",
   "execution_count": 88,
   "id": "c08df408",
   "metadata": {},
   "outputs": [],
   "source": [
    "base = [\n",
    "    \"Power windows\",\n",
    "    \"Air conditioning\",\n",
    "    \"Electrical side mirrors\"\n",
    "]\n",
    "\n",
    "standard = [\n",
    "    \"Multi-function steering wheel\",\n",
    "    \"Automatic climate control\",\n",
    "    \"Cruise control\",\n",
    "    \"Leather steering wheel\",\n",
    "    \"Parking assist system sensors rear\",\n",
    "    \"Rain sensor\",\n",
    "    \"Light sensor\",\n",
    "    \"Seat heating\",\n",
    "    \"Start-stop system\",\n",
    "    \"Armrest\"\n",
    "\n",
    "]\n",
    "\n",
    "mid_range = [\n",
    "    \"Parking assist system camera\",\n",
    "    \"Parking assist system sensors front\",\n",
    "    \"Lumbar support\",\n",
    "    \"Tinted windows\",\n",
    "    \"Keyless central door lock\",\n",
    "    \"Split rear seats\",\n",
    "    \"Electrically adjustable seats\",\n",
    "    \"2 zones\",\n",
    "    \"Heated steering wheel\",\n",
    "    \"Electric tailgate\",\n",
    "    \"Hill Holder\",\n",
    "    \"Navigation system\",\n",
    "    \"Parking assist system self-steering\"\n",
    "\n",
    "]\n",
    "\n",
    "top = [\n",
    "    \"Auxiliary heating\",\n",
    "    \"Heads-up display\",\n",
    "    \"360° camera\",\n",
    "    \"Seat ventilation\",\n",
    "    \"Air conditioning (dual-zone or multi-zone)\",\n",
    "    \"Fold flat passenger seat\",\n",
    "    \"Air suspension\",\n",
    "    \"Wind deflector\",\n",
    "    \"Massage seats\",\n",
    "    \"Electric backseat adjustment\",\n",
    "    \"3 zones\",\n",
    "    \"4 zones\",\n",
    "    \"Sliding door right\",\n",
    "    \"Sliding door left\",\n",
    "    \"Leather seats\",\n",
    "    \"Park Distance Control\",\n",
    "    \"Sunroof\",\n",
    "    \"Panorama roof\",\n",
    "    \"Electrically heated windshield\"\n",
    "]"
   ]
  },
  {
   "cell_type": "code",
   "execution_count": 89,
   "id": "202022e8",
   "metadata": {},
   "outputs": [],
   "source": [
    "def assign_car_class(equipment_features):\n",
    "    # Convert the string representation of list to an actual list\n",
    "    equipment_features = eval(equipment_features)\n",
    "    \n",
    "    if isinstance(equipment_features, list):\n",
    "        if any(feature in equipment_features for feature in top):\n",
    "            return \"Top\"\n",
    "        elif any(feature in equipment_features for feature in mid_range):\n",
    "            return \"Mid-range\"\n",
    "        elif any(feature in equipment_features for feature in standard):\n",
    "            return \"Standard\"\n",
    "    return \"Basic\""
   ]
  },
  {
   "cell_type": "code",
   "execution_count": 90,
   "id": "bc5c19bb",
   "metadata": {},
   "outputs": [],
   "source": [
    "df['comfort_convenience'] = df['comfort_convenience'].apply(assign_car_class)"
   ]
  },
  {
   "cell_type": "code",
   "execution_count": 91,
   "id": "6f86ee10",
   "metadata": {},
   "outputs": [
    {
     "data": {
      "text/plain": [
       "comfort_convenience\n",
       "Basic        28291\n",
       "Standard       197\n",
       "Mid-range      108\n",
       "Top             34\n",
       "Name: count, dtype: int64"
      ]
     },
     "execution_count": 91,
     "metadata": {},
     "output_type": "execute_result"
    }
   ],
   "source": [
    "df['comfort_convenience'].value_counts(dropna=False)"
   ]
  },
  {
   "cell_type": "markdown",
   "id": "a7d51f12",
   "metadata": {},
   "source": [
    "#### entertainment_media"
   ]
  },
  {
   "cell_type": "code",
   "execution_count": 92,
   "id": "bc020577",
   "metadata": {},
   "outputs": [
    {
     "data": {
      "text/plain": [
       "4986"
      ]
     },
     "execution_count": 92,
     "metadata": {},
     "output_type": "execute_result"
    }
   ],
   "source": [
    "df.entertainment_media.isnull().sum()"
   ]
  },
  {
   "cell_type": "code",
   "execution_count": 93,
   "id": "0e50d9f1",
   "metadata": {},
   "outputs": [],
   "source": [
    "for group in list(df['make_model'].unique()):\n",
    "    cond = df['make_model'] == group\n",
    "    mode = list(df[cond]['entertainment_media'].mode())\n",
    "    if mode != []:\n",
    "        df.loc[cond, 'entertainment_media'] = df.loc[cond, 'entertainment_media'].fillna(df[cond]['entertainment_media'].mode()[0])\n",
    "    else:\n",
    "        df.loc[cond, 'entertainment_media'] = df.loc[cond, 'entertainment_media'].fillna(df['entertainment_media'].mode()[0])"
   ]
  },
  {
   "cell_type": "code",
   "execution_count": 94,
   "id": "63678bfd",
   "metadata": {
    "scrolled": false
   },
   "outputs": [
    {
     "data": {
      "text/plain": [
       "entertainment_media\n",
       " Radio                                 19316\n",
       " On-board computer                     19030\n",
       " USB                                   16571\n",
       " Hands-free equipment                  14722\n",
       "Bluetooth                              12754\n",
       " MP3                                   10622\n",
       " Digital radio                          9468\n",
       " Bluetooth                              7885\n",
       "Android Auto                            7761\n",
       " Apple CarPlay                          7585\n",
       " Sound system                           7133\n",
       " CD player                              6110\n",
       " Digital cockpit                        3971\n",
       "CD player                               3645\n",
       " Integrated music streaming             3499\n",
       " WLAN / WiFi hotspot                    2369\n",
       " Induction charging for smartphones     2186\n",
       "On-board computer                       1751\n",
       "Radio                                    797\n",
       "Apple CarPlay                            441\n",
       "Hands-free equipment                     429\n",
       "Digital radio                            416\n",
       "MP3                                      253\n",
       "USB                                      200\n",
       " Television                              142\n",
       "Digital cockpit                          103\n",
       "Sound system                              67\n",
       "Integrated music streaming                 5\n",
       "Induction charging for smartphones         4\n",
       "WLAN / WiFi hotspot                        4\n",
       "Name: count, dtype: int64"
      ]
     },
     "execution_count": 94,
     "metadata": {},
     "output_type": "execute_result"
    }
   ],
   "source": [
    "df['entertainment_media'].apply(eval).str[0].str.split(',').explode().value_counts()"
   ]
  },
  {
   "cell_type": "code",
   "execution_count": 95,
   "id": "aff6aa59",
   "metadata": {},
   "outputs": [],
   "source": [
    "base = ['Radio',  'CD player']\n",
    "standard = ['On-board computer', 'Hands-free equipment', 'Bluetooth', 'Digital radio', 'USB', 'MP3']\n",
    "mid_range = ['Android Auto', 'Apple CarPlay', 'Sound system', 'Digital cockpit']\n",
    "top = ['Integrated music streaming', 'WLAN / WiFi hotspot', 'Induction charging for smartphones', 'Television']"
   ]
  },
  {
   "cell_type": "code",
   "execution_count": 96,
   "id": "ff4c60f8",
   "metadata": {},
   "outputs": [],
   "source": [
    "def assign_car_class(equipment_features):\n",
    "    # Convert the string representation of list to an actual list\n",
    "    equipment_features = eval(equipment_features)\n",
    "    \n",
    "    if isinstance(equipment_features, list):\n",
    "        if any(feature in equipment_features for feature in top):\n",
    "            return \"Top\"\n",
    "        elif any(feature in equipment_features for feature in mid_range):\n",
    "            return \"Mid-range\"\n",
    "    return \"Standard\""
   ]
  },
  {
   "cell_type": "code",
   "execution_count": 97,
   "id": "52851774",
   "metadata": {},
   "outputs": [],
   "source": [
    "df['entertainment_media'] = df['entertainment_media'].apply(assign_car_class)"
   ]
  },
  {
   "cell_type": "code",
   "execution_count": null,
   "id": "2014791d",
   "metadata": {},
   "outputs": [],
   "source": []
  },
  {
   "cell_type": "markdown",
   "id": "890b88bb",
   "metadata": {},
   "source": [
    "#### safety_security"
   ]
  },
  {
   "cell_type": "code",
   "execution_count": 98,
   "id": "8a74b15b",
   "metadata": {},
   "outputs": [
    {
     "data": {
      "text/plain": [
       "3215"
      ]
     },
     "execution_count": 98,
     "metadata": {},
     "output_type": "execute_result"
    }
   ],
   "source": [
    "df.safety_security.isnull().sum()"
   ]
  },
  {
   "cell_type": "code",
   "execution_count": 99,
   "id": "8d532a7f",
   "metadata": {},
   "outputs": [],
   "source": [
    "for group in list(df['make_model'].unique()):\n",
    "    cond = df['make_model'] == group\n",
    "    mode = list(df[cond]['safety_security'].mode())\n",
    "    if mode != []:\n",
    "        df.loc[cond, 'safety_security'] = df.loc[cond, 'safety_security'].fillna(df[cond]['safety_security'].mode()[0])\n",
    "    else:\n",
    "        df.loc[cond, 'safety_security'] = df.loc[cond, 'safety_security'].fillna(df['safety_security'].mode()[0])"
   ]
  },
  {
   "cell_type": "code",
   "execution_count": 100,
   "id": "56e9ecc2",
   "metadata": {},
   "outputs": [
    {
     "data": {
      "text/plain": [
       "safety_security\n",
       "ABS                                25934\n",
       " Power steering                    24154\n",
       " Driver-side airbag                23891\n",
       " Side airbag                       23209\n",
       " Passenger-side airbag             22857\n",
       "                                   ...  \n",
       "Passenger-side airbag                  3\n",
       "Xenon headlights                       2\n",
       "Tire pressure monitoring system        2\n",
       "Lane departure warning system          1\n",
       "High beam assist                       1\n",
       "Name: count, Length: 66, dtype: int64"
      ]
     },
     "execution_count": 100,
     "metadata": {},
     "output_type": "execute_result"
    }
   ],
   "source": [
    "df['safety_security'].apply(eval).str[0].str.split(',').explode().value_counts()"
   ]
  },
  {
   "cell_type": "code",
   "execution_count": 101,
   "id": "d1f4ea34",
   "metadata": {
    "scrolled": true
   },
   "outputs": [],
   "source": [
    "def count_unique(lst):\n",
    "    return len(set(lst))"
   ]
  },
  {
   "cell_type": "code",
   "execution_count": 102,
   "id": "efa30160",
   "metadata": {},
   "outputs": [],
   "source": [
    "df['safety_security'] = df['safety_security'].apply(lambda x: count_unique(x.split(','))).astype(float)"
   ]
  },
  {
   "cell_type": "markdown",
   "id": "79a2b51a",
   "metadata": {},
   "source": [
    "#### extras"
   ]
  },
  {
   "cell_type": "code",
   "execution_count": 103,
   "id": "145b5d6f",
   "metadata": {
    "scrolled": true
   },
   "outputs": [
    {
     "data": {
      "text/plain": [
       "5150"
      ]
     },
     "execution_count": 103,
     "metadata": {},
     "output_type": "execute_result"
    }
   ],
   "source": [
    "df.extras.isnull().sum()"
   ]
  },
  {
   "cell_type": "code",
   "execution_count": 104,
   "id": "1ccfba5b",
   "metadata": {},
   "outputs": [],
   "source": [
    "for group in list(df['make_model'].unique()):\n",
    "    cond = df['make_model'] == group\n",
    "    mode = list(df[cond]['extras'].mode())\n",
    "    if mode != []:\n",
    "        df.loc[cond, 'extras'] = df.loc[cond, 'extras'].fillna(df[cond]['extras'].mode()[0])\n",
    "    else:\n",
    "        df.loc[cond, 'extras'] = df.loc[cond, 'extras'].fillna(df['extras'].mode()[0])"
   ]
  },
  {
   "cell_type": "code",
   "execution_count": 105,
   "id": "050464b1",
   "metadata": {},
   "outputs": [
    {
     "data": {
      "text/plain": [
       "24237    ['Alloy wheels, Automatically dimming interior...\n",
       "Name: extras, dtype: object"
      ]
     },
     "execution_count": 105,
     "metadata": {},
     "output_type": "execute_result"
    }
   ],
   "source": [
    "df['extras'].sample(1)"
   ]
  },
  {
   "cell_type": "code",
   "execution_count": 106,
   "id": "cd18f4b7",
   "metadata": {},
   "outputs": [],
   "source": [
    "df['extras'] = df['extras'].apply(lambda x: len(x.split(',')) if x != 'nan' else 0).astype(float)"
   ]
  },
  {
   "cell_type": "code",
   "execution_count": 107,
   "id": "32d939fa",
   "metadata": {},
   "outputs": [
    {
     "data": {
      "text/plain": [
       "extras\n",
       "1.0     8983\n",
       "2.0     3465\n",
       "3.0     3010\n",
       "4.0     2472\n",
       "5.0     2127\n",
       "6.0     1629\n",
       "7.0     1522\n",
       "8.0     1157\n",
       "9.0     1057\n",
       "10.0     884\n",
       "11.0     672\n",
       "12.0     568\n",
       "13.0     390\n",
       "14.0     275\n",
       "15.0     211\n",
       "16.0     110\n",
       "17.0      56\n",
       "18.0      27\n",
       "19.0      10\n",
       "20.0       3\n",
       "26.0       2\n",
       "Name: count, dtype: int64"
      ]
     },
     "execution_count": 107,
     "metadata": {},
     "output_type": "execute_result"
    }
   ],
   "source": [
    "df['extras'].value_counts(dropna=False)"
   ]
  },
  {
   "cell_type": "markdown",
   "id": "ef977467",
   "metadata": {},
   "source": [
    "#### empty_weight"
   ]
  },
  {
   "cell_type": "code",
   "execution_count": 108,
   "id": "5dfbe067",
   "metadata": {
    "scrolled": true
   },
   "outputs": [
    {
     "data": {
      "text/plain": [
       "10872"
      ]
     },
     "execution_count": 108,
     "metadata": {},
     "output_type": "execute_result"
    }
   ],
   "source": [
    "df.empty_weight.isnull().sum()"
   ]
  },
  {
   "cell_type": "code",
   "execution_count": 109,
   "id": "79b66631",
   "metadata": {},
   "outputs": [],
   "source": [
    "for group in list(df['make_model'].unique()):\n",
    "    cond = df['make_model'] == group\n",
    "    mode = list(df[cond]['empty_weight'].mode())\n",
    "    if mode != []:\n",
    "        df.loc[cond, 'empty_weight'] = df.loc[cond, 'empty_weight'].fillna(df[cond]['empty_weight'].mode()[0])\n",
    "    else:\n",
    "        df.loc[cond, 'empty_weight'] = df.loc[cond, 'empty_weight'].fillna(df['empty_weight'].mode()[0])"
   ]
  },
  {
   "cell_type": "markdown",
   "id": "92566537",
   "metadata": {},
   "source": [
    "#### full_service_history"
   ]
  },
  {
   "cell_type": "code",
   "execution_count": 110,
   "id": "5f8f760c",
   "metadata": {
    "scrolled": true
   },
   "outputs": [
    {
     "data": {
      "text/plain": [
       "16065"
      ]
     },
     "execution_count": 110,
     "metadata": {},
     "output_type": "execute_result"
    }
   ],
   "source": [
    "df.full_service_history.isnull().sum()"
   ]
  },
  {
   "cell_type": "code",
   "execution_count": 111,
   "id": "04c26f18",
   "metadata": {},
   "outputs": [],
   "source": [
    "df.full_service_history.fillna('No', inplace=True)"
   ]
  },
  {
   "cell_type": "markdown",
   "id": "282c502a",
   "metadata": {},
   "source": [
    "#### nonsmoker_vehicle"
   ]
  },
  {
   "cell_type": "code",
   "execution_count": 112,
   "id": "6619e51a",
   "metadata": {},
   "outputs": [
    {
     "data": {
      "text/plain": [
       "17036"
      ]
     },
     "execution_count": 112,
     "metadata": {},
     "output_type": "execute_result"
    }
   ],
   "source": [
    "df.nonsmoker_vehicle.isnull().sum()"
   ]
  },
  {
   "cell_type": "code",
   "execution_count": 113,
   "id": "4d662015",
   "metadata": {},
   "outputs": [],
   "source": [
    "df.nonsmoker_vehicle.fillna('No', inplace=True)"
   ]
  },
  {
   "cell_type": "markdown",
   "id": "d6193b47",
   "metadata": {},
   "source": [
    "#### emission_class\n",
    "Categorize Euro 6, Euro 6d-TEMP, Euro 6d, Euro 6c  as 6"
   ]
  },
  {
   "cell_type": "code",
   "execution_count": 114,
   "id": "7df11087",
   "metadata": {
    "scrolled": true
   },
   "outputs": [
    {
     "data": {
      "text/plain": [
       "10771"
      ]
     },
     "execution_count": 114,
     "metadata": {},
     "output_type": "execute_result"
    }
   ],
   "source": [
    "df.emission_class.isnull().sum()"
   ]
  },
  {
   "cell_type": "code",
   "execution_count": 115,
   "id": "95118323",
   "metadata": {},
   "outputs": [],
   "source": [
    "for group in list(df['make_model'].unique()):\n",
    "    cond = df['make_model'] == group\n",
    "    mode = list(df[cond]['emission_class'].mode())\n",
    "    if mode != []:\n",
    "        df.loc[cond, 'emission_class'] = df.loc[cond, 'emission_class'].fillna(df[cond]['emission_class'].mode()[0])\n",
    "    else:\n",
    "        df.loc[cond, 'emission_class'] = df.loc[cond, 'emission_class'].fillna(df['emission_class'].mode()[0])"
   ]
  },
  {
   "cell_type": "code",
   "execution_count": 116,
   "id": "2401782a",
   "metadata": {},
   "outputs": [
    {
     "data": {
      "text/plain": [
       "emission_class\n",
       "6.0    21514\n",
       "5.0     3002\n",
       "4.0     2565\n",
       "3.0      763\n",
       "2.0      405\n",
       "1.0      381\n",
       "Name: count, dtype: int64"
      ]
     },
     "execution_count": 116,
     "metadata": {},
     "output_type": "execute_result"
    }
   ],
   "source": [
    "df['emission_class']= df['emission_class'].str.extract('(\\d)').astype(float)\n",
    "df['emission_class'].value_counts(dropna=False)"
   ]
  },
  {
   "cell_type": "raw",
   "id": "fcd342d5",
   "metadata": {},
   "source": [
    "def emission(x):\n",
    "    if x in ['1','2']:\n",
    "        return 'high pollutant'\n",
    "    elif x in ['3','4']:\n",
    "        return 'medium pollutant'\n",
    "    elif x in ['5','6']:\n",
    "        return 'low pollutant'"
   ]
  },
  {
   "cell_type": "raw",
   "id": "e00dfbe4",
   "metadata": {},
   "source": [
    "df['emission_class'] = df['emission_class'].apply(emission)"
   ]
  },
  {
   "cell_type": "markdown",
   "id": "d84e7f6e",
   "metadata": {},
   "source": [
    "#### emissions_sticker\n",
    "* 4 (Green)          \n",
    "* 1 (No sticker)      \n",
    "* 3 (Yellow)            \n",
    "* 2 (Red) "
   ]
  },
  {
   "cell_type": "code",
   "execution_count": 117,
   "id": "638a7d1d",
   "metadata": {},
   "outputs": [
    {
     "data": {
      "text/plain": [
       "19216"
      ]
     },
     "execution_count": 117,
     "metadata": {},
     "output_type": "execute_result"
    }
   ],
   "source": [
    "df.emissions_sticker.isnull().sum()"
   ]
  },
  {
   "cell_type": "code",
   "execution_count": 118,
   "id": "9cbcb76b",
   "metadata": {},
   "outputs": [],
   "source": [
    "df.drop('emissions_sticker', axis=1, inplace=True)"
   ]
  },
  {
   "cell_type": "markdown",
   "id": "89fa865c",
   "metadata": {},
   "source": [
    "#### upholstery"
   ]
  },
  {
   "cell_type": "code",
   "execution_count": 119,
   "id": "58e7ca19",
   "metadata": {},
   "outputs": [
    {
     "data": {
      "text/plain": [
       "10020"
      ]
     },
     "execution_count": 119,
     "metadata": {},
     "output_type": "execute_result"
    }
   ],
   "source": [
    "df.upholstery.isnull().sum()"
   ]
  },
  {
   "cell_type": "code",
   "execution_count": 120,
   "id": "2c894170",
   "metadata": {},
   "outputs": [],
   "source": [
    "for group in list(df['make_model'].unique()):\n",
    "    cond = df['make_model'] == group\n",
    "    mode = list(df[cond]['upholstery'].mode())\n",
    "    if mode != []:\n",
    "        df.loc[cond, 'upholstery'] = df.loc[cond, 'upholstery'].fillna(df[cond]['upholstery'].mode()[0])\n",
    "    else:\n",
    "        df.loc[cond, 'upholstery'] = df.loc[cond, 'upholstery'].fillna(df['upholstery'].mode()[0])"
   ]
  },
  {
   "cell_type": "code",
   "execution_count": null,
   "id": "5cb27bec",
   "metadata": {},
   "outputs": [],
   "source": []
  },
  {
   "cell_type": "markdown",
   "id": "f6458bdc",
   "metadata": {},
   "source": [
    "#### production_date"
   ]
  },
  {
   "cell_type": "code",
   "execution_count": 121,
   "id": "7dc1bf21",
   "metadata": {},
   "outputs": [
    {
     "data": {
      "text/plain": [
       "22722"
      ]
     },
     "execution_count": 121,
     "metadata": {},
     "output_type": "execute_result"
    }
   ],
   "source": [
    "df.production_date.isnull().sum()"
   ]
  },
  {
   "cell_type": "code",
   "execution_count": 122,
   "id": "8a38b7e4",
   "metadata": {},
   "outputs": [],
   "source": [
    "df.drop('production_date', axis=1, inplace=True)"
   ]
  },
  {
   "cell_type": "markdown",
   "id": "d18efd74",
   "metadata": {},
   "source": [
    "#### previous_owner\n",
    "tarihlere bak nan 0 yapilabilir\n"
   ]
  },
  {
   "cell_type": "code",
   "execution_count": 123,
   "id": "38299e53",
   "metadata": {},
   "outputs": [
    {
     "data": {
      "text/plain": [
       "14615"
      ]
     },
     "execution_count": 123,
     "metadata": {},
     "output_type": "execute_result"
    }
   ],
   "source": [
    "df.previous_owner.isnull().sum()"
   ]
  },
  {
   "cell_type": "code",
   "execution_count": 124,
   "id": "bc8ba4da",
   "metadata": {},
   "outputs": [],
   "source": [
    "for group in list(df['age'].unique()):\n",
    "    cond = df['age']==group\n",
    "    df.loc[cond,'previous_owner'] = df.loc[cond, 'previous_owner'].fillna(method='ffill').fillna(method='bfill')\n",
    "df['previous_owner'] = df['previous_owner'].fillna(method='ffill').fillna(method='bfill')"
   ]
  },
  {
   "cell_type": "markdown",
   "id": "7ee3f7d7",
   "metadata": {},
   "source": [
    "#### other_fuel_types\n",
    "fuel_type ile karsilastir oradan doldur"
   ]
  },
  {
   "cell_type": "code",
   "execution_count": 125,
   "id": "3e90003d",
   "metadata": {},
   "outputs": [
    {
     "data": {
      "text/plain": [
       "26317"
      ]
     },
     "execution_count": 125,
     "metadata": {},
     "output_type": "execute_result"
    }
   ],
   "source": [
    "df.other_fuel_types.isnull().sum()"
   ]
  },
  {
   "cell_type": "code",
   "execution_count": 126,
   "id": "578df01d",
   "metadata": {
    "scrolled": true
   },
   "outputs": [
    {
     "data": {
      "text/plain": [
       "other_fuel_types\n",
       "NaN             26317\n",
       "Electricity      2301\n",
       "Hydogen            11\n",
       "Super E10 95        1\n",
       "Name: count, dtype: int64"
      ]
     },
     "execution_count": 126,
     "metadata": {},
     "output_type": "execute_result"
    }
   ],
   "source": [
    "df.other_fuel_types.value_counts(dropna=False)"
   ]
  },
  {
   "cell_type": "code",
   "execution_count": 127,
   "id": "30f4103c",
   "metadata": {},
   "outputs": [],
   "source": [
    "df.drop('other_fuel_types', axis=1, inplace=True)"
   ]
  },
  {
   "cell_type": "markdown",
   "id": "696c9fa8",
   "metadata": {},
   "source": [
    "#### power_consumption\n",
    "Cok nan var elimine edilebilinir"
   ]
  },
  {
   "cell_type": "code",
   "execution_count": 128,
   "id": "cc19ecf4",
   "metadata": {
    "scrolled": true
   },
   "outputs": [
    {
     "data": {
      "text/plain": [
       "28115"
      ]
     },
     "execution_count": 128,
     "metadata": {},
     "output_type": "execute_result"
    }
   ],
   "source": [
    "df.power_consumption.isnull().sum()"
   ]
  },
  {
   "cell_type": "code",
   "execution_count": 129,
   "id": "81ed9141",
   "metadata": {
    "scrolled": true
   },
   "outputs": [
    {
     "data": {
      "text/plain": [
       "power_consumption\n",
       "0.0     101\n",
       "15.2     30\n",
       "15.7     19\n",
       "17.7     17\n",
       "15.9     14\n",
       "       ... \n",
       "12.9      1\n",
       "0.1       1\n",
       "23.0      1\n",
       "3.9       1\n",
       "18.3      1\n",
       "Name: count, Length: 104, dtype: int64"
      ]
     },
     "execution_count": 129,
     "metadata": {},
     "output_type": "execute_result"
    }
   ],
   "source": [
    "df.power_consumption.value_counts()"
   ]
  },
  {
   "cell_type": "code",
   "execution_count": 130,
   "id": "bc552433",
   "metadata": {},
   "outputs": [],
   "source": [
    "df.drop('power_consumption', axis=1, inplace=True)"
   ]
  },
  {
   "cell_type": "markdown",
   "id": "6405fa65",
   "metadata": {},
   "source": [
    "####  energy_efficiency_class\n",
    "efficient unefficient"
   ]
  },
  {
   "cell_type": "code",
   "execution_count": 131,
   "id": "98c2d171",
   "metadata": {},
   "outputs": [
    {
     "data": {
      "text/plain": [
       "20826"
      ]
     },
     "execution_count": 131,
     "metadata": {},
     "output_type": "execute_result"
    }
   ],
   "source": [
    "df.energy_efficiency_class.isnull().sum()"
   ]
  },
  {
   "cell_type": "code",
   "execution_count": 132,
   "id": "623c78db",
   "metadata": {
    "scrolled": false
   },
   "outputs": [
    {
     "data": {
      "text/plain": [
       "energy_efficiency_class\n",
       "B       2090\n",
       "A       1687\n",
       "C       1133\n",
       "A+      1089\n",
       "D        636\n",
       "A+++     375\n",
       "G        309\n",
       "E        271\n",
       "F        147\n",
       "A++       67\n",
       "Name: count, dtype: int64"
      ]
     },
     "execution_count": 132,
     "metadata": {},
     "output_type": "execute_result"
    }
   ],
   "source": [
    "df.energy_efficiency_class.value_counts()"
   ]
  },
  {
   "cell_type": "code",
   "execution_count": 133,
   "id": "dde38489",
   "metadata": {},
   "outputs": [],
   "source": [
    "for group in list(df['make_model'].unique()):\n",
    "    cond = df['make_model'] == group\n",
    "    mode = list(df[cond]['energy_efficiency_class'].mode())\n",
    "    if mode != []:\n",
    "        df.loc[cond, 'energy_efficiency_class'] = df.loc[cond, 'energy_efficiency_class'].fillna(df[cond]['energy_efficiency_class'].mode()[0])\n",
    "    else:\n",
    "        df.loc[cond, 'energy_efficiency_class'] = df.loc[cond, 'energy_efficiency_class'].fillna(df['energy_efficiency_class'].mode()[0])"
   ]
  },
  {
   "cell_type": "code",
   "execution_count": 134,
   "id": "3e6288f5",
   "metadata": {
    "scrolled": true
   },
   "outputs": [
    {
     "data": {
      "text/plain": [
       "energy_efficiency_class\n",
       "B       9960\n",
       "A       5769\n",
       "C       4325\n",
       "A+      2874\n",
       "D       1904\n",
       "G       1349\n",
       "E        935\n",
       "A+++     867\n",
       "F        370\n",
       "A++      277\n",
       "Name: count, dtype: int64"
      ]
     },
     "execution_count": 134,
     "metadata": {},
     "output_type": "execute_result"
    }
   ],
   "source": [
    "df.energy_efficiency_class.value_counts(dropna=False)"
   ]
  },
  {
   "cell_type": "code",
   "execution_count": 135,
   "id": "53f880d4",
   "metadata": {},
   "outputs": [],
   "source": [
    "def categorize_energy_efficiency(energy_class):\n",
    "    if energy_class in ['A', 'A+', 'A+++', 'A++','B']:\n",
    "        return 'high_efficiency'\n",
    "    else:\n",
    "        return 'low_efficiency'"
   ]
  },
  {
   "cell_type": "code",
   "execution_count": 136,
   "id": "c17c5226",
   "metadata": {},
   "outputs": [],
   "source": [
    "df['energy_efficiency_class'] = df['energy_efficiency_class'].apply(categorize_energy_efficiency)"
   ]
  },
  {
   "cell_type": "markdown",
   "id": "ac379195",
   "metadata": {},
   "source": [
    "#### CO2_efficiency\n",
    "null olana no atanabilir"
   ]
  },
  {
   "cell_type": "code",
   "execution_count": 137,
   "id": "4439f2e4",
   "metadata": {},
   "outputs": [
    {
     "data": {
      "text/plain": [
       "20826"
      ]
     },
     "execution_count": 137,
     "metadata": {},
     "output_type": "execute_result"
    }
   ],
   "source": [
    "df['CO2_efficiency'].isnull().sum()"
   ]
  },
  {
   "cell_type": "code",
   "execution_count": 138,
   "id": "673284a2",
   "metadata": {
    "scrolled": true
   },
   "outputs": [
    {
     "data": {
      "text/plain": [
       "CO2_efficiency\n",
       "Calculated on basis of measured CO₂-emissions taking into account the mass of the vehicle.    7804\n",
       "Name: count, dtype: int64"
      ]
     },
     "execution_count": 138,
     "metadata": {},
     "output_type": "execute_result"
    }
   ],
   "source": [
    "df['CO2_efficiency'].value_counts()"
   ]
  },
  {
   "cell_type": "code",
   "execution_count": 139,
   "id": "c14b3c28",
   "metadata": {},
   "outputs": [],
   "source": [
    "df.drop('CO2_efficiency', axis=1, inplace=True)"
   ]
  },
  {
   "cell_type": "markdown",
   "id": "857da7a1",
   "metadata": {},
   "source": [
    "#### fuel_consumption(WLTP)\n",
    "Direk sil Hemen hemen hepsi Nan\n",
    "Hydrogen icin bak"
   ]
  },
  {
   "cell_type": "code",
   "execution_count": 140,
   "id": "ab3b0f95",
   "metadata": {},
   "outputs": [
    {
     "data": {
      "text/plain": [
       "28530"
      ]
     },
     "execution_count": 140,
     "metadata": {},
     "output_type": "execute_result"
    }
   ],
   "source": [
    "df['fuel_consumption(WLTP)'].isnull().sum()"
   ]
  },
  {
   "cell_type": "code",
   "execution_count": 141,
   "id": "69728d14",
   "metadata": {},
   "outputs": [],
   "source": [
    "df.drop('fuel_consumption(WLTP)', axis=1, inplace=True)"
   ]
  },
  {
   "cell_type": "markdown",
   "id": "92f923e5",
   "metadata": {},
   "source": [
    "#### taxi_or_rentalcar\n",
    "Cogu nan\n",
    "null ise no"
   ]
  },
  {
   "cell_type": "code",
   "execution_count": 142,
   "id": "b36a164b",
   "metadata": {
    "scrolled": true
   },
   "outputs": [
    {
     "data": {
      "text/plain": [
       "28208"
      ]
     },
     "execution_count": 142,
     "metadata": {},
     "output_type": "execute_result"
    }
   ],
   "source": [
    "df.taxi_or_rentalcar.isnull().sum()"
   ]
  },
  {
   "cell_type": "code",
   "execution_count": 143,
   "id": "641205f9",
   "metadata": {},
   "outputs": [],
   "source": [
    "df.drop('taxi_or_rentalcar', axis=1, inplace=True)"
   ]
  },
  {
   "cell_type": "markdown",
   "id": "ec984c6c",
   "metadata": {},
   "source": [
    "#### electric_range(WLTP)\n",
    "elektrikli araclar icin"
   ]
  },
  {
   "cell_type": "code",
   "execution_count": 144,
   "id": "5ec79aec",
   "metadata": {},
   "outputs": [
    {
     "data": {
      "text/plain": [
       "28614"
      ]
     },
     "execution_count": 144,
     "metadata": {},
     "output_type": "execute_result"
    }
   ],
   "source": [
    "df['electric_range(WLTP)'].isnull().sum()"
   ]
  },
  {
   "cell_type": "code",
   "execution_count": 145,
   "id": "863178d3",
   "metadata": {},
   "outputs": [],
   "source": [
    "df.drop('electric_range(WLTP)', axis=1, inplace=True)"
   ]
  },
  {
   "cell_type": "markdown",
   "id": "44c0dd1f",
   "metadata": {},
   "source": [
    "#### power_consumption(WLTP)"
   ]
  },
  {
   "cell_type": "code",
   "execution_count": 146,
   "id": "650fd726",
   "metadata": {},
   "outputs": [
    {
     "data": {
      "text/plain": [
       "28614"
      ]
     },
     "execution_count": 146,
     "metadata": {},
     "output_type": "execute_result"
    }
   ],
   "source": [
    "df['power_consumption(WLTP)'].isnull().sum()"
   ]
  },
  {
   "cell_type": "code",
   "execution_count": 147,
   "id": "2f0c31fb",
   "metadata": {},
   "outputs": [],
   "source": [
    "df.drop('power_consumption(WLTP)', axis=1, inplace=True)"
   ]
  },
  {
   "cell_type": "markdown",
   "id": "94d52529",
   "metadata": {},
   "source": [
    "#### battery_ownership"
   ]
  },
  {
   "cell_type": "code",
   "execution_count": 148,
   "id": "acba41a8",
   "metadata": {
    "scrolled": true
   },
   "outputs": [
    {
     "data": {
      "text/plain": [
       "28623"
      ]
     },
     "execution_count": 148,
     "metadata": {},
     "output_type": "execute_result"
    }
   ],
   "source": [
    "df['battery_ownership'].isnull().sum()"
   ]
  },
  {
   "cell_type": "code",
   "execution_count": 149,
   "id": "3da375c2",
   "metadata": {},
   "outputs": [],
   "source": [
    "df.drop('battery_ownership', axis=1, inplace=True)"
   ]
  },
  {
   "cell_type": "code",
   "execution_count": 150,
   "id": "11c67f14",
   "metadata": {},
   "outputs": [
    {
     "data": {
      "text/html": [
       "<div>\n",
       "<style scoped>\n",
       "    .dataframe tbody tr th:only-of-type {\n",
       "        vertical-align: middle;\n",
       "    }\n",
       "\n",
       "    .dataframe tbody tr th {\n",
       "        vertical-align: top;\n",
       "    }\n",
       "\n",
       "    .dataframe thead th {\n",
       "        text-align: right;\n",
       "    }\n",
       "</style>\n",
       "<table border=\"1\" class=\"dataframe\">\n",
       "  <thead>\n",
       "    <tr style=\"text-align: right;\">\n",
       "      <th></th>\n",
       "      <th>make_model</th>\n",
       "      <th>make</th>\n",
       "      <th>model</th>\n",
       "      <th>location</th>\n",
       "      <th>price</th>\n",
       "      <th>body_type</th>\n",
       "      <th>type</th>\n",
       "      <th>doors</th>\n",
       "      <th>country_version</th>\n",
       "      <th>warranty</th>\n",
       "      <th>mileage</th>\n",
       "      <th>gearbox</th>\n",
       "      <th>fuel_type</th>\n",
       "      <th>colour</th>\n",
       "      <th>paint</th>\n",
       "      <th>seller</th>\n",
       "      <th>seats</th>\n",
       "      <th>engine_size</th>\n",
       "      <th>gears</th>\n",
       "      <th>CO2_emissions</th>\n",
       "      <th>drivetrain</th>\n",
       "      <th>cylinders</th>\n",
       "      <th>fuel_consumption</th>\n",
       "      <th>comfort_convenience</th>\n",
       "      <th>entertainment_media</th>\n",
       "      <th>safety_security</th>\n",
       "      <th>extras</th>\n",
       "      <th>empty_weight</th>\n",
       "      <th>full_service_history</th>\n",
       "      <th>nonsmoker_vehicle</th>\n",
       "      <th>emission_class</th>\n",
       "      <th>upholstery</th>\n",
       "      <th>previous_owner</th>\n",
       "      <th>energy_efficiency_class</th>\n",
       "      <th>power_hp</th>\n",
       "      <th>age</th>\n",
       "    </tr>\n",
       "  </thead>\n",
       "  <tbody>\n",
       "    <tr>\n",
       "      <th>0</th>\n",
       "      <td>Mercedes-Benz A 160</td>\n",
       "      <td>Mercedes-Benz</td>\n",
       "      <td>A 160</td>\n",
       "      <td>ES</td>\n",
       "      <td>16950.0</td>\n",
       "      <td>Compact</td>\n",
       "      <td>Used</td>\n",
       "      <td>5.0</td>\n",
       "      <td>Spain</td>\n",
       "      <td>Yes</td>\n",
       "      <td>120200.0</td>\n",
       "      <td>Manual</td>\n",
       "      <td>diesel</td>\n",
       "      <td>Black</td>\n",
       "      <td>Metallic</td>\n",
       "      <td>Dealer</td>\n",
       "      <td>5.0</td>\n",
       "      <td>1595.0</td>\n",
       "      <td>5.0</td>\n",
       "      <td>98.0</td>\n",
       "      <td>Front</td>\n",
       "      <td>4.0</td>\n",
       "      <td>5.4</td>\n",
       "      <td>Basic</td>\n",
       "      <td>Standard</td>\n",
       "      <td>18.0</td>\n",
       "      <td>1.0</td>\n",
       "      <td>1270.0</td>\n",
       "      <td>No</td>\n",
       "      <td>No</td>\n",
       "      <td>6.0</td>\n",
       "      <td>Cloth</td>\n",
       "      <td>2.0</td>\n",
       "      <td>high_efficiency</td>\n",
       "      <td>102.0</td>\n",
       "      <td>6.0</td>\n",
       "    </tr>\n",
       "    <tr>\n",
       "      <th>1</th>\n",
       "      <td>Mercedes-Benz EQE 350</td>\n",
       "      <td>Mercedes-Benz</td>\n",
       "      <td>EQE 350</td>\n",
       "      <td>ES</td>\n",
       "      <td>80900.0</td>\n",
       "      <td>Compact</td>\n",
       "      <td>Pre-registered</td>\n",
       "      <td>4.0</td>\n",
       "      <td>Spain</td>\n",
       "      <td>Yes</td>\n",
       "      <td>5000.0</td>\n",
       "      <td>Automatic</td>\n",
       "      <td>electric</td>\n",
       "      <td>Black</td>\n",
       "      <td>Nonmetallic</td>\n",
       "      <td>Dealer</td>\n",
       "      <td>5.0</td>\n",
       "      <td>1.0</td>\n",
       "      <td>9.0</td>\n",
       "      <td>0.0</td>\n",
       "      <td>4WD</td>\n",
       "      <td>4.0</td>\n",
       "      <td>5.0</td>\n",
       "      <td>Basic</td>\n",
       "      <td>Standard</td>\n",
       "      <td>24.0</td>\n",
       "      <td>6.0</td>\n",
       "      <td>2355.0</td>\n",
       "      <td>No</td>\n",
       "      <td>No</td>\n",
       "      <td>6.0</td>\n",
       "      <td>Full leather</td>\n",
       "      <td>1.0</td>\n",
       "      <td>high_efficiency</td>\n",
       "      <td>292.0</td>\n",
       "      <td>0.0</td>\n",
       "    </tr>\n",
       "    <tr>\n",
       "      <th>2</th>\n",
       "      <td>Mercedes-Benz A 45 AMG</td>\n",
       "      <td>Mercedes-Benz</td>\n",
       "      <td>A 45 AMG</td>\n",
       "      <td>ES</td>\n",
       "      <td>69900.0</td>\n",
       "      <td>Compact</td>\n",
       "      <td>Used</td>\n",
       "      <td>5.0</td>\n",
       "      <td>Spain</td>\n",
       "      <td>Yes</td>\n",
       "      <td>18900.0</td>\n",
       "      <td>Automatic</td>\n",
       "      <td>benzine</td>\n",
       "      <td>Grey</td>\n",
       "      <td>Nonmetallic</td>\n",
       "      <td>Dealer</td>\n",
       "      <td>5.0</td>\n",
       "      <td>1991.0</td>\n",
       "      <td>8.0</td>\n",
       "      <td>162.0</td>\n",
       "      <td>4WD</td>\n",
       "      <td>4.0</td>\n",
       "      <td>8.4</td>\n",
       "      <td>Basic</td>\n",
       "      <td>Standard</td>\n",
       "      <td>6.0</td>\n",
       "      <td>1.0</td>\n",
       "      <td>1555.0</td>\n",
       "      <td>No</td>\n",
       "      <td>No</td>\n",
       "      <td>6.0</td>\n",
       "      <td>Full leather</td>\n",
       "      <td>2.0</td>\n",
       "      <td>low_efficiency</td>\n",
       "      <td>421.0</td>\n",
       "      <td>2.0</td>\n",
       "    </tr>\n",
       "    <tr>\n",
       "      <th>3</th>\n",
       "      <td>Mercedes-Benz A 35 AMG</td>\n",
       "      <td>Mercedes-Benz</td>\n",
       "      <td>A 35 AMG</td>\n",
       "      <td>ES</td>\n",
       "      <td>46990.0</td>\n",
       "      <td>Compact</td>\n",
       "      <td>Used</td>\n",
       "      <td>5.0</td>\n",
       "      <td>Spain</td>\n",
       "      <td>Yes</td>\n",
       "      <td>18995.0</td>\n",
       "      <td>Automatic</td>\n",
       "      <td>benzine</td>\n",
       "      <td>Yellow</td>\n",
       "      <td>Nonmetallic</td>\n",
       "      <td>Dealer</td>\n",
       "      <td>5.0</td>\n",
       "      <td>1991.0</td>\n",
       "      <td>7.0</td>\n",
       "      <td>169.0</td>\n",
       "      <td>4WD</td>\n",
       "      <td>4.0</td>\n",
       "      <td>7.3</td>\n",
       "      <td>Basic</td>\n",
       "      <td>Standard</td>\n",
       "      <td>5.0</td>\n",
       "      <td>1.0</td>\n",
       "      <td>1455.0</td>\n",
       "      <td>No</td>\n",
       "      <td>No</td>\n",
       "      <td>6.0</td>\n",
       "      <td>Full leather</td>\n",
       "      <td>2.0</td>\n",
       "      <td>low_efficiency</td>\n",
       "      <td>306.0</td>\n",
       "      <td>2.0</td>\n",
       "    </tr>\n",
       "    <tr>\n",
       "      <th>4</th>\n",
       "      <td>Mercedes-Benz A 45 AMG</td>\n",
       "      <td>Mercedes-Benz</td>\n",
       "      <td>A 45 AMG</td>\n",
       "      <td>ES</td>\n",
       "      <td>16800.0</td>\n",
       "      <td>Compact</td>\n",
       "      <td>Used</td>\n",
       "      <td>5.0</td>\n",
       "      <td>Spain</td>\n",
       "      <td>Yes</td>\n",
       "      <td>197000.0</td>\n",
       "      <td>Automatic</td>\n",
       "      <td>diesel</td>\n",
       "      <td>White</td>\n",
       "      <td>Metallic</td>\n",
       "      <td>Dealer</td>\n",
       "      <td>5.0</td>\n",
       "      <td>2143.0</td>\n",
       "      <td>7.0</td>\n",
       "      <td>162.0</td>\n",
       "      <td>4WD</td>\n",
       "      <td>4.0</td>\n",
       "      <td>4.9</td>\n",
       "      <td>Basic</td>\n",
       "      <td>Standard</td>\n",
       "      <td>6.0</td>\n",
       "      <td>1.0</td>\n",
       "      <td>1545.0</td>\n",
       "      <td>No</td>\n",
       "      <td>No</td>\n",
       "      <td>6.0</td>\n",
       "      <td>Full leather</td>\n",
       "      <td>2.0</td>\n",
       "      <td>low_efficiency</td>\n",
       "      <td>136.0</td>\n",
       "      <td>7.0</td>\n",
       "    </tr>\n",
       "    <tr>\n",
       "      <th>...</th>\n",
       "      <td>...</td>\n",
       "      <td>...</td>\n",
       "      <td>...</td>\n",
       "      <td>...</td>\n",
       "      <td>...</td>\n",
       "      <td>...</td>\n",
       "      <td>...</td>\n",
       "      <td>...</td>\n",
       "      <td>...</td>\n",
       "      <td>...</td>\n",
       "      <td>...</td>\n",
       "      <td>...</td>\n",
       "      <td>...</td>\n",
       "      <td>...</td>\n",
       "      <td>...</td>\n",
       "      <td>...</td>\n",
       "      <td>...</td>\n",
       "      <td>...</td>\n",
       "      <td>...</td>\n",
       "      <td>...</td>\n",
       "      <td>...</td>\n",
       "      <td>...</td>\n",
       "      <td>...</td>\n",
       "      <td>...</td>\n",
       "      <td>...</td>\n",
       "      <td>...</td>\n",
       "      <td>...</td>\n",
       "      <td>...</td>\n",
       "      <td>...</td>\n",
       "      <td>...</td>\n",
       "      <td>...</td>\n",
       "      <td>...</td>\n",
       "      <td>...</td>\n",
       "      <td>...</td>\n",
       "      <td>...</td>\n",
       "      <td>...</td>\n",
       "    </tr>\n",
       "    <tr>\n",
       "      <th>29474</th>\n",
       "      <td>Volvo S90</td>\n",
       "      <td>Volvo</td>\n",
       "      <td>S90</td>\n",
       "      <td>ES</td>\n",
       "      <td>37600.0</td>\n",
       "      <td>Sedan</td>\n",
       "      <td>Used</td>\n",
       "      <td>4.0</td>\n",
       "      <td>Spain</td>\n",
       "      <td>Yes</td>\n",
       "      <td>40345.0</td>\n",
       "      <td>Automatic</td>\n",
       "      <td>electric</td>\n",
       "      <td>Black</td>\n",
       "      <td>Nonmetallic</td>\n",
       "      <td>Dealer</td>\n",
       "      <td>4.0</td>\n",
       "      <td>1969.0</td>\n",
       "      <td>8.0</td>\n",
       "      <td>46.0</td>\n",
       "      <td>4WD</td>\n",
       "      <td>4.0</td>\n",
       "      <td>2.0</td>\n",
       "      <td>Basic</td>\n",
       "      <td>Standard</td>\n",
       "      <td>8.0</td>\n",
       "      <td>1.0</td>\n",
       "      <td>2077.0</td>\n",
       "      <td>No</td>\n",
       "      <td>No</td>\n",
       "      <td>6.0</td>\n",
       "      <td>Full leather</td>\n",
       "      <td>2.0</td>\n",
       "      <td>high_efficiency</td>\n",
       "      <td>392.0</td>\n",
       "      <td>3.0</td>\n",
       "    </tr>\n",
       "    <tr>\n",
       "      <th>29475</th>\n",
       "      <td>Volvo S40</td>\n",
       "      <td>Volvo</td>\n",
       "      <td>S40</td>\n",
       "      <td>NL</td>\n",
       "      <td>5499.0</td>\n",
       "      <td>Sedan</td>\n",
       "      <td>Used</td>\n",
       "      <td>4.0</td>\n",
       "      <td>Spain</td>\n",
       "      <td>No</td>\n",
       "      <td>145000.0</td>\n",
       "      <td>Automatic</td>\n",
       "      <td>benzine</td>\n",
       "      <td>Grey</td>\n",
       "      <td>Nonmetallic</td>\n",
       "      <td>Dealer</td>\n",
       "      <td>5.0</td>\n",
       "      <td>2435.0</td>\n",
       "      <td>5.0</td>\n",
       "      <td>217.0</td>\n",
       "      <td>Front</td>\n",
       "      <td>5.0</td>\n",
       "      <td>9.1</td>\n",
       "      <td>Basic</td>\n",
       "      <td>Standard</td>\n",
       "      <td>10.0</td>\n",
       "      <td>2.0</td>\n",
       "      <td>1357.0</td>\n",
       "      <td>Yes</td>\n",
       "      <td>No</td>\n",
       "      <td>4.0</td>\n",
       "      <td>Cloth</td>\n",
       "      <td>3.0</td>\n",
       "      <td>high_efficiency</td>\n",
       "      <td>170.0</td>\n",
       "      <td>18.0</td>\n",
       "    </tr>\n",
       "    <tr>\n",
       "      <th>29476</th>\n",
       "      <td>Volvo C30</td>\n",
       "      <td>Volvo</td>\n",
       "      <td>C30</td>\n",
       "      <td>BE</td>\n",
       "      <td>7300.0</td>\n",
       "      <td>Sedan</td>\n",
       "      <td>Used</td>\n",
       "      <td>3.0</td>\n",
       "      <td>Belgium</td>\n",
       "      <td>Yes</td>\n",
       "      <td>96000.0</td>\n",
       "      <td>Manual</td>\n",
       "      <td>diesel</td>\n",
       "      <td>Grey</td>\n",
       "      <td>Metallic</td>\n",
       "      <td>Dealer</td>\n",
       "      <td>4.0</td>\n",
       "      <td>1560.0</td>\n",
       "      <td>6.0</td>\n",
       "      <td>99.0</td>\n",
       "      <td>Front</td>\n",
       "      <td>4.0</td>\n",
       "      <td>3.8</td>\n",
       "      <td>Basic</td>\n",
       "      <td>Standard</td>\n",
       "      <td>15.0</td>\n",
       "      <td>3.0</td>\n",
       "      <td>1356.0</td>\n",
       "      <td>Yes</td>\n",
       "      <td>No</td>\n",
       "      <td>5.0</td>\n",
       "      <td>Cloth</td>\n",
       "      <td>1.0</td>\n",
       "      <td>low_efficiency</td>\n",
       "      <td>114.0</td>\n",
       "      <td>11.0</td>\n",
       "    </tr>\n",
       "    <tr>\n",
       "      <th>29477</th>\n",
       "      <td>Volvo S90</td>\n",
       "      <td>Volvo</td>\n",
       "      <td>S90</td>\n",
       "      <td>NL</td>\n",
       "      <td>29900.0</td>\n",
       "      <td>Sedan</td>\n",
       "      <td>Used</td>\n",
       "      <td>4.0</td>\n",
       "      <td>Spain</td>\n",
       "      <td>Yes</td>\n",
       "      <td>94343.0</td>\n",
       "      <td>Automatic</td>\n",
       "      <td>benzine</td>\n",
       "      <td>Blue</td>\n",
       "      <td>Metallic</td>\n",
       "      <td>Dealer</td>\n",
       "      <td>5.0</td>\n",
       "      <td>1969.0</td>\n",
       "      <td>8.0</td>\n",
       "      <td>149.0</td>\n",
       "      <td>4WD</td>\n",
       "      <td>4.0</td>\n",
       "      <td>6.5</td>\n",
       "      <td>Basic</td>\n",
       "      <td>Standard</td>\n",
       "      <td>9.0</td>\n",
       "      <td>2.0</td>\n",
       "      <td>1617.0</td>\n",
       "      <td>Yes</td>\n",
       "      <td>No</td>\n",
       "      <td>6.0</td>\n",
       "      <td>Full leather</td>\n",
       "      <td>1.0</td>\n",
       "      <td>high_efficiency</td>\n",
       "      <td>254.0</td>\n",
       "      <td>5.0</td>\n",
       "    </tr>\n",
       "    <tr>\n",
       "      <th>29478</th>\n",
       "      <td>Volvo S80</td>\n",
       "      <td>Volvo</td>\n",
       "      <td>S80</td>\n",
       "      <td>NL</td>\n",
       "      <td>4440.0</td>\n",
       "      <td>Sedan</td>\n",
       "      <td>Used</td>\n",
       "      <td>4.0</td>\n",
       "      <td>Spain</td>\n",
       "      <td>No</td>\n",
       "      <td>230047.0</td>\n",
       "      <td>Automatic</td>\n",
       "      <td>benzine</td>\n",
       "      <td>Grey</td>\n",
       "      <td>Nonmetallic</td>\n",
       "      <td>Dealer</td>\n",
       "      <td>5.0</td>\n",
       "      <td>2922.0</td>\n",
       "      <td>6.0</td>\n",
       "      <td>251.0</td>\n",
       "      <td>Front</td>\n",
       "      <td>6.0</td>\n",
       "      <td>10.4</td>\n",
       "      <td>Basic</td>\n",
       "      <td>Standard</td>\n",
       "      <td>12.0</td>\n",
       "      <td>4.0</td>\n",
       "      <td>1573.0</td>\n",
       "      <td>No</td>\n",
       "      <td>No</td>\n",
       "      <td>3.0</td>\n",
       "      <td>Full leather</td>\n",
       "      <td>5.0</td>\n",
       "      <td>high_efficiency</td>\n",
       "      <td>200.0</td>\n",
       "      <td>20.0</td>\n",
       "    </tr>\n",
       "  </tbody>\n",
       "</table>\n",
       "<p>28630 rows × 36 columns</p>\n",
       "</div>"
      ],
      "text/plain": [
       "                   make_model           make       model location    price  \\\n",
       "0         Mercedes-Benz A 160  Mercedes-Benz      A 160        ES  16950.0   \n",
       "1       Mercedes-Benz EQE 350  Mercedes-Benz    EQE 350        ES  80900.0   \n",
       "2      Mercedes-Benz A 45 AMG  Mercedes-Benz   A 45 AMG        ES  69900.0   \n",
       "3      Mercedes-Benz A 35 AMG  Mercedes-Benz   A 35 AMG        ES  46990.0   \n",
       "4      Mercedes-Benz A 45 AMG  Mercedes-Benz   A 45 AMG        ES  16800.0   \n",
       "...                       ...            ...         ...      ...      ...   \n",
       "29474               Volvo S90          Volvo        S90        ES  37600.0   \n",
       "29475               Volvo S40          Volvo        S40        NL   5499.0   \n",
       "29476               Volvo C30          Volvo        C30        BE   7300.0   \n",
       "29477               Volvo S90          Volvo        S90        NL  29900.0   \n",
       "29478               Volvo S80          Volvo        S80        NL   4440.0   \n",
       "\n",
       "      body_type             type  doors country_version warranty   mileage  \\\n",
       "0       Compact             Used    5.0           Spain      Yes  120200.0   \n",
       "1       Compact   Pre-registered    4.0           Spain      Yes    5000.0   \n",
       "2       Compact             Used    5.0           Spain      Yes   18900.0   \n",
       "3       Compact             Used    5.0           Spain      Yes   18995.0   \n",
       "4       Compact             Used    5.0           Spain      Yes  197000.0   \n",
       "...         ...              ...    ...             ...      ...       ...   \n",
       "29474     Sedan             Used    4.0           Spain      Yes   40345.0   \n",
       "29475     Sedan             Used    4.0           Spain       No  145000.0   \n",
       "29476     Sedan             Used    3.0         Belgium      Yes   96000.0   \n",
       "29477     Sedan             Used    4.0           Spain      Yes   94343.0   \n",
       "29478     Sedan             Used    4.0           Spain       No  230047.0   \n",
       "\n",
       "         gearbox fuel_type  colour        paint  seller  seats  engine_size  \\\n",
       "0         Manual    diesel   Black     Metallic  Dealer    5.0       1595.0   \n",
       "1      Automatic  electric   Black  Nonmetallic  Dealer    5.0          1.0   \n",
       "2      Automatic   benzine    Grey  Nonmetallic  Dealer    5.0       1991.0   \n",
       "3      Automatic   benzine  Yellow  Nonmetallic  Dealer    5.0       1991.0   \n",
       "4      Automatic    diesel   White     Metallic  Dealer    5.0       2143.0   \n",
       "...          ...       ...     ...          ...     ...    ...          ...   \n",
       "29474  Automatic  electric   Black  Nonmetallic  Dealer    4.0       1969.0   \n",
       "29475  Automatic   benzine    Grey  Nonmetallic  Dealer    5.0       2435.0   \n",
       "29476     Manual    diesel    Grey     Metallic  Dealer    4.0       1560.0   \n",
       "29477  Automatic   benzine    Blue     Metallic  Dealer    5.0       1969.0   \n",
       "29478  Automatic   benzine    Grey  Nonmetallic  Dealer    5.0       2922.0   \n",
       "\n",
       "       gears  CO2_emissions drivetrain  cylinders  fuel_consumption  \\\n",
       "0        5.0           98.0      Front        4.0               5.4   \n",
       "1        9.0            0.0        4WD        4.0               5.0   \n",
       "2        8.0          162.0        4WD        4.0               8.4   \n",
       "3        7.0          169.0        4WD        4.0               7.3   \n",
       "4        7.0          162.0        4WD        4.0               4.9   \n",
       "...      ...            ...        ...        ...               ...   \n",
       "29474    8.0           46.0        4WD        4.0               2.0   \n",
       "29475    5.0          217.0      Front        5.0               9.1   \n",
       "29476    6.0           99.0      Front        4.0               3.8   \n",
       "29477    8.0          149.0        4WD        4.0               6.5   \n",
       "29478    6.0          251.0      Front        6.0              10.4   \n",
       "\n",
       "      comfort_convenience entertainment_media  safety_security  extras  \\\n",
       "0                   Basic            Standard             18.0     1.0   \n",
       "1                   Basic            Standard             24.0     6.0   \n",
       "2                   Basic            Standard              6.0     1.0   \n",
       "3                   Basic            Standard              5.0     1.0   \n",
       "4                   Basic            Standard              6.0     1.0   \n",
       "...                   ...                 ...              ...     ...   \n",
       "29474               Basic            Standard              8.0     1.0   \n",
       "29475               Basic            Standard             10.0     2.0   \n",
       "29476               Basic            Standard             15.0     3.0   \n",
       "29477               Basic            Standard              9.0     2.0   \n",
       "29478               Basic            Standard             12.0     4.0   \n",
       "\n",
       "       empty_weight full_service_history nonsmoker_vehicle  emission_class  \\\n",
       "0            1270.0                   No                No             6.0   \n",
       "1            2355.0                   No                No             6.0   \n",
       "2            1555.0                   No                No             6.0   \n",
       "3            1455.0                   No                No             6.0   \n",
       "4            1545.0                   No                No             6.0   \n",
       "...             ...                  ...               ...             ...   \n",
       "29474        2077.0                   No                No             6.0   \n",
       "29475        1357.0                  Yes                No             4.0   \n",
       "29476        1356.0                  Yes                No             5.0   \n",
       "29477        1617.0                  Yes                No             6.0   \n",
       "29478        1573.0                   No                No             3.0   \n",
       "\n",
       "         upholstery  previous_owner energy_efficiency_class  power_hp   age  \n",
       "0             Cloth             2.0         high_efficiency     102.0   6.0  \n",
       "1      Full leather             1.0         high_efficiency     292.0   0.0  \n",
       "2      Full leather             2.0          low_efficiency     421.0   2.0  \n",
       "3      Full leather             2.0          low_efficiency     306.0   2.0  \n",
       "4      Full leather             2.0          low_efficiency     136.0   7.0  \n",
       "...             ...             ...                     ...       ...   ...  \n",
       "29474  Full leather             2.0         high_efficiency     392.0   3.0  \n",
       "29475         Cloth             3.0         high_efficiency     170.0  18.0  \n",
       "29476         Cloth             1.0          low_efficiency     114.0  11.0  \n",
       "29477  Full leather             1.0         high_efficiency     254.0   5.0  \n",
       "29478  Full leather             5.0         high_efficiency     200.0  20.0  \n",
       "\n",
       "[28630 rows x 36 columns]"
      ]
     },
     "execution_count": 150,
     "metadata": {},
     "output_type": "execute_result"
    }
   ],
   "source": [
    "df"
   ]
  },
  {
   "cell_type": "code",
   "execution_count": 151,
   "id": "fae2a9fc",
   "metadata": {},
   "outputs": [],
   "source": [
    "df.to_csv('auto_scout_2.csv', index=False)"
   ]
  },
  {
   "cell_type": "code",
   "execution_count": null,
   "id": "64989539",
   "metadata": {},
   "outputs": [],
   "source": []
  }
 ],
 "metadata": {
  "kernelspec": {
   "display_name": "Python 3 (ipykernel)",
   "language": "python",
   "name": "python3"
  },
  "language_info": {
   "codemirror_mode": {
    "name": "ipython",
    "version": 3
   },
   "file_extension": ".py",
   "mimetype": "text/x-python",
   "name": "python",
   "nbconvert_exporter": "python",
   "pygments_lexer": "ipython3",
   "version": "3.10.12"
  },
  "toc": {
   "base_numbering": 1,
   "nav_menu": {},
   "number_sections": true,
   "sideBar": true,
   "skip_h1_title": false,
   "title_cell": "Table of Contents",
   "title_sidebar": "Contents",
   "toc_cell": false,
   "toc_position": {
    "height": "calc(100% - 180px)",
    "left": "10px",
    "top": "150px",
    "width": "383.991px"
   },
   "toc_section_display": true,
   "toc_window_display": true
  }
 },
 "nbformat": 4,
 "nbformat_minor": 5
}
